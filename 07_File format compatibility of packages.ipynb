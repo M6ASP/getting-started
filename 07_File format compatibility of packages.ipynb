{
 "cells": [
  {
   "cell_type": "markdown",
   "metadata": {},
   "source": [
    "# File format compatibility of packages"
   ]
  },
  {
   "cell_type": "markdown",
   "metadata": {},
   "source": [
    "# scipy.io.netcdf tests"
   ]
  },
  {
   "cell_type": "code",
   "execution_count": 1,
   "metadata": {},
   "outputs": [],
   "source": [
    "import scipy.io.netcdf"
   ]
  },
  {
   "cell_type": "code",
   "execution_count": 2,
   "metadata": {},
   "outputs": [
    {
     "ename": "IndexError",
     "evalue": "index 0 is out of bounds for axis 0 with size 0",
     "output_type": "error",
     "traceback": [
      "\u001b[1;31m---------------------------------------------------------------------------\u001b[0m",
      "\u001b[1;31mIndexError\u001b[0m                                Traceback (most recent call last)",
      "\u001b[1;32m<ipython-input-2-0db92114c127>\u001b[0m in \u001b[0;36m<module>\u001b[1;34m()\u001b[0m\n\u001b[1;32m----> 1\u001b[1;33m \u001b[0mtest1scipy\u001b[0m \u001b[1;33m=\u001b[0m \u001b[0mscipy\u001b[0m\u001b[1;33m.\u001b[0m\u001b[0mio\u001b[0m\u001b[1;33m.\u001b[0m\u001b[0mnetcdf_file\u001b[0m\u001b[1;33m(\u001b[0m\u001b[1;34m'example_data/WOA13_annual_SST_nc3_64bitdata.nc'\u001b[0m\u001b[1;33m)\u001b[0m\u001b[1;33m\u001b[0m\u001b[0m\n\u001b[0m",
      "\u001b[1;32mC:\\Users\\MyWork\\AppData\\Local\\conda\\conda\\envs\\py2\\lib\\site-packages\\scipy\\io\\netcdf.pyc\u001b[0m in \u001b[0;36m__init__\u001b[1;34m(self, filename, mode, mmap, version, maskandscale)\u001b[0m\n\u001b[0;32m    264\u001b[0m \u001b[1;33m\u001b[0m\u001b[0m\n\u001b[0;32m    265\u001b[0m         \u001b[1;32mif\u001b[0m \u001b[0mmode\u001b[0m \u001b[1;32min\u001b[0m \u001b[1;34m'ra'\u001b[0m\u001b[1;33m:\u001b[0m\u001b[1;33m\u001b[0m\u001b[0m\n\u001b[1;32m--> 266\u001b[1;33m             \u001b[0mself\u001b[0m\u001b[1;33m.\u001b[0m\u001b[0m_read\u001b[0m\u001b[1;33m(\u001b[0m\u001b[1;33m)\u001b[0m\u001b[1;33m\u001b[0m\u001b[0m\n\u001b[0m\u001b[0;32m    267\u001b[0m \u001b[1;33m\u001b[0m\u001b[0m\n\u001b[0;32m    268\u001b[0m     \u001b[1;32mdef\u001b[0m \u001b[0m__setattr__\u001b[0m\u001b[1;33m(\u001b[0m\u001b[0mself\u001b[0m\u001b[1;33m,\u001b[0m \u001b[0mattr\u001b[0m\u001b[1;33m,\u001b[0m \u001b[0mvalue\u001b[0m\u001b[1;33m)\u001b[0m\u001b[1;33m:\u001b[0m\u001b[1;33m\u001b[0m\u001b[0m\n",
      "\u001b[1;32mC:\\Users\\MyWork\\AppData\\Local\\conda\\conda\\envs\\py2\\lib\\site-packages\\scipy\\io\\netcdf.pyc\u001b[0m in \u001b[0;36m_read\u001b[1;34m(self)\u001b[0m\n\u001b[0;32m    589\u001b[0m         \u001b[1;31m# Read file headers and set data.\u001b[0m\u001b[1;33m\u001b[0m\u001b[1;33m\u001b[0m\u001b[0m\n\u001b[0;32m    590\u001b[0m         \u001b[0mself\u001b[0m\u001b[1;33m.\u001b[0m\u001b[0m_read_numrecs\u001b[0m\u001b[1;33m(\u001b[0m\u001b[1;33m)\u001b[0m\u001b[1;33m\u001b[0m\u001b[0m\n\u001b[1;32m--> 591\u001b[1;33m         \u001b[0mself\u001b[0m\u001b[1;33m.\u001b[0m\u001b[0m_read_dim_array\u001b[0m\u001b[1;33m(\u001b[0m\u001b[1;33m)\u001b[0m\u001b[1;33m\u001b[0m\u001b[0m\n\u001b[0m\u001b[0;32m    592\u001b[0m         \u001b[0mself\u001b[0m\u001b[1;33m.\u001b[0m\u001b[0m_read_gatt_array\u001b[0m\u001b[1;33m(\u001b[0m\u001b[1;33m)\u001b[0m\u001b[1;33m\u001b[0m\u001b[0m\n\u001b[0;32m    593\u001b[0m         \u001b[0mself\u001b[0m\u001b[1;33m.\u001b[0m\u001b[0m_read_var_array\u001b[0m\u001b[1;33m(\u001b[0m\u001b[1;33m)\u001b[0m\u001b[1;33m\u001b[0m\u001b[0m\n",
      "\u001b[1;32mC:\\Users\\MyWork\\AppData\\Local\\conda\\conda\\envs\\py2\\lib\\site-packages\\scipy\\io\\netcdf.pyc\u001b[0m in \u001b[0;36m_read_dim_array\u001b[1;34m(self)\u001b[0m\n\u001b[0;32m    604\u001b[0m         \u001b[1;32mfor\u001b[0m \u001b[0mdim\u001b[0m \u001b[1;32min\u001b[0m \u001b[0mrange\u001b[0m\u001b[1;33m(\u001b[0m\u001b[0mcount\u001b[0m\u001b[1;33m)\u001b[0m\u001b[1;33m:\u001b[0m\u001b[1;33m\u001b[0m\u001b[0m\n\u001b[0;32m    605\u001b[0m             \u001b[0mname\u001b[0m \u001b[1;33m=\u001b[0m \u001b[0masstr\u001b[0m\u001b[1;33m(\u001b[0m\u001b[0mself\u001b[0m\u001b[1;33m.\u001b[0m\u001b[0m_unpack_string\u001b[0m\u001b[1;33m(\u001b[0m\u001b[1;33m)\u001b[0m\u001b[1;33m)\u001b[0m\u001b[1;33m\u001b[0m\u001b[0m\n\u001b[1;32m--> 606\u001b[1;33m             \u001b[0mlength\u001b[0m \u001b[1;33m=\u001b[0m \u001b[0mself\u001b[0m\u001b[1;33m.\u001b[0m\u001b[0m_unpack_int\u001b[0m\u001b[1;33m(\u001b[0m\u001b[1;33m)\u001b[0m \u001b[1;32mor\u001b[0m \u001b[0mNone\u001b[0m  \u001b[1;31m# None for record dimension\u001b[0m\u001b[1;33m\u001b[0m\u001b[0m\n\u001b[0m\u001b[0;32m    607\u001b[0m             \u001b[0mself\u001b[0m\u001b[1;33m.\u001b[0m\u001b[0mdimensions\u001b[0m\u001b[1;33m[\u001b[0m\u001b[0mname\u001b[0m\u001b[1;33m]\u001b[0m \u001b[1;33m=\u001b[0m \u001b[0mlength\u001b[0m\u001b[1;33m\u001b[0m\u001b[0m\n\u001b[0;32m    608\u001b[0m             \u001b[0mself\u001b[0m\u001b[1;33m.\u001b[0m\u001b[0m_dims\u001b[0m\u001b[1;33m.\u001b[0m\u001b[0mappend\u001b[0m\u001b[1;33m(\u001b[0m\u001b[0mname\u001b[0m\u001b[1;33m)\u001b[0m  \u001b[1;31m# preserve order\u001b[0m\u001b[1;33m\u001b[0m\u001b[0m\n",
      "\u001b[1;32mC:\\Users\\MyWork\\AppData\\Local\\conda\\conda\\envs\\py2\\lib\\site-packages\\scipy\\io\\netcdf.pyc\u001b[0m in \u001b[0;36m_unpack_int\u001b[1;34m(self)\u001b[0m\n\u001b[0;32m    762\u001b[0m \u001b[1;33m\u001b[0m\u001b[0m\n\u001b[0;32m    763\u001b[0m     \u001b[1;32mdef\u001b[0m \u001b[0m_unpack_int\u001b[0m\u001b[1;33m(\u001b[0m\u001b[0mself\u001b[0m\u001b[1;33m)\u001b[0m\u001b[1;33m:\u001b[0m\u001b[1;33m\u001b[0m\u001b[0m\n\u001b[1;32m--> 764\u001b[1;33m         \u001b[1;32mreturn\u001b[0m \u001b[0mint\u001b[0m\u001b[1;33m(\u001b[0m\u001b[0mfromstring\u001b[0m\u001b[1;33m(\u001b[0m\u001b[0mself\u001b[0m\u001b[1;33m.\u001b[0m\u001b[0mfp\u001b[0m\u001b[1;33m.\u001b[0m\u001b[0mread\u001b[0m\u001b[1;33m(\u001b[0m\u001b[1;36m4\u001b[0m\u001b[1;33m)\u001b[0m\u001b[1;33m,\u001b[0m \u001b[1;34m'>i'\u001b[0m\u001b[1;33m)\u001b[0m\u001b[1;33m[\u001b[0m\u001b[1;36m0\u001b[0m\u001b[1;33m]\u001b[0m\u001b[1;33m)\u001b[0m\u001b[1;33m\u001b[0m\u001b[0m\n\u001b[0m\u001b[0;32m    765\u001b[0m     \u001b[0m_unpack_int32\u001b[0m \u001b[1;33m=\u001b[0m \u001b[0m_unpack_int\u001b[0m\u001b[1;33m\u001b[0m\u001b[0m\n\u001b[0;32m    766\u001b[0m \u001b[1;33m\u001b[0m\u001b[0m\n",
      "\u001b[1;31mIndexError\u001b[0m: index 0 is out of bounds for axis 0 with size 0"
     ]
    }
   ],
   "source": [
    "test1scipy = scipy.io.netcdf_file('example_data/WOA13_annual_SST_nc3_64bitdata.nc')"
   ]
  },
  {
   "cell_type": "code",
   "execution_count": 3,
   "metadata": {},
   "outputs": [],
   "source": [
    "test2scipy = scipy.io.netcdf_file('example_data/WOA13_annual_SST_nc3_64bitoffset.nc')"
   ]
  },
  {
   "cell_type": "code",
   "execution_count": 4,
   "metadata": {},
   "outputs": [
    {
     "data": {
      "text/plain": [
       "{'Conventions': 'CF-1.6',\n",
       " 'Metadata_Conventions': 'Unidata Dataset Discovery v1.0',\n",
       " '_attributes': OrderedDict([('Conventions', 'CF-1.6'),\n",
       "              ('title',\n",
       "               'World Ocean Atlas 2013 version 2 : sea_surface_temperature Annual 1.00 degree'),\n",
       "              ('summary',\n",
       "               'Climatological mean temperature for the global ocean from in situ profile data'),\n",
       "              ('references',\n",
       "               'Locarnini, R. A., A. V. Mishonov, J. I. Antonov, T. P. Boyer, H. E. Garcia, O. K. Baranova, M. M. Zweng, C. R. Paver, J. R. Reagan,D. R. Johnson, M. Hamilton, and D. Seidov , 2013: World Ocean Atlas 2013, Volume 1: Temperature. S. Levitus, Ed., A. Mishonov technical editor, NOAA Atlas NESDIS 73.'),\n",
       "              ('institution', 'National Oceanographic Data Center(NODC)'),\n",
       "              ('comment',\n",
       "               'global climatology as part of the World Ocean Atlas project'),\n",
       "              ('id', 'woa13_decav_t00_01.ncv2.0'),\n",
       "              ('naming_authority', 'gov.noaa.nodc'),\n",
       "              ('standard_name_vocabulary',\n",
       "               'NetCDF Climate and Forecast (CF) Metadata Convention Standard Name Table v29'),\n",
       "              ('sea_name', 'World-Wide Distribution'),\n",
       "              ('time_coverage_start', '0000-01-01'),\n",
       "              ('time_coverage_duration', 'P01Y'),\n",
       "              ('time_coverage_resolution', 'P01Y'),\n",
       "              ('geospatial_lat_min', -90.0),\n",
       "              ('geospatial_lat_max', 90.0),\n",
       "              ('geospatial_lon_min', -180.0),\n",
       "              ('geospatial_lon_max', 180.0),\n",
       "              ('geospatial_vertical_min', 0.0),\n",
       "              ('geospatial_vertical_max', 5500.0),\n",
       "              ('geospatial_lat_units', 'degrees_north'),\n",
       "              ('geospatial_lat_resolution', '1.00 degrees'),\n",
       "              ('geospatial_lon_units', 'degrees_east'),\n",
       "              ('geospatial_lon_resolution', '1.00 degrees'),\n",
       "              ('geospatial_vertical_units', 'm'),\n",
       "              ('geospatial_vertical_positive', 'down'),\n",
       "              ('creator_name', 'Ocean Climate Laboratory'),\n",
       "              ('creator_email', 'NODC.Services@noaa.gov'),\n",
       "              ('creator_url', 'http://www.nodc.noaa.gov'),\n",
       "              ('project', 'World Ocean Atlas'),\n",
       "              ('processing_level', 'processed'),\n",
       "              ('keywords', '<ISO_TOPIC_Category> Oceans</ISO_TOPIC_Category>'),\n",
       "              ('keywords_vocabulary', 'ISO 19115'),\n",
       "              ('contributor_name', 'Ocean Climate Laboratory'),\n",
       "              ('contributor_role', 'Calculation of climatologies'),\n",
       "              ('cdm_data_type', 'Grid'),\n",
       "              ('publisher_name', 'National Oceanographic Data Center'),\n",
       "              ('publisher_url', 'http://www.nodc.noaa.gov/'),\n",
       "              ('publisher_email', 'NODC.Services@noaa.gov'),\n",
       "              ('nodc_template_version', 'NODC_NetCDF_Grid_Template_v1.0'),\n",
       "              ('license',\n",
       "               'These data are openly available to the public. Please acknowledge the use of these data with the text given in the acknowledgment attribute.'),\n",
       "              ('Metadata_Conventions', 'Unidata Dataset Discovery v1.0'),\n",
       "              ('metadata_link',\n",
       "               'http://www.nodc.noaa.gov/OC5/WOA13/pr_woa13.html'),\n",
       "              ('date_created', '2011-09-28 '),\n",
       "              ('date_modified', '2011-09-28 ')]),\n",
       " '_dims': ['depth', 'lat', 'lon', 'nbounds'],\n",
       " '_mm': <mmap.mmap at 0x718e850>,\n",
       " '_mm_buf': array([ 67,  68,  70, ..., -55, 127, -73], dtype=int8),\n",
       " '_recs': 0,\n",
       " '_recsize': 0,\n",
       " 'cdm_data_type': 'Grid',\n",
       " 'comment': 'global climatology as part of the World Ocean Atlas project',\n",
       " 'contributor_name': 'Ocean Climate Laboratory',\n",
       " 'contributor_role': 'Calculation of climatologies',\n",
       " 'creator_email': 'NODC.Services@noaa.gov',\n",
       " 'creator_name': 'Ocean Climate Laboratory',\n",
       " 'creator_url': 'http://www.nodc.noaa.gov',\n",
       " 'date_created': '2011-09-28 ',\n",
       " 'date_modified': '2011-09-28 ',\n",
       " 'dimensions': OrderedDict([('depth', 102),\n",
       "              ('lat', 180),\n",
       "              ('lon', 360),\n",
       "              ('nbounds', 2)]),\n",
       " 'filename': 'example_data/WOA13_annual_SST_nc3_64bitoffset.nc',\n",
       " 'fp': <open file 'example_data/WOA13_annual_SST_nc3_64bitoffset.nc', mode 'rb' at 0x000000000717C9C0>,\n",
       " 'geospatial_lat_max': 90.0,\n",
       " 'geospatial_lat_min': -90.0,\n",
       " 'geospatial_lat_resolution': '1.00 degrees',\n",
       " 'geospatial_lat_units': 'degrees_north',\n",
       " 'geospatial_lon_max': 180.0,\n",
       " 'geospatial_lon_min': -180.0,\n",
       " 'geospatial_lon_resolution': '1.00 degrees',\n",
       " 'geospatial_lon_units': 'degrees_east',\n",
       " 'geospatial_vertical_max': 5500.0,\n",
       " 'geospatial_vertical_min': 0.0,\n",
       " 'geospatial_vertical_positive': 'down',\n",
       " 'geospatial_vertical_units': 'm',\n",
       " 'id': 'woa13_decav_t00_01.ncv2.0',\n",
       " 'institution': 'National Oceanographic Data Center(NODC)',\n",
       " 'keywords': '<ISO_TOPIC_Category> Oceans</ISO_TOPIC_Category>',\n",
       " 'keywords_vocabulary': 'ISO 19115',\n",
       " 'license': 'These data are openly available to the public. Please acknowledge the use of these data with the text given in the acknowledgment attribute.',\n",
       " 'maskandscale': False,\n",
       " 'metadata_link': 'http://www.nodc.noaa.gov/OC5/WOA13/pr_woa13.html',\n",
       " 'mode': 'r',\n",
       " 'naming_authority': 'gov.noaa.nodc',\n",
       " 'nodc_template_version': 'NODC_NetCDF_Grid_Template_v1.0',\n",
       " 'processing_level': 'processed',\n",
       " 'project': 'World Ocean Atlas',\n",
       " 'publisher_email': 'NODC.Services@noaa.gov',\n",
       " 'publisher_name': 'National Oceanographic Data Center',\n",
       " 'publisher_url': 'http://www.nodc.noaa.gov/',\n",
       " 'references': 'Locarnini, R. A., A. V. Mishonov, J. I. Antonov, T. P. Boyer, H. E. Garcia, O. K. Baranova, M. M. Zweng, C. R. Paver, J. R. Reagan,D. R. Johnson, M. Hamilton, and D. Seidov , 2013: World Ocean Atlas 2013, Volume 1: Temperature. S. Levitus, Ed., A. Mishonov technical editor, NOAA Atlas NESDIS 73.',\n",
       " 'sea_name': 'World-Wide Distribution',\n",
       " 'standard_name_vocabulary': 'NetCDF Climate and Forecast (CF) Metadata Convention Standard Name Table v29',\n",
       " 'summary': 'Climatological mean temperature for the global ocean from in situ profile data',\n",
       " 'time_coverage_duration': 'P01Y',\n",
       " 'time_coverage_resolution': 'P01Y',\n",
       " 'time_coverage_start': '0000-01-01',\n",
       " 'title': 'World Ocean Atlas 2013 version 2 : sea_surface_temperature Annual 1.00 degree',\n",
       " 'use_mmap': True,\n",
       " 'variables': OrderedDict([('lat',\n",
       "               <scipy.io.netcdf.netcdf_variable at 0x7198710>),\n",
       "              ('lon', <scipy.io.netcdf.netcdf_variable at 0x71987b8>),\n",
       "              ('tos', <scipy.io.netcdf.netcdf_variable at 0x71987f0>)]),\n",
       " 'version_byte': 2}"
      ]
     },
     "execution_count": 4,
     "metadata": {},
     "output_type": "execute_result"
    }
   ],
   "source": [
    "test2scipy.__dict__"
   ]
  },
  {
   "cell_type": "code",
   "execution_count": 5,
   "metadata": {},
   "outputs": [],
   "source": [
    "test3scipy = scipy.io.netcdf_file('example_data/WOA13_annual_SST_nc3_classic.nc')"
   ]
  },
  {
   "cell_type": "code",
   "execution_count": 6,
   "metadata": {},
   "outputs": [
    {
     "data": {
      "text/plain": [
       "{'Conventions': 'CF-1.6',\n",
       " 'Metadata_Conventions': 'Unidata Dataset Discovery v1.0',\n",
       " '_attributes': OrderedDict([('Conventions', 'CF-1.6'),\n",
       "              ('title',\n",
       "               'World Ocean Atlas 2013 version 2 : sea_surface_temperature Annual 1.00 degree'),\n",
       "              ('summary',\n",
       "               'Climatological mean temperature for the global ocean from in situ profile data'),\n",
       "              ('references',\n",
       "               'Locarnini, R. A., A. V. Mishonov, J. I. Antonov, T. P. Boyer, H. E. Garcia, O. K. Baranova, M. M. Zweng, C. R. Paver, J. R. Reagan,D. R. Johnson, M. Hamilton, and D. Seidov , 2013: World Ocean Atlas 2013, Volume 1: Temperature. S. Levitus, Ed., A. Mishonov technical editor, NOAA Atlas NESDIS 73.'),\n",
       "              ('institution', 'National Oceanographic Data Center(NODC)'),\n",
       "              ('comment',\n",
       "               'global climatology as part of the World Ocean Atlas project'),\n",
       "              ('id', 'woa13_decav_t00_01.ncv2.0'),\n",
       "              ('naming_authority', 'gov.noaa.nodc'),\n",
       "              ('standard_name_vocabulary',\n",
       "               'NetCDF Climate and Forecast (CF) Metadata Convention Standard Name Table v29'),\n",
       "              ('sea_name', 'World-Wide Distribution'),\n",
       "              ('time_coverage_start', '0000-01-01'),\n",
       "              ('time_coverage_duration', 'P01Y'),\n",
       "              ('time_coverage_resolution', 'P01Y'),\n",
       "              ('geospatial_lat_min', -90.0),\n",
       "              ('geospatial_lat_max', 90.0),\n",
       "              ('geospatial_lon_min', -180.0),\n",
       "              ('geospatial_lon_max', 180.0),\n",
       "              ('geospatial_vertical_min', 0.0),\n",
       "              ('geospatial_vertical_max', 5500.0),\n",
       "              ('geospatial_lat_units', 'degrees_north'),\n",
       "              ('geospatial_lat_resolution', '1.00 degrees'),\n",
       "              ('geospatial_lon_units', 'degrees_east'),\n",
       "              ('geospatial_lon_resolution', '1.00 degrees'),\n",
       "              ('geospatial_vertical_units', 'm'),\n",
       "              ('geospatial_vertical_positive', 'down'),\n",
       "              ('creator_name', 'Ocean Climate Laboratory'),\n",
       "              ('creator_email', 'NODC.Services@noaa.gov'),\n",
       "              ('creator_url', 'http://www.nodc.noaa.gov'),\n",
       "              ('project', 'World Ocean Atlas'),\n",
       "              ('processing_level', 'processed'),\n",
       "              ('keywords', '<ISO_TOPIC_Category> Oceans</ISO_TOPIC_Category>'),\n",
       "              ('keywords_vocabulary', 'ISO 19115'),\n",
       "              ('contributor_name', 'Ocean Climate Laboratory'),\n",
       "              ('contributor_role', 'Calculation of climatologies'),\n",
       "              ('cdm_data_type', 'Grid'),\n",
       "              ('publisher_name', 'National Oceanographic Data Center'),\n",
       "              ('publisher_url', 'http://www.nodc.noaa.gov/'),\n",
       "              ('publisher_email', 'NODC.Services@noaa.gov'),\n",
       "              ('nodc_template_version', 'NODC_NetCDF_Grid_Template_v1.0'),\n",
       "              ('license',\n",
       "               'These data are openly available to the public. Please acknowledge the use of these data with the text given in the acknowledgment attribute.'),\n",
       "              ('Metadata_Conventions', 'Unidata Dataset Discovery v1.0'),\n",
       "              ('metadata_link',\n",
       "               'http://www.nodc.noaa.gov/OC5/WOA13/pr_woa13.html'),\n",
       "              ('date_created', '2011-09-28 '),\n",
       "              ('date_modified', '2011-09-28 ')]),\n",
       " '_dims': ['depth', 'lat', 'lon', 'nbounds'],\n",
       " '_mm': <mmap.mmap at 0x718e8a0>,\n",
       " '_mm_buf': array([ 67,  68,  70, ..., -55, 127, -73], dtype=int8),\n",
       " '_recs': 0,\n",
       " '_recsize': 0,\n",
       " 'cdm_data_type': 'Grid',\n",
       " 'comment': 'global climatology as part of the World Ocean Atlas project',\n",
       " 'contributor_name': 'Ocean Climate Laboratory',\n",
       " 'contributor_role': 'Calculation of climatologies',\n",
       " 'creator_email': 'NODC.Services@noaa.gov',\n",
       " 'creator_name': 'Ocean Climate Laboratory',\n",
       " 'creator_url': 'http://www.nodc.noaa.gov',\n",
       " 'date_created': '2011-09-28 ',\n",
       " 'date_modified': '2011-09-28 ',\n",
       " 'dimensions': OrderedDict([('depth', 102),\n",
       "              ('lat', 180),\n",
       "              ('lon', 360),\n",
       "              ('nbounds', 2)]),\n",
       " 'filename': 'example_data/WOA13_annual_SST_nc3_classic.nc',\n",
       " 'fp': <open file 'example_data/WOA13_annual_SST_nc3_classic.nc', mode 'rb' at 0x000000000717CB70>,\n",
       " 'geospatial_lat_max': 90.0,\n",
       " 'geospatial_lat_min': -90.0,\n",
       " 'geospatial_lat_resolution': '1.00 degrees',\n",
       " 'geospatial_lat_units': 'degrees_north',\n",
       " 'geospatial_lon_max': 180.0,\n",
       " 'geospatial_lon_min': -180.0,\n",
       " 'geospatial_lon_resolution': '1.00 degrees',\n",
       " 'geospatial_lon_units': 'degrees_east',\n",
       " 'geospatial_vertical_max': 5500.0,\n",
       " 'geospatial_vertical_min': 0.0,\n",
       " 'geospatial_vertical_positive': 'down',\n",
       " 'geospatial_vertical_units': 'm',\n",
       " 'id': 'woa13_decav_t00_01.ncv2.0',\n",
       " 'institution': 'National Oceanographic Data Center(NODC)',\n",
       " 'keywords': '<ISO_TOPIC_Category> Oceans</ISO_TOPIC_Category>',\n",
       " 'keywords_vocabulary': 'ISO 19115',\n",
       " 'license': 'These data are openly available to the public. Please acknowledge the use of these data with the text given in the acknowledgment attribute.',\n",
       " 'maskandscale': False,\n",
       " 'metadata_link': 'http://www.nodc.noaa.gov/OC5/WOA13/pr_woa13.html',\n",
       " 'mode': 'r',\n",
       " 'naming_authority': 'gov.noaa.nodc',\n",
       " 'nodc_template_version': 'NODC_NetCDF_Grid_Template_v1.0',\n",
       " 'processing_level': 'processed',\n",
       " 'project': 'World Ocean Atlas',\n",
       " 'publisher_email': 'NODC.Services@noaa.gov',\n",
       " 'publisher_name': 'National Oceanographic Data Center',\n",
       " 'publisher_url': 'http://www.nodc.noaa.gov/',\n",
       " 'references': 'Locarnini, R. A., A. V. Mishonov, J. I. Antonov, T. P. Boyer, H. E. Garcia, O. K. Baranova, M. M. Zweng, C. R. Paver, J. R. Reagan,D. R. Johnson, M. Hamilton, and D. Seidov , 2013: World Ocean Atlas 2013, Volume 1: Temperature. S. Levitus, Ed., A. Mishonov technical editor, NOAA Atlas NESDIS 73.',\n",
       " 'sea_name': 'World-Wide Distribution',\n",
       " 'standard_name_vocabulary': 'NetCDF Climate and Forecast (CF) Metadata Convention Standard Name Table v29',\n",
       " 'summary': 'Climatological mean temperature for the global ocean from in situ profile data',\n",
       " 'time_coverage_duration': 'P01Y',\n",
       " 'time_coverage_resolution': 'P01Y',\n",
       " 'time_coverage_start': '0000-01-01',\n",
       " 'title': 'World Ocean Atlas 2013 version 2 : sea_surface_temperature Annual 1.00 degree',\n",
       " 'use_mmap': True,\n",
       " 'variables': OrderedDict([('lat',\n",
       "               <scipy.io.netcdf.netcdf_variable at 0x721f6d8>),\n",
       "              ('lon', <scipy.io.netcdf.netcdf_variable at 0x721f710>),\n",
       "              ('tos', <scipy.io.netcdf.netcdf_variable at 0x721f748>)]),\n",
       " 'version_byte': 1}"
      ]
     },
     "execution_count": 6,
     "metadata": {},
     "output_type": "execute_result"
    }
   ],
   "source": [
    "test3scipy.__dict__"
   ]
  },
  {
   "cell_type": "code",
   "execution_count": 7,
   "metadata": {},
   "outputs": [
    {
     "ename": "TypeError",
     "evalue": "Error: example_data/WOA13_annual_SST_nc4_classic.nc is not a valid NetCDF 3 file",
     "output_type": "error",
     "traceback": [
      "\u001b[1;31m---------------------------------------------------------------------------\u001b[0m",
      "\u001b[1;31mTypeError\u001b[0m                                 Traceback (most recent call last)",
      "\u001b[1;32m<ipython-input-7-2f205234520e>\u001b[0m in \u001b[0;36m<module>\u001b[1;34m()\u001b[0m\n\u001b[1;32m----> 1\u001b[1;33m \u001b[0mtest4scipy\u001b[0m \u001b[1;33m=\u001b[0m \u001b[0mscipy\u001b[0m\u001b[1;33m.\u001b[0m\u001b[0mio\u001b[0m\u001b[1;33m.\u001b[0m\u001b[0mnetcdf_file\u001b[0m\u001b[1;33m(\u001b[0m\u001b[1;34m'example_data/WOA13_annual_SST_nc4_classic.nc'\u001b[0m\u001b[1;33m)\u001b[0m\u001b[1;33m\u001b[0m\u001b[0m\n\u001b[0m",
      "\u001b[1;32mC:\\Users\\MyWork\\AppData\\Local\\conda\\conda\\envs\\py2\\lib\\site-packages\\scipy\\io\\netcdf.pyc\u001b[0m in \u001b[0;36m__init__\u001b[1;34m(self, filename, mode, mmap, version, maskandscale)\u001b[0m\n\u001b[0;32m    264\u001b[0m \u001b[1;33m\u001b[0m\u001b[0m\n\u001b[0;32m    265\u001b[0m         \u001b[1;32mif\u001b[0m \u001b[0mmode\u001b[0m \u001b[1;32min\u001b[0m \u001b[1;34m'ra'\u001b[0m\u001b[1;33m:\u001b[0m\u001b[1;33m\u001b[0m\u001b[0m\n\u001b[1;32m--> 266\u001b[1;33m             \u001b[0mself\u001b[0m\u001b[1;33m.\u001b[0m\u001b[0m_read\u001b[0m\u001b[1;33m(\u001b[0m\u001b[1;33m)\u001b[0m\u001b[1;33m\u001b[0m\u001b[0m\n\u001b[0m\u001b[0;32m    267\u001b[0m \u001b[1;33m\u001b[0m\u001b[0m\n\u001b[0;32m    268\u001b[0m     \u001b[1;32mdef\u001b[0m \u001b[0m__setattr__\u001b[0m\u001b[1;33m(\u001b[0m\u001b[0mself\u001b[0m\u001b[1;33m,\u001b[0m \u001b[0mattr\u001b[0m\u001b[1;33m,\u001b[0m \u001b[0mvalue\u001b[0m\u001b[1;33m)\u001b[0m\u001b[1;33m:\u001b[0m\u001b[1;33m\u001b[0m\u001b[0m\n",
      "\u001b[1;32mC:\\Users\\MyWork\\AppData\\Local\\conda\\conda\\envs\\py2\\lib\\site-packages\\scipy\\io\\netcdf.pyc\u001b[0m in \u001b[0;36m_read\u001b[1;34m(self)\u001b[0m\n\u001b[0;32m    584\u001b[0m         \u001b[1;32mif\u001b[0m \u001b[1;32mnot\u001b[0m \u001b[0mmagic\u001b[0m \u001b[1;33m==\u001b[0m \u001b[1;34mb'CDF'\u001b[0m\u001b[1;33m:\u001b[0m\u001b[1;33m\u001b[0m\u001b[0m\n\u001b[0;32m    585\u001b[0m             raise TypeError(\"Error: %s is not a valid NetCDF 3 file\" %\n\u001b[1;32m--> 586\u001b[1;33m                             self.filename)\n\u001b[0m\u001b[0;32m    587\u001b[0m         \u001b[0mself\u001b[0m\u001b[1;33m.\u001b[0m\u001b[0m__dict__\u001b[0m\u001b[1;33m[\u001b[0m\u001b[1;34m'version_byte'\u001b[0m\u001b[1;33m]\u001b[0m \u001b[1;33m=\u001b[0m \u001b[0mfromstring\u001b[0m\u001b[1;33m(\u001b[0m\u001b[0mself\u001b[0m\u001b[1;33m.\u001b[0m\u001b[0mfp\u001b[0m\u001b[1;33m.\u001b[0m\u001b[0mread\u001b[0m\u001b[1;33m(\u001b[0m\u001b[1;36m1\u001b[0m\u001b[1;33m)\u001b[0m\u001b[1;33m,\u001b[0m \u001b[1;34m'>b'\u001b[0m\u001b[1;33m)\u001b[0m\u001b[1;33m[\u001b[0m\u001b[1;36m0\u001b[0m\u001b[1;33m]\u001b[0m\u001b[1;33m\u001b[0m\u001b[0m\n\u001b[0;32m    588\u001b[0m \u001b[1;33m\u001b[0m\u001b[0m\n",
      "\u001b[1;31mTypeError\u001b[0m: Error: example_data/WOA13_annual_SST_nc4_classic.nc is not a valid NetCDF 3 file"
     ]
    }
   ],
   "source": [
    "test4scipy = scipy.io.netcdf_file('example_data/WOA13_annual_SST_nc4_classic.nc')"
   ]
  },
  {
   "cell_type": "code",
   "execution_count": 8,
   "metadata": {},
   "outputs": [
    {
     "ename": "TypeError",
     "evalue": "Error: example_data/WOA13_annual_SST_nc4.nc is not a valid NetCDF 3 file",
     "output_type": "error",
     "traceback": [
      "\u001b[1;31m---------------------------------------------------------------------------\u001b[0m",
      "\u001b[1;31mTypeError\u001b[0m                                 Traceback (most recent call last)",
      "\u001b[1;32m<ipython-input-8-7c5df825e99e>\u001b[0m in \u001b[0;36m<module>\u001b[1;34m()\u001b[0m\n\u001b[1;32m----> 1\u001b[1;33m \u001b[0mtest5scipy\u001b[0m \u001b[1;33m=\u001b[0m \u001b[0mscipy\u001b[0m\u001b[1;33m.\u001b[0m\u001b[0mio\u001b[0m\u001b[1;33m.\u001b[0m\u001b[0mnetcdf_file\u001b[0m\u001b[1;33m(\u001b[0m\u001b[1;34m'example_data/WOA13_annual_SST_nc4.nc'\u001b[0m\u001b[1;33m)\u001b[0m\u001b[1;33m\u001b[0m\u001b[0m\n\u001b[0m",
      "\u001b[1;32mC:\\Users\\MyWork\\AppData\\Local\\conda\\conda\\envs\\py2\\lib\\site-packages\\scipy\\io\\netcdf.pyc\u001b[0m in \u001b[0;36m__init__\u001b[1;34m(self, filename, mode, mmap, version, maskandscale)\u001b[0m\n\u001b[0;32m    264\u001b[0m \u001b[1;33m\u001b[0m\u001b[0m\n\u001b[0;32m    265\u001b[0m         \u001b[1;32mif\u001b[0m \u001b[0mmode\u001b[0m \u001b[1;32min\u001b[0m \u001b[1;34m'ra'\u001b[0m\u001b[1;33m:\u001b[0m\u001b[1;33m\u001b[0m\u001b[0m\n\u001b[1;32m--> 266\u001b[1;33m             \u001b[0mself\u001b[0m\u001b[1;33m.\u001b[0m\u001b[0m_read\u001b[0m\u001b[1;33m(\u001b[0m\u001b[1;33m)\u001b[0m\u001b[1;33m\u001b[0m\u001b[0m\n\u001b[0m\u001b[0;32m    267\u001b[0m \u001b[1;33m\u001b[0m\u001b[0m\n\u001b[0;32m    268\u001b[0m     \u001b[1;32mdef\u001b[0m \u001b[0m__setattr__\u001b[0m\u001b[1;33m(\u001b[0m\u001b[0mself\u001b[0m\u001b[1;33m,\u001b[0m \u001b[0mattr\u001b[0m\u001b[1;33m,\u001b[0m \u001b[0mvalue\u001b[0m\u001b[1;33m)\u001b[0m\u001b[1;33m:\u001b[0m\u001b[1;33m\u001b[0m\u001b[0m\n",
      "\u001b[1;32mC:\\Users\\MyWork\\AppData\\Local\\conda\\conda\\envs\\py2\\lib\\site-packages\\scipy\\io\\netcdf.pyc\u001b[0m in \u001b[0;36m_read\u001b[1;34m(self)\u001b[0m\n\u001b[0;32m    584\u001b[0m         \u001b[1;32mif\u001b[0m \u001b[1;32mnot\u001b[0m \u001b[0mmagic\u001b[0m \u001b[1;33m==\u001b[0m \u001b[1;34mb'CDF'\u001b[0m\u001b[1;33m:\u001b[0m\u001b[1;33m\u001b[0m\u001b[0m\n\u001b[0;32m    585\u001b[0m             raise TypeError(\"Error: %s is not a valid NetCDF 3 file\" %\n\u001b[1;32m--> 586\u001b[1;33m                             self.filename)\n\u001b[0m\u001b[0;32m    587\u001b[0m         \u001b[0mself\u001b[0m\u001b[1;33m.\u001b[0m\u001b[0m__dict__\u001b[0m\u001b[1;33m[\u001b[0m\u001b[1;34m'version_byte'\u001b[0m\u001b[1;33m]\u001b[0m \u001b[1;33m=\u001b[0m \u001b[0mfromstring\u001b[0m\u001b[1;33m(\u001b[0m\u001b[0mself\u001b[0m\u001b[1;33m.\u001b[0m\u001b[0mfp\u001b[0m\u001b[1;33m.\u001b[0m\u001b[0mread\u001b[0m\u001b[1;33m(\u001b[0m\u001b[1;36m1\u001b[0m\u001b[1;33m)\u001b[0m\u001b[1;33m,\u001b[0m \u001b[1;34m'>b'\u001b[0m\u001b[1;33m)\u001b[0m\u001b[1;33m[\u001b[0m\u001b[1;36m0\u001b[0m\u001b[1;33m]\u001b[0m\u001b[1;33m\u001b[0m\u001b[0m\n\u001b[0;32m    588\u001b[0m \u001b[1;33m\u001b[0m\u001b[0m\n",
      "\u001b[1;31mTypeError\u001b[0m: Error: example_data/WOA13_annual_SST_nc4.nc is not a valid NetCDF 3 file"
     ]
    }
   ],
   "source": [
    "test5scipy = scipy.io.netcdf_file('example_data/WOA13_annual_SST_nc4.nc')"
   ]
  },
  {
   "cell_type": "markdown",
   "metadata": {},
   "source": [
    "## results\n",
    "'WOA13_annual_SST_nc3_64bitdata.nc' **FAIL**\n",
    "\n",
    "'WOA13_annual_SST_nc3_64bitoffset.nc' **SUCCESS**\n",
    "\n",
    "'WOA13_annual_SST_nc3_classic.nc' **SUCCESS**\n",
    "\n",
    "'WOA13_annual_SST_nc4_classic.nc' **FAIL**\n",
    "\n",
    "'WOA13_annual_SST_nc4.nc' **FAIL**"
   ]
  },
  {
   "cell_type": "markdown",
   "metadata": {},
   "source": [
    "# netCDF4 tests"
   ]
  },
  {
   "cell_type": "code",
   "execution_count": 9,
   "metadata": {},
   "outputs": [],
   "source": [
    "import netCDF4\n",
    "from netCDF4 import Dataset"
   ]
  },
  {
   "cell_type": "code",
   "execution_count": 10,
   "metadata": {},
   "outputs": [
    {
     "ename": "IOError",
     "evalue": "[Errno -51] NetCDF: Unknown file format: 'example_data/WOA13_annual_SST_nc3_64bitdata.nc'",
     "output_type": "error",
     "traceback": [
      "\u001b[1;31m---------------------------------------------------------------------------\u001b[0m",
      "\u001b[1;31mIOError\u001b[0m                                   Traceback (most recent call last)",
      "\u001b[1;32m<ipython-input-10-b3d271f8e643>\u001b[0m in \u001b[0;36m<module>\u001b[1;34m()\u001b[0m\n\u001b[1;32m----> 1\u001b[1;33m \u001b[0mtest1netCDF4\u001b[0m \u001b[1;33m=\u001b[0m \u001b[0mDataset\u001b[0m\u001b[1;33m(\u001b[0m\u001b[1;34m'example_data/WOA13_annual_SST_nc3_64bitdata.nc'\u001b[0m\u001b[1;33m)\u001b[0m\u001b[1;33m\u001b[0m\u001b[0m\n\u001b[0m",
      "\u001b[1;32mnetCDF4\\_netCDF4.pyx\u001b[0m in \u001b[0;36mnetCDF4._netCDF4.Dataset.__init__\u001b[1;34m()\u001b[0m\n",
      "\u001b[1;32mnetCDF4\\_netCDF4.pyx\u001b[0m in \u001b[0;36mnetCDF4._netCDF4._ensure_nc_success\u001b[1;34m()\u001b[0m\n",
      "\u001b[1;31mIOError\u001b[0m: [Errno -51] NetCDF: Unknown file format: 'example_data/WOA13_annual_SST_nc3_64bitdata.nc'"
     ]
    }
   ],
   "source": [
    "test1netCDF4 = Dataset('example_data/WOA13_annual_SST_nc3_64bitdata.nc')"
   ]
  },
  {
   "cell_type": "code",
   "execution_count": 11,
   "metadata": {},
   "outputs": [],
   "source": [
    "test2netCDF4 = Dataset('example_data/WOA13_annual_SST_nc3_64bitoffset.nc')"
   ]
  },
  {
   "cell_type": "code",
   "execution_count": 12,
   "metadata": {},
   "outputs": [
    {
     "data": {
      "text/plain": [
       "<type 'netCDF4._netCDF4.Dataset'>\n",
       "root group (NETCDF3_64BIT_OFFSET data model, file format NETCDF3):\n",
       "    Conventions: CF-1.6\n",
       "    title: World Ocean Atlas 2013 version 2 : sea_surface_temperature Annual 1.00 degree\n",
       "    summary: Climatological mean temperature for the global ocean from in situ profile data\n",
       "    references: Locarnini, R. A., A. V. Mishonov, J. I. Antonov, T. P. Boyer, H. E. Garcia, O. K. Baranova, M. M. Zweng, C. R. Paver, J. R. Reagan,D. R. Johnson, M. Hamilton, and D. Seidov , 2013: World Ocean Atlas 2013, Volume 1: Temperature. S. Levitus, Ed., A. Mishonov technical editor, NOAA Atlas NESDIS 73.\n",
       "    institution: National Oceanographic Data Center(NODC)\n",
       "    comment: global climatology as part of the World Ocean Atlas project\n",
       "    id: woa13_decav_t00_01.ncv2.0\n",
       "    naming_authority: gov.noaa.nodc\n",
       "    standard_name_vocabulary: NetCDF Climate and Forecast (CF) Metadata Convention Standard Name Table v29\n",
       "    sea_name: World-Wide Distribution\n",
       "    time_coverage_start: 0000-01-01\n",
       "    time_coverage_duration: P01Y\n",
       "    time_coverage_resolution: P01Y\n",
       "    geospatial_lat_min: -90.0\n",
       "    geospatial_lat_max: 90.0\n",
       "    geospatial_lon_min: -180.0\n",
       "    geospatial_lon_max: 180.0\n",
       "    geospatial_vertical_min: 0.0\n",
       "    geospatial_vertical_max: 5500.0\n",
       "    geospatial_lat_units: degrees_north\n",
       "    geospatial_lat_resolution: 1.00 degrees\n",
       "    geospatial_lon_units: degrees_east\n",
       "    geospatial_lon_resolution: 1.00 degrees\n",
       "    geospatial_vertical_units: m\n",
       "    geospatial_vertical_positive: down\n",
       "    creator_name: Ocean Climate Laboratory\n",
       "    creator_email: NODC.Services@noaa.gov\n",
       "    creator_url: http://www.nodc.noaa.gov\n",
       "    project: World Ocean Atlas\n",
       "    processing_level: processed\n",
       "    keywords: <ISO_TOPIC_Category> Oceans</ISO_TOPIC_Category>\n",
       "    keywords_vocabulary: ISO 19115\n",
       "    contributor_name: Ocean Climate Laboratory\n",
       "    contributor_role: Calculation of climatologies\n",
       "    cdm_data_type: Grid\n",
       "    publisher_name: National Oceanographic Data Center\n",
       "    publisher_url: http://www.nodc.noaa.gov/\n",
       "    publisher_email: NODC.Services@noaa.gov\n",
       "    nodc_template_version: NODC_NetCDF_Grid_Template_v1.0\n",
       "    license: These data are openly available to the public. Please acknowledge the use of these data with the text given in the acknowledgment attribute.\n",
       "    Metadata_Conventions: Unidata Dataset Discovery v1.0\n",
       "    metadata_link: http://www.nodc.noaa.gov/OC5/WOA13/pr_woa13.html\n",
       "    date_created: 2011-09-28 \n",
       "    date_modified: 2011-09-28 \n",
       "    dimensions(sizes): depth(102), lat(180), lon(360), nbounds(2)\n",
       "    variables(dimensions): float32 \u001b[4mlat\u001b[0m(lat), float32 \u001b[4mlon\u001b[0m(lon), float32 \u001b[4mtos\u001b[0m(lat,lon)\n",
       "    groups: "
      ]
     },
     "execution_count": 12,
     "metadata": {},
     "output_type": "execute_result"
    }
   ],
   "source": [
    "test2netCDF4"
   ]
  },
  {
   "cell_type": "code",
   "execution_count": 13,
   "metadata": {},
   "outputs": [],
   "source": [
    "test3netCDF4 = Dataset('example_data/WOA13_annual_SST_nc3_classic.nc')"
   ]
  },
  {
   "cell_type": "code",
   "execution_count": 14,
   "metadata": {},
   "outputs": [
    {
     "data": {
      "text/plain": [
       "<type 'netCDF4._netCDF4.Dataset'>\n",
       "root group (NETCDF3_CLASSIC data model, file format NETCDF3):\n",
       "    Conventions: CF-1.6\n",
       "    title: World Ocean Atlas 2013 version 2 : sea_surface_temperature Annual 1.00 degree\n",
       "    summary: Climatological mean temperature for the global ocean from in situ profile data\n",
       "    references: Locarnini, R. A., A. V. Mishonov, J. I. Antonov, T. P. Boyer, H. E. Garcia, O. K. Baranova, M. M. Zweng, C. R. Paver, J. R. Reagan,D. R. Johnson, M. Hamilton, and D. Seidov , 2013: World Ocean Atlas 2013, Volume 1: Temperature. S. Levitus, Ed., A. Mishonov technical editor, NOAA Atlas NESDIS 73.\n",
       "    institution: National Oceanographic Data Center(NODC)\n",
       "    comment: global climatology as part of the World Ocean Atlas project\n",
       "    id: woa13_decav_t00_01.ncv2.0\n",
       "    naming_authority: gov.noaa.nodc\n",
       "    standard_name_vocabulary: NetCDF Climate and Forecast (CF) Metadata Convention Standard Name Table v29\n",
       "    sea_name: World-Wide Distribution\n",
       "    time_coverage_start: 0000-01-01\n",
       "    time_coverage_duration: P01Y\n",
       "    time_coverage_resolution: P01Y\n",
       "    geospatial_lat_min: -90.0\n",
       "    geospatial_lat_max: 90.0\n",
       "    geospatial_lon_min: -180.0\n",
       "    geospatial_lon_max: 180.0\n",
       "    geospatial_vertical_min: 0.0\n",
       "    geospatial_vertical_max: 5500.0\n",
       "    geospatial_lat_units: degrees_north\n",
       "    geospatial_lat_resolution: 1.00 degrees\n",
       "    geospatial_lon_units: degrees_east\n",
       "    geospatial_lon_resolution: 1.00 degrees\n",
       "    geospatial_vertical_units: m\n",
       "    geospatial_vertical_positive: down\n",
       "    creator_name: Ocean Climate Laboratory\n",
       "    creator_email: NODC.Services@noaa.gov\n",
       "    creator_url: http://www.nodc.noaa.gov\n",
       "    project: World Ocean Atlas\n",
       "    processing_level: processed\n",
       "    keywords: <ISO_TOPIC_Category> Oceans</ISO_TOPIC_Category>\n",
       "    keywords_vocabulary: ISO 19115\n",
       "    contributor_name: Ocean Climate Laboratory\n",
       "    contributor_role: Calculation of climatologies\n",
       "    cdm_data_type: Grid\n",
       "    publisher_name: National Oceanographic Data Center\n",
       "    publisher_url: http://www.nodc.noaa.gov/\n",
       "    publisher_email: NODC.Services@noaa.gov\n",
       "    nodc_template_version: NODC_NetCDF_Grid_Template_v1.0\n",
       "    license: These data are openly available to the public. Please acknowledge the use of these data with the text given in the acknowledgment attribute.\n",
       "    Metadata_Conventions: Unidata Dataset Discovery v1.0\n",
       "    metadata_link: http://www.nodc.noaa.gov/OC5/WOA13/pr_woa13.html\n",
       "    date_created: 2011-09-28 \n",
       "    date_modified: 2011-09-28 \n",
       "    dimensions(sizes): depth(102), lat(180), lon(360), nbounds(2)\n",
       "    variables(dimensions): float32 \u001b[4mlat\u001b[0m(lat), float32 \u001b[4mlon\u001b[0m(lon), float32 \u001b[4mtos\u001b[0m(lat,lon)\n",
       "    groups: "
      ]
     },
     "execution_count": 14,
     "metadata": {},
     "output_type": "execute_result"
    }
   ],
   "source": [
    "test3netCDF4"
   ]
  },
  {
   "cell_type": "code",
   "execution_count": 15,
   "metadata": {},
   "outputs": [],
   "source": [
    "test4netCDF4 = Dataset('example_data/WOA13_annual_SST_nc4_classic.nc')"
   ]
  },
  {
   "cell_type": "code",
   "execution_count": 16,
   "metadata": {},
   "outputs": [
    {
     "data": {
      "text/plain": [
       "<type 'netCDF4._netCDF4.Dataset'>\n",
       "root group (NETCDF4_CLASSIC data model, file format HDF5):\n",
       "    Conventions: CF-1.6\n",
       "    summary: Climatological mean temperature for the global ocean from in situ profile data\n",
       "    references: Locarnini, R. A., A. V. Mishonov, J. I. Antonov, T. P. Boyer, H. E. Garcia, O. K. Baranova, M. M. Zweng, C. R. Paver, J. R. Reagan,D. R. Johnson, M. Hamilton, and D. Seidov , 2013: World Ocean Atlas 2013, Volume 1: Temperature. S. Levitus, Ed., A. Mishonov technical editor, NOAA Atlas NESDIS 73.\n",
       "    institution: National Oceanographic Data Center(NODC)\n",
       "    comment: global climatology as part of the World Ocean Atlas project\n",
       "    id: woa13_decav_t00_01.ncv2.0\n",
       "    naming_authority: gov.noaa.nodc\n",
       "    standard_name_vocabulary: NetCDF Climate and Forecast (CF) Metadata Convention Standard Name Table v29\n",
       "    sea_name: World-Wide Distribution\n",
       "    time_coverage_start: 0000-01-01\n",
       "    time_coverage_duration: P01Y\n",
       "    time_coverage_resolution: P01Y\n",
       "    geospatial_lat_min: -90.0\n",
       "    geospatial_lat_max: 90.0\n",
       "    geospatial_lon_min: -180.0\n",
       "    geospatial_lon_max: 180.0\n",
       "    geospatial_vertical_min: 0.0\n",
       "    geospatial_vertical_max: 5500.0\n",
       "    geospatial_lat_units: degrees_north\n",
       "    geospatial_lat_resolution: 1.00 degrees\n",
       "    geospatial_lon_units: degrees_east\n",
       "    geospatial_lon_resolution: 1.00 degrees\n",
       "    geospatial_vertical_units: m\n",
       "    geospatial_vertical_positive: down\n",
       "    creator_name: Ocean Climate Laboratory\n",
       "    creator_email: NODC.Services@noaa.gov\n",
       "    creator_url: http://www.nodc.noaa.gov\n",
       "    project: World Ocean Atlas\n",
       "    processing_level: processed\n",
       "    keywords: <ISO_TOPIC_Category> Oceans</ISO_TOPIC_Category>\n",
       "    keywords_vocabulary: ISO 19115\n",
       "    contributor_name: Ocean Climate Laboratory\n",
       "    contributor_role: Calculation of climatologies\n",
       "    cdm_data_type: Grid\n",
       "    publisher_name: National Oceanographic Data Center\n",
       "    publisher_url: http://www.nodc.noaa.gov/\n",
       "    publisher_email: NODC.Services@noaa.gov\n",
       "    nodc_template_version: NODC_NetCDF_Grid_Template_v1.0\n",
       "    license: These data are openly available to the public. Please acknowledge the use of these data with the text given in the acknowledgment attribute.\n",
       "    Metadata_Conventions: Unidata Dataset Discovery v1.0\n",
       "    metadata_link: http://www.nodc.noaa.gov/OC5/WOA13/pr_woa13.html\n",
       "    date_created: 2011-09-28 \n",
       "    date_modified: 2011-09-28 \n",
       "    title: World Ocean Atlas 2013 version 2 : sea_surface_temperature Annual 1.00 degree\n",
       "    dimensions(sizes): depth(102), lat(180), lon(360), nbounds(2)\n",
       "    variables(dimensions): float32 \u001b[4mlat\u001b[0m(lat), float32 \u001b[4mlon\u001b[0m(lon), float32 \u001b[4mtos\u001b[0m(lat,lon)\n",
       "    groups: "
      ]
     },
     "execution_count": 16,
     "metadata": {},
     "output_type": "execute_result"
    }
   ],
   "source": [
    "test4netCDF4"
   ]
  },
  {
   "cell_type": "code",
   "execution_count": 17,
   "metadata": {},
   "outputs": [],
   "source": [
    "test5netCDF4 = Dataset('example_data/WOA13_annual_SST_nc4.nc')"
   ]
  },
  {
   "cell_type": "code",
   "execution_count": 18,
   "metadata": {},
   "outputs": [
    {
     "data": {
      "text/plain": [
       "<type 'netCDF4._netCDF4.Dataset'>\n",
       "root group (NETCDF4 data model, file format HDF5):\n",
       "    Conventions: CF-1.6\n",
       "    title: World Ocean Atlas 2013 version 2 : sea_surface_temperature Annual 1.00 degree\n",
       "    summary: Climatological mean temperature for the global ocean from in situ profile data\n",
       "    references: Locarnini, R. A., A. V. Mishonov, J. I. Antonov, T. P. Boyer, H. E. Garcia, O. K. Baranova, M. M. Zweng, C. R. Paver, J. R. Reagan,D. R. Johnson, M. Hamilton, and D. Seidov , 2013: World Ocean Atlas 2013, Volume 1: Temperature. S. Levitus, Ed., A. Mishonov technical editor, NOAA Atlas NESDIS 73.\n",
       "    institution: National Oceanographic Data Center(NODC)\n",
       "    comment: global climatology as part of the World Ocean Atlas project\n",
       "    id: woa13_decav_t00_01.ncv2.0\n",
       "    naming_authority: gov.noaa.nodc\n",
       "    standard_name_vocabulary: NetCDF Climate and Forecast (CF) Metadata Convention Standard Name Table v29\n",
       "    sea_name: World-Wide Distribution\n",
       "    time_coverage_start: 0000-01-01\n",
       "    time_coverage_duration: P01Y\n",
       "    time_coverage_resolution: P01Y\n",
       "    geospatial_lat_min: -90.0\n",
       "    geospatial_lat_max: 90.0\n",
       "    geospatial_lon_min: -180.0\n",
       "    geospatial_lon_max: 180.0\n",
       "    geospatial_vertical_min: 0.0\n",
       "    geospatial_vertical_max: 5500.0\n",
       "    geospatial_lat_units: degrees_north\n",
       "    geospatial_lat_resolution: 1.00 degrees\n",
       "    geospatial_lon_units: degrees_east\n",
       "    geospatial_lon_resolution: 1.00 degrees\n",
       "    geospatial_vertical_units: m\n",
       "    geospatial_vertical_positive: down\n",
       "    creator_name: Ocean Climate Laboratory\n",
       "    creator_email: NODC.Services@noaa.gov\n",
       "    creator_url: http://www.nodc.noaa.gov\n",
       "    project: World Ocean Atlas\n",
       "    processing_level: processed\n",
       "    keywords: <ISO_TOPIC_Category> Oceans</ISO_TOPIC_Category>\n",
       "    keywords_vocabulary: ISO 19115\n",
       "    contributor_name: Ocean Climate Laboratory\n",
       "    contributor_role: Calculation of climatologies\n",
       "    cdm_data_type: Grid\n",
       "    publisher_name: National Oceanographic Data Center\n",
       "    publisher_url: http://www.nodc.noaa.gov/\n",
       "    publisher_email: NODC.Services@noaa.gov\n",
       "    nodc_template_version: NODC_NetCDF_Grid_Template_v1.0\n",
       "    license: These data are openly available to the public. Please acknowledge the use of these data with the text given in the acknowledgment attribute.\n",
       "    Metadata_Conventions: Unidata Dataset Discovery v1.0\n",
       "    metadata_link: http://www.nodc.noaa.gov/OC5/WOA13/pr_woa13.html\n",
       "    date_created: 2011-09-28 \n",
       "    date_modified: 2011-09-28 \n",
       "    dimensions(sizes): depth(102), lat(180), lon(360), nbounds(2)\n",
       "    variables(dimensions): float32 \u001b[4mlat\u001b[0m(lat), float32 \u001b[4mlon\u001b[0m(lon), float32 \u001b[4mtos\u001b[0m(lat,lon)\n",
       "    groups: "
      ]
     },
     "execution_count": 18,
     "metadata": {},
     "output_type": "execute_result"
    }
   ],
   "source": [
    "test5netCDF4"
   ]
  },
  {
   "cell_type": "markdown",
   "metadata": {},
   "source": [
    "## results\n",
    "'WOA13_annual_SST_nc3_64bitdata.nc' **FAIL**\n",
    "\n",
    "'WOA13_annual_SST_nc3_64bitoffset.nc' **SUCCESS**\n",
    "\n",
    "'WOA13_annual_SST_nc3_classic.nc' **SUCCESS**\n",
    "\n",
    "'WOA13_annual_SST_nc4_classic.nc' **SUCCESS**\n",
    "\n",
    "'WOA13_annual_SST_nc4.nc' **SUCCESS**"
   ]
  },
  {
   "cell_type": "markdown",
   "metadata": {},
   "source": [
    "# h5netcdf tests"
   ]
  },
  {
   "cell_type": "code",
   "execution_count": 19,
   "metadata": {},
   "outputs": [
    {
     "name": "stderr",
     "output_type": "stream",
     "text": [
      "C:\\Users\\MyWork\\AppData\\Local\\conda\\conda\\envs\\py2\\lib\\site-packages\\h5py\\__init__.py:36: FutureWarning: Conversion of the second argument of issubdtype from `float` to `np.floating` is deprecated. In future, it will be treated as `np.float64 == np.dtype(float).type`.\n",
      "  from ._conv import register_converters as _register_converters\n"
     ]
    }
   ],
   "source": [
    "import h5netcdf"
   ]
  },
  {
   "cell_type": "code",
   "execution_count": 20,
   "metadata": {},
   "outputs": [
    {
     "ename": "IOError",
     "evalue": "Unable to open file (file signature not found)",
     "output_type": "error",
     "traceback": [
      "\u001b[1;31m---------------------------------------------------------------------------\u001b[0m",
      "\u001b[1;31mIOError\u001b[0m                                   Traceback (most recent call last)",
      "\u001b[1;32m<ipython-input-20-7fbacf59a86b>\u001b[0m in \u001b[0;36m<module>\u001b[1;34m()\u001b[0m\n\u001b[1;32m----> 1\u001b[1;33m \u001b[0mtest1h5\u001b[0m \u001b[1;33m=\u001b[0m \u001b[0mh5netcdf\u001b[0m\u001b[1;33m.\u001b[0m\u001b[0mFile\u001b[0m\u001b[1;33m(\u001b[0m\u001b[1;34m'example_data/WOA13_annual_SST_nc3_64bitdata.nc'\u001b[0m\u001b[1;33m,\u001b[0m \u001b[1;34m'r'\u001b[0m\u001b[1;33m)\u001b[0m\u001b[1;33m\u001b[0m\u001b[0m\n\u001b[0m",
      "\u001b[1;32mC:\\Users\\MyWork\\AppData\\Local\\conda\\conda\\envs\\py2\\lib\\site-packages\\h5netcdf\\core.pyc\u001b[0m in \u001b[0;36m__init__\u001b[1;34m(self, path, mode, invalid_netcdf, **kwargs)\u001b[0m\n\u001b[0;32m    563\u001b[0m         \u001b[0mself\u001b[0m\u001b[1;33m.\u001b[0m\u001b[0m_preexisting_file\u001b[0m \u001b[1;33m=\u001b[0m \u001b[0mos\u001b[0m\u001b[1;33m.\u001b[0m\u001b[0mpath\u001b[0m\u001b[1;33m.\u001b[0m\u001b[0mexists\u001b[0m\u001b[1;33m(\u001b[0m\u001b[0mpath\u001b[0m\u001b[1;33m)\u001b[0m\u001b[1;33m\u001b[0m\u001b[0m\n\u001b[0;32m    564\u001b[0m         \u001b[1;32mtry\u001b[0m\u001b[1;33m:\u001b[0m\u001b[1;33m\u001b[0m\u001b[0m\n\u001b[1;32m--> 565\u001b[1;33m             \u001b[0mself\u001b[0m\u001b[1;33m.\u001b[0m\u001b[0m_h5file\u001b[0m \u001b[1;33m=\u001b[0m \u001b[0mh5py\u001b[0m\u001b[1;33m.\u001b[0m\u001b[0mFile\u001b[0m\u001b[1;33m(\u001b[0m\u001b[0mpath\u001b[0m\u001b[1;33m,\u001b[0m \u001b[0mmode\u001b[0m\u001b[1;33m,\u001b[0m \u001b[1;33m**\u001b[0m\u001b[0mkwargs\u001b[0m\u001b[1;33m)\u001b[0m\u001b[1;33m\u001b[0m\u001b[0m\n\u001b[0m\u001b[0;32m    566\u001b[0m         \u001b[1;32mexcept\u001b[0m \u001b[0mException\u001b[0m\u001b[1;33m:\u001b[0m\u001b[1;33m\u001b[0m\u001b[0m\n\u001b[0;32m    567\u001b[0m             \u001b[0mself\u001b[0m\u001b[1;33m.\u001b[0m\u001b[0m_closed\u001b[0m \u001b[1;33m=\u001b[0m \u001b[0mTrue\u001b[0m\u001b[1;33m\u001b[0m\u001b[0m\n",
      "\u001b[1;32mC:\\Users\\MyWork\\AppData\\Local\\conda\\conda\\envs\\py2\\lib\\site-packages\\h5py\\_hl\\files.pyc\u001b[0m in \u001b[0;36m__init__\u001b[1;34m(self, name, mode, driver, libver, userblock_size, swmr, **kwds)\u001b[0m\n\u001b[0;32m    267\u001b[0m             \u001b[1;32mwith\u001b[0m \u001b[0mphil\u001b[0m\u001b[1;33m:\u001b[0m\u001b[1;33m\u001b[0m\u001b[0m\n\u001b[0;32m    268\u001b[0m                 \u001b[0mfapl\u001b[0m \u001b[1;33m=\u001b[0m \u001b[0mmake_fapl\u001b[0m\u001b[1;33m(\u001b[0m\u001b[0mdriver\u001b[0m\u001b[1;33m,\u001b[0m \u001b[0mlibver\u001b[0m\u001b[1;33m,\u001b[0m \u001b[1;33m**\u001b[0m\u001b[0mkwds\u001b[0m\u001b[1;33m)\u001b[0m\u001b[1;33m\u001b[0m\u001b[0m\n\u001b[1;32m--> 269\u001b[1;33m                 \u001b[0mfid\u001b[0m \u001b[1;33m=\u001b[0m \u001b[0mmake_fid\u001b[0m\u001b[1;33m(\u001b[0m\u001b[0mname\u001b[0m\u001b[1;33m,\u001b[0m \u001b[0mmode\u001b[0m\u001b[1;33m,\u001b[0m \u001b[0muserblock_size\u001b[0m\u001b[1;33m,\u001b[0m \u001b[0mfapl\u001b[0m\u001b[1;33m,\u001b[0m \u001b[0mswmr\u001b[0m\u001b[1;33m=\u001b[0m\u001b[0mswmr\u001b[0m\u001b[1;33m)\u001b[0m\u001b[1;33m\u001b[0m\u001b[0m\n\u001b[0m\u001b[0;32m    270\u001b[0m \u001b[1;33m\u001b[0m\u001b[0m\n\u001b[0;32m    271\u001b[0m                 \u001b[1;32mif\u001b[0m \u001b[0mswmr_support\u001b[0m\u001b[1;33m:\u001b[0m\u001b[1;33m\u001b[0m\u001b[0m\n",
      "\u001b[1;32mC:\\Users\\MyWork\\AppData\\Local\\conda\\conda\\envs\\py2\\lib\\site-packages\\h5py\\_hl\\files.pyc\u001b[0m in \u001b[0;36mmake_fid\u001b[1;34m(name, mode, userblock_size, fapl, fcpl, swmr)\u001b[0m\n\u001b[0;32m     97\u001b[0m         \u001b[1;32mif\u001b[0m \u001b[0mswmr\u001b[0m \u001b[1;32mand\u001b[0m \u001b[0mswmr_support\u001b[0m\u001b[1;33m:\u001b[0m\u001b[1;33m\u001b[0m\u001b[0m\n\u001b[0;32m     98\u001b[0m             \u001b[0mflags\u001b[0m \u001b[1;33m|=\u001b[0m \u001b[0mh5f\u001b[0m\u001b[1;33m.\u001b[0m\u001b[0mACC_SWMR_READ\u001b[0m\u001b[1;33m\u001b[0m\u001b[0m\n\u001b[1;32m---> 99\u001b[1;33m         \u001b[0mfid\u001b[0m \u001b[1;33m=\u001b[0m \u001b[0mh5f\u001b[0m\u001b[1;33m.\u001b[0m\u001b[0mopen\u001b[0m\u001b[1;33m(\u001b[0m\u001b[0mname\u001b[0m\u001b[1;33m,\u001b[0m \u001b[0mflags\u001b[0m\u001b[1;33m,\u001b[0m \u001b[0mfapl\u001b[0m\u001b[1;33m=\u001b[0m\u001b[0mfapl\u001b[0m\u001b[1;33m)\u001b[0m\u001b[1;33m\u001b[0m\u001b[0m\n\u001b[0m\u001b[0;32m    100\u001b[0m     \u001b[1;32melif\u001b[0m \u001b[0mmode\u001b[0m \u001b[1;33m==\u001b[0m \u001b[1;34m'r+'\u001b[0m\u001b[1;33m:\u001b[0m\u001b[1;33m\u001b[0m\u001b[0m\n\u001b[0;32m    101\u001b[0m         \u001b[0mfid\u001b[0m \u001b[1;33m=\u001b[0m \u001b[0mh5f\u001b[0m\u001b[1;33m.\u001b[0m\u001b[0mopen\u001b[0m\u001b[1;33m(\u001b[0m\u001b[0mname\u001b[0m\u001b[1;33m,\u001b[0m \u001b[0mh5f\u001b[0m\u001b[1;33m.\u001b[0m\u001b[0mACC_RDWR\u001b[0m\u001b[1;33m,\u001b[0m \u001b[0mfapl\u001b[0m\u001b[1;33m=\u001b[0m\u001b[0mfapl\u001b[0m\u001b[1;33m)\u001b[0m\u001b[1;33m\u001b[0m\u001b[0m\n",
      "\u001b[1;32mh5py\\_objects.pyx\u001b[0m in \u001b[0;36mh5py._objects.with_phil.wrapper\u001b[1;34m()\u001b[0m\n",
      "\u001b[1;32mh5py\\_objects.pyx\u001b[0m in \u001b[0;36mh5py._objects.with_phil.wrapper\u001b[1;34m()\u001b[0m\n",
      "\u001b[1;32mh5py\\h5f.pyx\u001b[0m in \u001b[0;36mh5py.h5f.open\u001b[1;34m()\u001b[0m\n",
      "\u001b[1;31mIOError\u001b[0m: Unable to open file (file signature not found)"
     ]
    }
   ],
   "source": [
    "test1h5 = h5netcdf.File('example_data/WOA13_annual_SST_nc3_64bitdata.nc', 'r')"
   ]
  },
  {
   "cell_type": "code",
   "execution_count": 21,
   "metadata": {},
   "outputs": [
    {
     "ename": "IOError",
     "evalue": "Unable to open file (file signature not found)",
     "output_type": "error",
     "traceback": [
      "\u001b[1;31m---------------------------------------------------------------------------\u001b[0m",
      "\u001b[1;31mIOError\u001b[0m                                   Traceback (most recent call last)",
      "\u001b[1;32m<ipython-input-21-a1fa7f0efa71>\u001b[0m in \u001b[0;36m<module>\u001b[1;34m()\u001b[0m\n\u001b[1;32m----> 1\u001b[1;33m \u001b[0mtest2h5\u001b[0m \u001b[1;33m=\u001b[0m \u001b[0mh5netcdf\u001b[0m\u001b[1;33m.\u001b[0m\u001b[0mFile\u001b[0m\u001b[1;33m(\u001b[0m\u001b[1;34m'example_data/WOA13_annual_SST_nc3_64bitoffset.nc'\u001b[0m\u001b[1;33m,\u001b[0m \u001b[1;34m'r'\u001b[0m\u001b[1;33m)\u001b[0m\u001b[1;33m\u001b[0m\u001b[0m\n\u001b[0m",
      "\u001b[1;32mC:\\Users\\MyWork\\AppData\\Local\\conda\\conda\\envs\\py2\\lib\\site-packages\\h5netcdf\\core.pyc\u001b[0m in \u001b[0;36m__init__\u001b[1;34m(self, path, mode, invalid_netcdf, **kwargs)\u001b[0m\n\u001b[0;32m    563\u001b[0m         \u001b[0mself\u001b[0m\u001b[1;33m.\u001b[0m\u001b[0m_preexisting_file\u001b[0m \u001b[1;33m=\u001b[0m \u001b[0mos\u001b[0m\u001b[1;33m.\u001b[0m\u001b[0mpath\u001b[0m\u001b[1;33m.\u001b[0m\u001b[0mexists\u001b[0m\u001b[1;33m(\u001b[0m\u001b[0mpath\u001b[0m\u001b[1;33m)\u001b[0m\u001b[1;33m\u001b[0m\u001b[0m\n\u001b[0;32m    564\u001b[0m         \u001b[1;32mtry\u001b[0m\u001b[1;33m:\u001b[0m\u001b[1;33m\u001b[0m\u001b[0m\n\u001b[1;32m--> 565\u001b[1;33m             \u001b[0mself\u001b[0m\u001b[1;33m.\u001b[0m\u001b[0m_h5file\u001b[0m \u001b[1;33m=\u001b[0m \u001b[0mh5py\u001b[0m\u001b[1;33m.\u001b[0m\u001b[0mFile\u001b[0m\u001b[1;33m(\u001b[0m\u001b[0mpath\u001b[0m\u001b[1;33m,\u001b[0m \u001b[0mmode\u001b[0m\u001b[1;33m,\u001b[0m \u001b[1;33m**\u001b[0m\u001b[0mkwargs\u001b[0m\u001b[1;33m)\u001b[0m\u001b[1;33m\u001b[0m\u001b[0m\n\u001b[0m\u001b[0;32m    566\u001b[0m         \u001b[1;32mexcept\u001b[0m \u001b[0mException\u001b[0m\u001b[1;33m:\u001b[0m\u001b[1;33m\u001b[0m\u001b[0m\n\u001b[0;32m    567\u001b[0m             \u001b[0mself\u001b[0m\u001b[1;33m.\u001b[0m\u001b[0m_closed\u001b[0m \u001b[1;33m=\u001b[0m \u001b[0mTrue\u001b[0m\u001b[1;33m\u001b[0m\u001b[0m\n",
      "\u001b[1;32mC:\\Users\\MyWork\\AppData\\Local\\conda\\conda\\envs\\py2\\lib\\site-packages\\h5py\\_hl\\files.pyc\u001b[0m in \u001b[0;36m__init__\u001b[1;34m(self, name, mode, driver, libver, userblock_size, swmr, **kwds)\u001b[0m\n\u001b[0;32m    267\u001b[0m             \u001b[1;32mwith\u001b[0m \u001b[0mphil\u001b[0m\u001b[1;33m:\u001b[0m\u001b[1;33m\u001b[0m\u001b[0m\n\u001b[0;32m    268\u001b[0m                 \u001b[0mfapl\u001b[0m \u001b[1;33m=\u001b[0m \u001b[0mmake_fapl\u001b[0m\u001b[1;33m(\u001b[0m\u001b[0mdriver\u001b[0m\u001b[1;33m,\u001b[0m \u001b[0mlibver\u001b[0m\u001b[1;33m,\u001b[0m \u001b[1;33m**\u001b[0m\u001b[0mkwds\u001b[0m\u001b[1;33m)\u001b[0m\u001b[1;33m\u001b[0m\u001b[0m\n\u001b[1;32m--> 269\u001b[1;33m                 \u001b[0mfid\u001b[0m \u001b[1;33m=\u001b[0m \u001b[0mmake_fid\u001b[0m\u001b[1;33m(\u001b[0m\u001b[0mname\u001b[0m\u001b[1;33m,\u001b[0m \u001b[0mmode\u001b[0m\u001b[1;33m,\u001b[0m \u001b[0muserblock_size\u001b[0m\u001b[1;33m,\u001b[0m \u001b[0mfapl\u001b[0m\u001b[1;33m,\u001b[0m \u001b[0mswmr\u001b[0m\u001b[1;33m=\u001b[0m\u001b[0mswmr\u001b[0m\u001b[1;33m)\u001b[0m\u001b[1;33m\u001b[0m\u001b[0m\n\u001b[0m\u001b[0;32m    270\u001b[0m \u001b[1;33m\u001b[0m\u001b[0m\n\u001b[0;32m    271\u001b[0m                 \u001b[1;32mif\u001b[0m \u001b[0mswmr_support\u001b[0m\u001b[1;33m:\u001b[0m\u001b[1;33m\u001b[0m\u001b[0m\n",
      "\u001b[1;32mC:\\Users\\MyWork\\AppData\\Local\\conda\\conda\\envs\\py2\\lib\\site-packages\\h5py\\_hl\\files.pyc\u001b[0m in \u001b[0;36mmake_fid\u001b[1;34m(name, mode, userblock_size, fapl, fcpl, swmr)\u001b[0m\n\u001b[0;32m     97\u001b[0m         \u001b[1;32mif\u001b[0m \u001b[0mswmr\u001b[0m \u001b[1;32mand\u001b[0m \u001b[0mswmr_support\u001b[0m\u001b[1;33m:\u001b[0m\u001b[1;33m\u001b[0m\u001b[0m\n\u001b[0;32m     98\u001b[0m             \u001b[0mflags\u001b[0m \u001b[1;33m|=\u001b[0m \u001b[0mh5f\u001b[0m\u001b[1;33m.\u001b[0m\u001b[0mACC_SWMR_READ\u001b[0m\u001b[1;33m\u001b[0m\u001b[0m\n\u001b[1;32m---> 99\u001b[1;33m         \u001b[0mfid\u001b[0m \u001b[1;33m=\u001b[0m \u001b[0mh5f\u001b[0m\u001b[1;33m.\u001b[0m\u001b[0mopen\u001b[0m\u001b[1;33m(\u001b[0m\u001b[0mname\u001b[0m\u001b[1;33m,\u001b[0m \u001b[0mflags\u001b[0m\u001b[1;33m,\u001b[0m \u001b[0mfapl\u001b[0m\u001b[1;33m=\u001b[0m\u001b[0mfapl\u001b[0m\u001b[1;33m)\u001b[0m\u001b[1;33m\u001b[0m\u001b[0m\n\u001b[0m\u001b[0;32m    100\u001b[0m     \u001b[1;32melif\u001b[0m \u001b[0mmode\u001b[0m \u001b[1;33m==\u001b[0m \u001b[1;34m'r+'\u001b[0m\u001b[1;33m:\u001b[0m\u001b[1;33m\u001b[0m\u001b[0m\n\u001b[0;32m    101\u001b[0m         \u001b[0mfid\u001b[0m \u001b[1;33m=\u001b[0m \u001b[0mh5f\u001b[0m\u001b[1;33m.\u001b[0m\u001b[0mopen\u001b[0m\u001b[1;33m(\u001b[0m\u001b[0mname\u001b[0m\u001b[1;33m,\u001b[0m \u001b[0mh5f\u001b[0m\u001b[1;33m.\u001b[0m\u001b[0mACC_RDWR\u001b[0m\u001b[1;33m,\u001b[0m \u001b[0mfapl\u001b[0m\u001b[1;33m=\u001b[0m\u001b[0mfapl\u001b[0m\u001b[1;33m)\u001b[0m\u001b[1;33m\u001b[0m\u001b[0m\n",
      "\u001b[1;32mh5py\\_objects.pyx\u001b[0m in \u001b[0;36mh5py._objects.with_phil.wrapper\u001b[1;34m()\u001b[0m\n",
      "\u001b[1;32mh5py\\_objects.pyx\u001b[0m in \u001b[0;36mh5py._objects.with_phil.wrapper\u001b[1;34m()\u001b[0m\n",
      "\u001b[1;32mh5py\\h5f.pyx\u001b[0m in \u001b[0;36mh5py.h5f.open\u001b[1;34m()\u001b[0m\n",
      "\u001b[1;31mIOError\u001b[0m: Unable to open file (file signature not found)"
     ]
    }
   ],
   "source": [
    "test2h5 = h5netcdf.File('example_data/WOA13_annual_SST_nc3_64bitoffset.nc', 'r')"
   ]
  },
  {
   "cell_type": "code",
   "execution_count": 22,
   "metadata": {},
   "outputs": [
    {
     "ename": "IOError",
     "evalue": "Unable to open file (file signature not found)",
     "output_type": "error",
     "traceback": [
      "\u001b[1;31m---------------------------------------------------------------------------\u001b[0m",
      "\u001b[1;31mIOError\u001b[0m                                   Traceback (most recent call last)",
      "\u001b[1;32m<ipython-input-22-05bf35d785a9>\u001b[0m in \u001b[0;36m<module>\u001b[1;34m()\u001b[0m\n\u001b[1;32m----> 1\u001b[1;33m \u001b[0mtest3h5\u001b[0m \u001b[1;33m=\u001b[0m \u001b[0mh5netcdf\u001b[0m\u001b[1;33m.\u001b[0m\u001b[0mFile\u001b[0m\u001b[1;33m(\u001b[0m\u001b[1;34m'example_data/WOA13_annual_SST_nc3_classic.nc'\u001b[0m\u001b[1;33m,\u001b[0m \u001b[1;34m'r'\u001b[0m\u001b[1;33m)\u001b[0m\u001b[1;33m\u001b[0m\u001b[0m\n\u001b[0m",
      "\u001b[1;32mC:\\Users\\MyWork\\AppData\\Local\\conda\\conda\\envs\\py2\\lib\\site-packages\\h5netcdf\\core.pyc\u001b[0m in \u001b[0;36m__init__\u001b[1;34m(self, path, mode, invalid_netcdf, **kwargs)\u001b[0m\n\u001b[0;32m    563\u001b[0m         \u001b[0mself\u001b[0m\u001b[1;33m.\u001b[0m\u001b[0m_preexisting_file\u001b[0m \u001b[1;33m=\u001b[0m \u001b[0mos\u001b[0m\u001b[1;33m.\u001b[0m\u001b[0mpath\u001b[0m\u001b[1;33m.\u001b[0m\u001b[0mexists\u001b[0m\u001b[1;33m(\u001b[0m\u001b[0mpath\u001b[0m\u001b[1;33m)\u001b[0m\u001b[1;33m\u001b[0m\u001b[0m\n\u001b[0;32m    564\u001b[0m         \u001b[1;32mtry\u001b[0m\u001b[1;33m:\u001b[0m\u001b[1;33m\u001b[0m\u001b[0m\n\u001b[1;32m--> 565\u001b[1;33m             \u001b[0mself\u001b[0m\u001b[1;33m.\u001b[0m\u001b[0m_h5file\u001b[0m \u001b[1;33m=\u001b[0m \u001b[0mh5py\u001b[0m\u001b[1;33m.\u001b[0m\u001b[0mFile\u001b[0m\u001b[1;33m(\u001b[0m\u001b[0mpath\u001b[0m\u001b[1;33m,\u001b[0m \u001b[0mmode\u001b[0m\u001b[1;33m,\u001b[0m \u001b[1;33m**\u001b[0m\u001b[0mkwargs\u001b[0m\u001b[1;33m)\u001b[0m\u001b[1;33m\u001b[0m\u001b[0m\n\u001b[0m\u001b[0;32m    566\u001b[0m         \u001b[1;32mexcept\u001b[0m \u001b[0mException\u001b[0m\u001b[1;33m:\u001b[0m\u001b[1;33m\u001b[0m\u001b[0m\n\u001b[0;32m    567\u001b[0m             \u001b[0mself\u001b[0m\u001b[1;33m.\u001b[0m\u001b[0m_closed\u001b[0m \u001b[1;33m=\u001b[0m \u001b[0mTrue\u001b[0m\u001b[1;33m\u001b[0m\u001b[0m\n",
      "\u001b[1;32mC:\\Users\\MyWork\\AppData\\Local\\conda\\conda\\envs\\py2\\lib\\site-packages\\h5py\\_hl\\files.pyc\u001b[0m in \u001b[0;36m__init__\u001b[1;34m(self, name, mode, driver, libver, userblock_size, swmr, **kwds)\u001b[0m\n\u001b[0;32m    267\u001b[0m             \u001b[1;32mwith\u001b[0m \u001b[0mphil\u001b[0m\u001b[1;33m:\u001b[0m\u001b[1;33m\u001b[0m\u001b[0m\n\u001b[0;32m    268\u001b[0m                 \u001b[0mfapl\u001b[0m \u001b[1;33m=\u001b[0m \u001b[0mmake_fapl\u001b[0m\u001b[1;33m(\u001b[0m\u001b[0mdriver\u001b[0m\u001b[1;33m,\u001b[0m \u001b[0mlibver\u001b[0m\u001b[1;33m,\u001b[0m \u001b[1;33m**\u001b[0m\u001b[0mkwds\u001b[0m\u001b[1;33m)\u001b[0m\u001b[1;33m\u001b[0m\u001b[0m\n\u001b[1;32m--> 269\u001b[1;33m                 \u001b[0mfid\u001b[0m \u001b[1;33m=\u001b[0m \u001b[0mmake_fid\u001b[0m\u001b[1;33m(\u001b[0m\u001b[0mname\u001b[0m\u001b[1;33m,\u001b[0m \u001b[0mmode\u001b[0m\u001b[1;33m,\u001b[0m \u001b[0muserblock_size\u001b[0m\u001b[1;33m,\u001b[0m \u001b[0mfapl\u001b[0m\u001b[1;33m,\u001b[0m \u001b[0mswmr\u001b[0m\u001b[1;33m=\u001b[0m\u001b[0mswmr\u001b[0m\u001b[1;33m)\u001b[0m\u001b[1;33m\u001b[0m\u001b[0m\n\u001b[0m\u001b[0;32m    270\u001b[0m \u001b[1;33m\u001b[0m\u001b[0m\n\u001b[0;32m    271\u001b[0m                 \u001b[1;32mif\u001b[0m \u001b[0mswmr_support\u001b[0m\u001b[1;33m:\u001b[0m\u001b[1;33m\u001b[0m\u001b[0m\n",
      "\u001b[1;32mC:\\Users\\MyWork\\AppData\\Local\\conda\\conda\\envs\\py2\\lib\\site-packages\\h5py\\_hl\\files.pyc\u001b[0m in \u001b[0;36mmake_fid\u001b[1;34m(name, mode, userblock_size, fapl, fcpl, swmr)\u001b[0m\n\u001b[0;32m     97\u001b[0m         \u001b[1;32mif\u001b[0m \u001b[0mswmr\u001b[0m \u001b[1;32mand\u001b[0m \u001b[0mswmr_support\u001b[0m\u001b[1;33m:\u001b[0m\u001b[1;33m\u001b[0m\u001b[0m\n\u001b[0;32m     98\u001b[0m             \u001b[0mflags\u001b[0m \u001b[1;33m|=\u001b[0m \u001b[0mh5f\u001b[0m\u001b[1;33m.\u001b[0m\u001b[0mACC_SWMR_READ\u001b[0m\u001b[1;33m\u001b[0m\u001b[0m\n\u001b[1;32m---> 99\u001b[1;33m         \u001b[0mfid\u001b[0m \u001b[1;33m=\u001b[0m \u001b[0mh5f\u001b[0m\u001b[1;33m.\u001b[0m\u001b[0mopen\u001b[0m\u001b[1;33m(\u001b[0m\u001b[0mname\u001b[0m\u001b[1;33m,\u001b[0m \u001b[0mflags\u001b[0m\u001b[1;33m,\u001b[0m \u001b[0mfapl\u001b[0m\u001b[1;33m=\u001b[0m\u001b[0mfapl\u001b[0m\u001b[1;33m)\u001b[0m\u001b[1;33m\u001b[0m\u001b[0m\n\u001b[0m\u001b[0;32m    100\u001b[0m     \u001b[1;32melif\u001b[0m \u001b[0mmode\u001b[0m \u001b[1;33m==\u001b[0m \u001b[1;34m'r+'\u001b[0m\u001b[1;33m:\u001b[0m\u001b[1;33m\u001b[0m\u001b[0m\n\u001b[0;32m    101\u001b[0m         \u001b[0mfid\u001b[0m \u001b[1;33m=\u001b[0m \u001b[0mh5f\u001b[0m\u001b[1;33m.\u001b[0m\u001b[0mopen\u001b[0m\u001b[1;33m(\u001b[0m\u001b[0mname\u001b[0m\u001b[1;33m,\u001b[0m \u001b[0mh5f\u001b[0m\u001b[1;33m.\u001b[0m\u001b[0mACC_RDWR\u001b[0m\u001b[1;33m,\u001b[0m \u001b[0mfapl\u001b[0m\u001b[1;33m=\u001b[0m\u001b[0mfapl\u001b[0m\u001b[1;33m)\u001b[0m\u001b[1;33m\u001b[0m\u001b[0m\n",
      "\u001b[1;32mh5py\\_objects.pyx\u001b[0m in \u001b[0;36mh5py._objects.with_phil.wrapper\u001b[1;34m()\u001b[0m\n",
      "\u001b[1;32mh5py\\_objects.pyx\u001b[0m in \u001b[0;36mh5py._objects.with_phil.wrapper\u001b[1;34m()\u001b[0m\n",
      "\u001b[1;32mh5py\\h5f.pyx\u001b[0m in \u001b[0;36mh5py.h5f.open\u001b[1;34m()\u001b[0m\n",
      "\u001b[1;31mIOError\u001b[0m: Unable to open file (file signature not found)"
     ]
    }
   ],
   "source": [
    "test3h5 = h5netcdf.File('example_data/WOA13_annual_SST_nc3_classic.nc', 'r')"
   ]
  },
  {
   "cell_type": "code",
   "execution_count": 23,
   "metadata": {},
   "outputs": [
    {
     "ename": "IOError",
     "evalue": "Unable to open file (file close degree doesn't match)",
     "output_type": "error",
     "traceback": [
      "\u001b[1;31m---------------------------------------------------------------------------\u001b[0m",
      "\u001b[1;31mIOError\u001b[0m                                   Traceback (most recent call last)",
      "\u001b[1;32m<ipython-input-23-68d3f66d0ed0>\u001b[0m in \u001b[0;36m<module>\u001b[1;34m()\u001b[0m\n\u001b[1;32m----> 1\u001b[1;33m \u001b[0mtest4h5\u001b[0m \u001b[1;33m=\u001b[0m \u001b[0mh5netcdf\u001b[0m\u001b[1;33m.\u001b[0m\u001b[0mFile\u001b[0m\u001b[1;33m(\u001b[0m\u001b[1;34m'example_data/WOA13_annual_SST_nc4_classic.nc'\u001b[0m\u001b[1;33m,\u001b[0m \u001b[1;34m'r'\u001b[0m\u001b[1;33m)\u001b[0m\u001b[1;33m\u001b[0m\u001b[0m\n\u001b[0m",
      "\u001b[1;32mC:\\Users\\MyWork\\AppData\\Local\\conda\\conda\\envs\\py2\\lib\\site-packages\\h5netcdf\\core.pyc\u001b[0m in \u001b[0;36m__init__\u001b[1;34m(self, path, mode, invalid_netcdf, **kwargs)\u001b[0m\n\u001b[0;32m    563\u001b[0m         \u001b[0mself\u001b[0m\u001b[1;33m.\u001b[0m\u001b[0m_preexisting_file\u001b[0m \u001b[1;33m=\u001b[0m \u001b[0mos\u001b[0m\u001b[1;33m.\u001b[0m\u001b[0mpath\u001b[0m\u001b[1;33m.\u001b[0m\u001b[0mexists\u001b[0m\u001b[1;33m(\u001b[0m\u001b[0mpath\u001b[0m\u001b[1;33m)\u001b[0m\u001b[1;33m\u001b[0m\u001b[0m\n\u001b[0;32m    564\u001b[0m         \u001b[1;32mtry\u001b[0m\u001b[1;33m:\u001b[0m\u001b[1;33m\u001b[0m\u001b[0m\n\u001b[1;32m--> 565\u001b[1;33m             \u001b[0mself\u001b[0m\u001b[1;33m.\u001b[0m\u001b[0m_h5file\u001b[0m \u001b[1;33m=\u001b[0m \u001b[0mh5py\u001b[0m\u001b[1;33m.\u001b[0m\u001b[0mFile\u001b[0m\u001b[1;33m(\u001b[0m\u001b[0mpath\u001b[0m\u001b[1;33m,\u001b[0m \u001b[0mmode\u001b[0m\u001b[1;33m,\u001b[0m \u001b[1;33m**\u001b[0m\u001b[0mkwargs\u001b[0m\u001b[1;33m)\u001b[0m\u001b[1;33m\u001b[0m\u001b[0m\n\u001b[0m\u001b[0;32m    566\u001b[0m         \u001b[1;32mexcept\u001b[0m \u001b[0mException\u001b[0m\u001b[1;33m:\u001b[0m\u001b[1;33m\u001b[0m\u001b[0m\n\u001b[0;32m    567\u001b[0m             \u001b[0mself\u001b[0m\u001b[1;33m.\u001b[0m\u001b[0m_closed\u001b[0m \u001b[1;33m=\u001b[0m \u001b[0mTrue\u001b[0m\u001b[1;33m\u001b[0m\u001b[0m\n",
      "\u001b[1;32mC:\\Users\\MyWork\\AppData\\Local\\conda\\conda\\envs\\py2\\lib\\site-packages\\h5py\\_hl\\files.pyc\u001b[0m in \u001b[0;36m__init__\u001b[1;34m(self, name, mode, driver, libver, userblock_size, swmr, **kwds)\u001b[0m\n\u001b[0;32m    267\u001b[0m             \u001b[1;32mwith\u001b[0m \u001b[0mphil\u001b[0m\u001b[1;33m:\u001b[0m\u001b[1;33m\u001b[0m\u001b[0m\n\u001b[0;32m    268\u001b[0m                 \u001b[0mfapl\u001b[0m \u001b[1;33m=\u001b[0m \u001b[0mmake_fapl\u001b[0m\u001b[1;33m(\u001b[0m\u001b[0mdriver\u001b[0m\u001b[1;33m,\u001b[0m \u001b[0mlibver\u001b[0m\u001b[1;33m,\u001b[0m \u001b[1;33m**\u001b[0m\u001b[0mkwds\u001b[0m\u001b[1;33m)\u001b[0m\u001b[1;33m\u001b[0m\u001b[0m\n\u001b[1;32m--> 269\u001b[1;33m                 \u001b[0mfid\u001b[0m \u001b[1;33m=\u001b[0m \u001b[0mmake_fid\u001b[0m\u001b[1;33m(\u001b[0m\u001b[0mname\u001b[0m\u001b[1;33m,\u001b[0m \u001b[0mmode\u001b[0m\u001b[1;33m,\u001b[0m \u001b[0muserblock_size\u001b[0m\u001b[1;33m,\u001b[0m \u001b[0mfapl\u001b[0m\u001b[1;33m,\u001b[0m \u001b[0mswmr\u001b[0m\u001b[1;33m=\u001b[0m\u001b[0mswmr\u001b[0m\u001b[1;33m)\u001b[0m\u001b[1;33m\u001b[0m\u001b[0m\n\u001b[0m\u001b[0;32m    270\u001b[0m \u001b[1;33m\u001b[0m\u001b[0m\n\u001b[0;32m    271\u001b[0m                 \u001b[1;32mif\u001b[0m \u001b[0mswmr_support\u001b[0m\u001b[1;33m:\u001b[0m\u001b[1;33m\u001b[0m\u001b[0m\n",
      "\u001b[1;32mC:\\Users\\MyWork\\AppData\\Local\\conda\\conda\\envs\\py2\\lib\\site-packages\\h5py\\_hl\\files.pyc\u001b[0m in \u001b[0;36mmake_fid\u001b[1;34m(name, mode, userblock_size, fapl, fcpl, swmr)\u001b[0m\n\u001b[0;32m     97\u001b[0m         \u001b[1;32mif\u001b[0m \u001b[0mswmr\u001b[0m \u001b[1;32mand\u001b[0m \u001b[0mswmr_support\u001b[0m\u001b[1;33m:\u001b[0m\u001b[1;33m\u001b[0m\u001b[0m\n\u001b[0;32m     98\u001b[0m             \u001b[0mflags\u001b[0m \u001b[1;33m|=\u001b[0m \u001b[0mh5f\u001b[0m\u001b[1;33m.\u001b[0m\u001b[0mACC_SWMR_READ\u001b[0m\u001b[1;33m\u001b[0m\u001b[0m\n\u001b[1;32m---> 99\u001b[1;33m         \u001b[0mfid\u001b[0m \u001b[1;33m=\u001b[0m \u001b[0mh5f\u001b[0m\u001b[1;33m.\u001b[0m\u001b[0mopen\u001b[0m\u001b[1;33m(\u001b[0m\u001b[0mname\u001b[0m\u001b[1;33m,\u001b[0m \u001b[0mflags\u001b[0m\u001b[1;33m,\u001b[0m \u001b[0mfapl\u001b[0m\u001b[1;33m=\u001b[0m\u001b[0mfapl\u001b[0m\u001b[1;33m)\u001b[0m\u001b[1;33m\u001b[0m\u001b[0m\n\u001b[0m\u001b[0;32m    100\u001b[0m     \u001b[1;32melif\u001b[0m \u001b[0mmode\u001b[0m \u001b[1;33m==\u001b[0m \u001b[1;34m'r+'\u001b[0m\u001b[1;33m:\u001b[0m\u001b[1;33m\u001b[0m\u001b[0m\n\u001b[0;32m    101\u001b[0m         \u001b[0mfid\u001b[0m \u001b[1;33m=\u001b[0m \u001b[0mh5f\u001b[0m\u001b[1;33m.\u001b[0m\u001b[0mopen\u001b[0m\u001b[1;33m(\u001b[0m\u001b[0mname\u001b[0m\u001b[1;33m,\u001b[0m \u001b[0mh5f\u001b[0m\u001b[1;33m.\u001b[0m\u001b[0mACC_RDWR\u001b[0m\u001b[1;33m,\u001b[0m \u001b[0mfapl\u001b[0m\u001b[1;33m=\u001b[0m\u001b[0mfapl\u001b[0m\u001b[1;33m)\u001b[0m\u001b[1;33m\u001b[0m\u001b[0m\n",
      "\u001b[1;32mh5py\\_objects.pyx\u001b[0m in \u001b[0;36mh5py._objects.with_phil.wrapper\u001b[1;34m()\u001b[0m\n",
      "\u001b[1;32mh5py\\_objects.pyx\u001b[0m in \u001b[0;36mh5py._objects.with_phil.wrapper\u001b[1;34m()\u001b[0m\n",
      "\u001b[1;32mh5py\\h5f.pyx\u001b[0m in \u001b[0;36mh5py.h5f.open\u001b[1;34m()\u001b[0m\n",
      "\u001b[1;31mIOError\u001b[0m: Unable to open file (file close degree doesn't match)"
     ]
    }
   ],
   "source": [
    "test4h5 = h5netcdf.File('example_data/WOA13_annual_SST_nc4_classic.nc', 'r')"
   ]
  },
  {
   "cell_type": "code",
   "execution_count": 24,
   "metadata": {},
   "outputs": [
    {
     "ename": "IOError",
     "evalue": "Unable to open file (file close degree doesn't match)",
     "output_type": "error",
     "traceback": [
      "\u001b[1;31m---------------------------------------------------------------------------\u001b[0m",
      "\u001b[1;31mIOError\u001b[0m                                   Traceback (most recent call last)",
      "\u001b[1;32m<ipython-input-24-50c9839f7b26>\u001b[0m in \u001b[0;36m<module>\u001b[1;34m()\u001b[0m\n\u001b[1;32m----> 1\u001b[1;33m \u001b[0mtest5h5\u001b[0m \u001b[1;33m=\u001b[0m \u001b[0mh5netcdf\u001b[0m\u001b[1;33m.\u001b[0m\u001b[0mFile\u001b[0m\u001b[1;33m(\u001b[0m\u001b[1;34m'example_data/WOA13_annual_SST_nc4.nc'\u001b[0m\u001b[1;33m,\u001b[0m \u001b[1;34m'r'\u001b[0m\u001b[1;33m)\u001b[0m\u001b[1;33m\u001b[0m\u001b[0m\n\u001b[0m",
      "\u001b[1;32mC:\\Users\\MyWork\\AppData\\Local\\conda\\conda\\envs\\py2\\lib\\site-packages\\h5netcdf\\core.pyc\u001b[0m in \u001b[0;36m__init__\u001b[1;34m(self, path, mode, invalid_netcdf, **kwargs)\u001b[0m\n\u001b[0;32m    563\u001b[0m         \u001b[0mself\u001b[0m\u001b[1;33m.\u001b[0m\u001b[0m_preexisting_file\u001b[0m \u001b[1;33m=\u001b[0m \u001b[0mos\u001b[0m\u001b[1;33m.\u001b[0m\u001b[0mpath\u001b[0m\u001b[1;33m.\u001b[0m\u001b[0mexists\u001b[0m\u001b[1;33m(\u001b[0m\u001b[0mpath\u001b[0m\u001b[1;33m)\u001b[0m\u001b[1;33m\u001b[0m\u001b[0m\n\u001b[0;32m    564\u001b[0m         \u001b[1;32mtry\u001b[0m\u001b[1;33m:\u001b[0m\u001b[1;33m\u001b[0m\u001b[0m\n\u001b[1;32m--> 565\u001b[1;33m             \u001b[0mself\u001b[0m\u001b[1;33m.\u001b[0m\u001b[0m_h5file\u001b[0m \u001b[1;33m=\u001b[0m \u001b[0mh5py\u001b[0m\u001b[1;33m.\u001b[0m\u001b[0mFile\u001b[0m\u001b[1;33m(\u001b[0m\u001b[0mpath\u001b[0m\u001b[1;33m,\u001b[0m \u001b[0mmode\u001b[0m\u001b[1;33m,\u001b[0m \u001b[1;33m**\u001b[0m\u001b[0mkwargs\u001b[0m\u001b[1;33m)\u001b[0m\u001b[1;33m\u001b[0m\u001b[0m\n\u001b[0m\u001b[0;32m    566\u001b[0m         \u001b[1;32mexcept\u001b[0m \u001b[0mException\u001b[0m\u001b[1;33m:\u001b[0m\u001b[1;33m\u001b[0m\u001b[0m\n\u001b[0;32m    567\u001b[0m             \u001b[0mself\u001b[0m\u001b[1;33m.\u001b[0m\u001b[0m_closed\u001b[0m \u001b[1;33m=\u001b[0m \u001b[0mTrue\u001b[0m\u001b[1;33m\u001b[0m\u001b[0m\n",
      "\u001b[1;32mC:\\Users\\MyWork\\AppData\\Local\\conda\\conda\\envs\\py2\\lib\\site-packages\\h5py\\_hl\\files.pyc\u001b[0m in \u001b[0;36m__init__\u001b[1;34m(self, name, mode, driver, libver, userblock_size, swmr, **kwds)\u001b[0m\n\u001b[0;32m    267\u001b[0m             \u001b[1;32mwith\u001b[0m \u001b[0mphil\u001b[0m\u001b[1;33m:\u001b[0m\u001b[1;33m\u001b[0m\u001b[0m\n\u001b[0;32m    268\u001b[0m                 \u001b[0mfapl\u001b[0m \u001b[1;33m=\u001b[0m \u001b[0mmake_fapl\u001b[0m\u001b[1;33m(\u001b[0m\u001b[0mdriver\u001b[0m\u001b[1;33m,\u001b[0m \u001b[0mlibver\u001b[0m\u001b[1;33m,\u001b[0m \u001b[1;33m**\u001b[0m\u001b[0mkwds\u001b[0m\u001b[1;33m)\u001b[0m\u001b[1;33m\u001b[0m\u001b[0m\n\u001b[1;32m--> 269\u001b[1;33m                 \u001b[0mfid\u001b[0m \u001b[1;33m=\u001b[0m \u001b[0mmake_fid\u001b[0m\u001b[1;33m(\u001b[0m\u001b[0mname\u001b[0m\u001b[1;33m,\u001b[0m \u001b[0mmode\u001b[0m\u001b[1;33m,\u001b[0m \u001b[0muserblock_size\u001b[0m\u001b[1;33m,\u001b[0m \u001b[0mfapl\u001b[0m\u001b[1;33m,\u001b[0m \u001b[0mswmr\u001b[0m\u001b[1;33m=\u001b[0m\u001b[0mswmr\u001b[0m\u001b[1;33m)\u001b[0m\u001b[1;33m\u001b[0m\u001b[0m\n\u001b[0m\u001b[0;32m    270\u001b[0m \u001b[1;33m\u001b[0m\u001b[0m\n\u001b[0;32m    271\u001b[0m                 \u001b[1;32mif\u001b[0m \u001b[0mswmr_support\u001b[0m\u001b[1;33m:\u001b[0m\u001b[1;33m\u001b[0m\u001b[0m\n",
      "\u001b[1;32mC:\\Users\\MyWork\\AppData\\Local\\conda\\conda\\envs\\py2\\lib\\site-packages\\h5py\\_hl\\files.pyc\u001b[0m in \u001b[0;36mmake_fid\u001b[1;34m(name, mode, userblock_size, fapl, fcpl, swmr)\u001b[0m\n\u001b[0;32m     97\u001b[0m         \u001b[1;32mif\u001b[0m \u001b[0mswmr\u001b[0m \u001b[1;32mand\u001b[0m \u001b[0mswmr_support\u001b[0m\u001b[1;33m:\u001b[0m\u001b[1;33m\u001b[0m\u001b[0m\n\u001b[0;32m     98\u001b[0m             \u001b[0mflags\u001b[0m \u001b[1;33m|=\u001b[0m \u001b[0mh5f\u001b[0m\u001b[1;33m.\u001b[0m\u001b[0mACC_SWMR_READ\u001b[0m\u001b[1;33m\u001b[0m\u001b[0m\n\u001b[1;32m---> 99\u001b[1;33m         \u001b[0mfid\u001b[0m \u001b[1;33m=\u001b[0m \u001b[0mh5f\u001b[0m\u001b[1;33m.\u001b[0m\u001b[0mopen\u001b[0m\u001b[1;33m(\u001b[0m\u001b[0mname\u001b[0m\u001b[1;33m,\u001b[0m \u001b[0mflags\u001b[0m\u001b[1;33m,\u001b[0m \u001b[0mfapl\u001b[0m\u001b[1;33m=\u001b[0m\u001b[0mfapl\u001b[0m\u001b[1;33m)\u001b[0m\u001b[1;33m\u001b[0m\u001b[0m\n\u001b[0m\u001b[0;32m    100\u001b[0m     \u001b[1;32melif\u001b[0m \u001b[0mmode\u001b[0m \u001b[1;33m==\u001b[0m \u001b[1;34m'r+'\u001b[0m\u001b[1;33m:\u001b[0m\u001b[1;33m\u001b[0m\u001b[0m\n\u001b[0;32m    101\u001b[0m         \u001b[0mfid\u001b[0m \u001b[1;33m=\u001b[0m \u001b[0mh5f\u001b[0m\u001b[1;33m.\u001b[0m\u001b[0mopen\u001b[0m\u001b[1;33m(\u001b[0m\u001b[0mname\u001b[0m\u001b[1;33m,\u001b[0m \u001b[0mh5f\u001b[0m\u001b[1;33m.\u001b[0m\u001b[0mACC_RDWR\u001b[0m\u001b[1;33m,\u001b[0m \u001b[0mfapl\u001b[0m\u001b[1;33m=\u001b[0m\u001b[0mfapl\u001b[0m\u001b[1;33m)\u001b[0m\u001b[1;33m\u001b[0m\u001b[0m\n",
      "\u001b[1;32mh5py\\_objects.pyx\u001b[0m in \u001b[0;36mh5py._objects.with_phil.wrapper\u001b[1;34m()\u001b[0m\n",
      "\u001b[1;32mh5py\\_objects.pyx\u001b[0m in \u001b[0;36mh5py._objects.with_phil.wrapper\u001b[1;34m()\u001b[0m\n",
      "\u001b[1;32mh5py\\h5f.pyx\u001b[0m in \u001b[0;36mh5py.h5f.open\u001b[1;34m()\u001b[0m\n",
      "\u001b[1;31mIOError\u001b[0m: Unable to open file (file close degree doesn't match)"
     ]
    }
   ],
   "source": [
    "test5h5 = h5netcdf.File('example_data/WOA13_annual_SST_nc4.nc', 'r')"
   ]
  },
  {
   "cell_type": "markdown",
   "metadata": {},
   "source": [
    "## results\n",
    "'WOA13_annual_SST_nc3_64bitdata.nc' **FAIL**\n",
    "\n",
    "'WOA13_annual_SST_nc3_64bitoffset.nc' **FAIL**\n",
    "\n",
    "'WOA13_annual_SST_nc3_classic.nc' **FAIL**\n",
    "\n",
    "'WOA13_annual_SST_nc4_classic.nc' **FAIL**\n",
    "\n",
    "'WOA13_annual_SST_nc4.nc' **FAIL**"
   ]
  },
  {
   "cell_type": "markdown",
   "metadata": {},
   "source": [
    "# xarray tests"
   ]
  },
  {
   "cell_type": "code",
   "execution_count": 26,
   "metadata": {},
   "outputs": [],
   "source": [
    "import xarray"
   ]
  },
  {
   "cell_type": "code",
   "execution_count": 27,
   "metadata": {},
   "outputs": [
    {
     "ename": "IOError",
     "evalue": "[Errno -51] NetCDF: Unknown file format: 'C:\\\\hw\\\\work\\\\M6ASP\\\\getting-started\\\\example_data\\\\WOA13_annual_SST_nc3_64bitdata.nc'",
     "output_type": "error",
     "traceback": [
      "\u001b[1;31m---------------------------------------------------------------------------\u001b[0m",
      "\u001b[1;31mIOError\u001b[0m                                   Traceback (most recent call last)",
      "\u001b[1;32m<ipython-input-27-f7a406f0bfea>\u001b[0m in \u001b[0;36m<module>\u001b[1;34m()\u001b[0m\n\u001b[1;32m----> 1\u001b[1;33m \u001b[0mtest1x\u001b[0m \u001b[1;33m=\u001b[0m \u001b[0mxarray\u001b[0m\u001b[1;33m.\u001b[0m\u001b[0mopen_dataset\u001b[0m\u001b[1;33m(\u001b[0m\u001b[1;34m'example_data/WOA13_annual_SST_nc3_64bitdata.nc'\u001b[0m\u001b[1;33m)\u001b[0m\u001b[1;33m\u001b[0m\u001b[0m\n\u001b[0m",
      "\u001b[1;32mC:\\Users\\MyWork\\AppData\\Local\\conda\\conda\\envs\\py2\\lib\\site-packages\\xarray\\backends\\api.pyc\u001b[0m in \u001b[0;36mopen_dataset\u001b[1;34m(filename_or_obj, group, decode_cf, mask_and_scale, decode_times, autoclose, concat_characters, decode_coords, engine, chunks, lock, cache, drop_variables)\u001b[0m\n\u001b[0;32m    284\u001b[0m             store = backends.NetCDF4DataStore.open(filename_or_obj,\n\u001b[0;32m    285\u001b[0m                                                    \u001b[0mgroup\u001b[0m\u001b[1;33m=\u001b[0m\u001b[0mgroup\u001b[0m\u001b[1;33m,\u001b[0m\u001b[1;33m\u001b[0m\u001b[0m\n\u001b[1;32m--> 286\u001b[1;33m                                                    autoclose=autoclose)\n\u001b[0m\u001b[0;32m    287\u001b[0m         \u001b[1;32melif\u001b[0m \u001b[0mengine\u001b[0m \u001b[1;33m==\u001b[0m \u001b[1;34m'scipy'\u001b[0m\u001b[1;33m:\u001b[0m\u001b[1;33m\u001b[0m\u001b[0m\n\u001b[0;32m    288\u001b[0m             store = backends.ScipyDataStore(filename_or_obj,\n",
      "\u001b[1;32mC:\\Users\\MyWork\\AppData\\Local\\conda\\conda\\envs\\py2\\lib\\site-packages\\xarray\\backends\\netCDF4_.pyc\u001b[0m in \u001b[0;36mopen\u001b[1;34m(cls, filename, mode, format, group, writer, clobber, diskless, persist, autoclose)\u001b[0m\n\u001b[0;32m    273\u001b[0m                                    \u001b[0mdiskless\u001b[0m\u001b[1;33m=\u001b[0m\u001b[0mdiskless\u001b[0m\u001b[1;33m,\u001b[0m \u001b[0mpersist\u001b[0m\u001b[1;33m=\u001b[0m\u001b[0mpersist\u001b[0m\u001b[1;33m,\u001b[0m\u001b[1;33m\u001b[0m\u001b[0m\n\u001b[0;32m    274\u001b[0m                                    format=format)\n\u001b[1;32m--> 275\u001b[1;33m         \u001b[0mds\u001b[0m \u001b[1;33m=\u001b[0m \u001b[0mopener\u001b[0m\u001b[1;33m(\u001b[0m\u001b[1;33m)\u001b[0m\u001b[1;33m\u001b[0m\u001b[0m\n\u001b[0m\u001b[0;32m    276\u001b[0m         return cls(ds, mode=mode, writer=writer, opener=opener,\n\u001b[0;32m    277\u001b[0m                    autoclose=autoclose)\n",
      "\u001b[1;32mC:\\Users\\MyWork\\AppData\\Local\\conda\\conda\\envs\\py2\\lib\\site-packages\\xarray\\backends\\netCDF4_.pyc\u001b[0m in \u001b[0;36m_open_netcdf4_group\u001b[1;34m(filename, mode, group, **kwargs)\u001b[0m\n\u001b[0;32m    197\u001b[0m     \u001b[1;32mimport\u001b[0m \u001b[0mnetCDF4\u001b[0m \u001b[1;32mas\u001b[0m \u001b[0mnc4\u001b[0m\u001b[1;33m\u001b[0m\u001b[0m\n\u001b[0;32m    198\u001b[0m \u001b[1;33m\u001b[0m\u001b[0m\n\u001b[1;32m--> 199\u001b[1;33m     \u001b[0mds\u001b[0m \u001b[1;33m=\u001b[0m \u001b[0mnc4\u001b[0m\u001b[1;33m.\u001b[0m\u001b[0mDataset\u001b[0m\u001b[1;33m(\u001b[0m\u001b[0mfilename\u001b[0m\u001b[1;33m,\u001b[0m \u001b[0mmode\u001b[0m\u001b[1;33m=\u001b[0m\u001b[0mmode\u001b[0m\u001b[1;33m,\u001b[0m \u001b[1;33m**\u001b[0m\u001b[0mkwargs\u001b[0m\u001b[1;33m)\u001b[0m\u001b[1;33m\u001b[0m\u001b[0m\n\u001b[0m\u001b[0;32m    200\u001b[0m \u001b[1;33m\u001b[0m\u001b[0m\n\u001b[0;32m    201\u001b[0m     \u001b[1;32mwith\u001b[0m \u001b[0mclose_on_error\u001b[0m\u001b[1;33m(\u001b[0m\u001b[0mds\u001b[0m\u001b[1;33m)\u001b[0m\u001b[1;33m:\u001b[0m\u001b[1;33m\u001b[0m\u001b[0m\n",
      "\u001b[1;32mnetCDF4\\_netCDF4.pyx\u001b[0m in \u001b[0;36mnetCDF4._netCDF4.Dataset.__init__\u001b[1;34m()\u001b[0m\n",
      "\u001b[1;32mnetCDF4\\_netCDF4.pyx\u001b[0m in \u001b[0;36mnetCDF4._netCDF4._ensure_nc_success\u001b[1;34m()\u001b[0m\n",
      "\u001b[1;31mIOError\u001b[0m: [Errno -51] NetCDF: Unknown file format: 'C:\\\\hw\\\\work\\\\M6ASP\\\\getting-started\\\\example_data\\\\WOA13_annual_SST_nc3_64bitdata.nc'"
     ]
    }
   ],
   "source": [
    "test1x = xarray.open_dataset('example_data/WOA13_annual_SST_nc3_64bitdata.nc')"
   ]
  },
  {
   "cell_type": "code",
   "execution_count": 28,
   "metadata": {},
   "outputs": [],
   "source": [
    "test2x = xarray.open_dataset('example_data/WOA13_annual_SST_nc3_64bitoffset.nc')"
   ]
  },
  {
   "cell_type": "code",
   "execution_count": 29,
   "metadata": {},
   "outputs": [
    {
     "data": {
      "text/plain": [
       "<xarray.Dataset>\n",
       "Dimensions:  (lat: 180, lon: 360)\n",
       "Coordinates:\n",
       "  * lat      (lat) float32 -89.5 -88.5 -87.5 -86.5 -85.5 -84.5 -83.5 -82.5 ...\n",
       "  * lon      (lon) float32 -179.5 -178.5 -177.5 -176.5 -175.5 -174.5 -173.5 ...\n",
       "Data variables:\n",
       "    tos      (lat, lon) float32 ...\n",
       "Attributes:\n",
       "    Conventions:                   CF-1.6\n",
       "    title:                         World Ocean Atlas 2013 version 2 : sea_sur...\n",
       "    summary:                       Climatological mean temperature for the gl...\n",
       "    references:                    Locarnini, R. A., A. V. Mishonov, J. I. An...\n",
       "    institution:                   National Oceanographic Data Center(NODC)\n",
       "    comment:                       global climatology as part of the World Oc...\n",
       "    id:                            woa13_decav_t00_01.ncv2.0\n",
       "    naming_authority:              gov.noaa.nodc\n",
       "    standard_name_vocabulary:      NetCDF Climate and Forecast (CF) Metadata ...\n",
       "    sea_name:                      World-Wide Distribution\n",
       "    time_coverage_start:           0000-01-01\n",
       "    time_coverage_duration:        P01Y\n",
       "    time_coverage_resolution:      P01Y\n",
       "    geospatial_lat_min:            -90.0\n",
       "    geospatial_lat_max:            90.0\n",
       "    geospatial_lon_min:            -180.0\n",
       "    geospatial_lon_max:            180.0\n",
       "    geospatial_vertical_min:       0.0\n",
       "    geospatial_vertical_max:       5500.0\n",
       "    geospatial_lat_units:          degrees_north\n",
       "    geospatial_lat_resolution:     1.00 degrees\n",
       "    geospatial_lon_units:          degrees_east\n",
       "    geospatial_lon_resolution:     1.00 degrees\n",
       "    geospatial_vertical_units:     m\n",
       "    geospatial_vertical_positive:  down\n",
       "    creator_name:                  Ocean Climate Laboratory\n",
       "    creator_email:                 NODC.Services@noaa.gov\n",
       "    creator_url:                   http://www.nodc.noaa.gov\n",
       "    project:                       World Ocean Atlas\n",
       "    processing_level:              processed\n",
       "    keywords:                      <ISO_TOPIC_Category> Oceans</ISO_TOPIC_Cat...\n",
       "    keywords_vocabulary:           ISO 19115\n",
       "    contributor_name:              Ocean Climate Laboratory\n",
       "    contributor_role:              Calculation of climatologies\n",
       "    cdm_data_type:                 Grid\n",
       "    publisher_name:                National Oceanographic Data Center\n",
       "    publisher_url:                 http://www.nodc.noaa.gov/\n",
       "    publisher_email:               NODC.Services@noaa.gov\n",
       "    nodc_template_version:         NODC_NetCDF_Grid_Template_v1.0\n",
       "    license:                       These data are openly available to the pub...\n",
       "    Metadata_Conventions:          Unidata Dataset Discovery v1.0\n",
       "    metadata_link:                 http://www.nodc.noaa.gov/OC5/WOA13/pr_woa1...\n",
       "    date_created:                  2011-09-28 \n",
       "    date_modified:                 2011-09-28 "
      ]
     },
     "execution_count": 29,
     "metadata": {},
     "output_type": "execute_result"
    }
   ],
   "source": [
    "test2x"
   ]
  },
  {
   "cell_type": "code",
   "execution_count": 30,
   "metadata": {},
   "outputs": [],
   "source": [
    "test3x = xarray.open_dataset('example_data/WOA13_annual_SST_nc3_classic.nc')"
   ]
  },
  {
   "cell_type": "code",
   "execution_count": 31,
   "metadata": {},
   "outputs": [
    {
     "data": {
      "text/plain": [
       "<xarray.Dataset>\n",
       "Dimensions:  (lat: 180, lon: 360)\n",
       "Coordinates:\n",
       "  * lat      (lat) float32 -89.5 -88.5 -87.5 -86.5 -85.5 -84.5 -83.5 -82.5 ...\n",
       "  * lon      (lon) float32 -179.5 -178.5 -177.5 -176.5 -175.5 -174.5 -173.5 ...\n",
       "Data variables:\n",
       "    tos      (lat, lon) float32 ...\n",
       "Attributes:\n",
       "    Conventions:                   CF-1.6\n",
       "    title:                         World Ocean Atlas 2013 version 2 : sea_sur...\n",
       "    summary:                       Climatological mean temperature for the gl...\n",
       "    references:                    Locarnini, R. A., A. V. Mishonov, J. I. An...\n",
       "    institution:                   National Oceanographic Data Center(NODC)\n",
       "    comment:                       global climatology as part of the World Oc...\n",
       "    id:                            woa13_decav_t00_01.ncv2.0\n",
       "    naming_authority:              gov.noaa.nodc\n",
       "    standard_name_vocabulary:      NetCDF Climate and Forecast (CF) Metadata ...\n",
       "    sea_name:                      World-Wide Distribution\n",
       "    time_coverage_start:           0000-01-01\n",
       "    time_coverage_duration:        P01Y\n",
       "    time_coverage_resolution:      P01Y\n",
       "    geospatial_lat_min:            -90.0\n",
       "    geospatial_lat_max:            90.0\n",
       "    geospatial_lon_min:            -180.0\n",
       "    geospatial_lon_max:            180.0\n",
       "    geospatial_vertical_min:       0.0\n",
       "    geospatial_vertical_max:       5500.0\n",
       "    geospatial_lat_units:          degrees_north\n",
       "    geospatial_lat_resolution:     1.00 degrees\n",
       "    geospatial_lon_units:          degrees_east\n",
       "    geospatial_lon_resolution:     1.00 degrees\n",
       "    geospatial_vertical_units:     m\n",
       "    geospatial_vertical_positive:  down\n",
       "    creator_name:                  Ocean Climate Laboratory\n",
       "    creator_email:                 NODC.Services@noaa.gov\n",
       "    creator_url:                   http://www.nodc.noaa.gov\n",
       "    project:                       World Ocean Atlas\n",
       "    processing_level:              processed\n",
       "    keywords:                      <ISO_TOPIC_Category> Oceans</ISO_TOPIC_Cat...\n",
       "    keywords_vocabulary:           ISO 19115\n",
       "    contributor_name:              Ocean Climate Laboratory\n",
       "    contributor_role:              Calculation of climatologies\n",
       "    cdm_data_type:                 Grid\n",
       "    publisher_name:                National Oceanographic Data Center\n",
       "    publisher_url:                 http://www.nodc.noaa.gov/\n",
       "    publisher_email:               NODC.Services@noaa.gov\n",
       "    nodc_template_version:         NODC_NetCDF_Grid_Template_v1.0\n",
       "    license:                       These data are openly available to the pub...\n",
       "    Metadata_Conventions:          Unidata Dataset Discovery v1.0\n",
       "    metadata_link:                 http://www.nodc.noaa.gov/OC5/WOA13/pr_woa1...\n",
       "    date_created:                  2011-09-28 \n",
       "    date_modified:                 2011-09-28 "
      ]
     },
     "execution_count": 31,
     "metadata": {},
     "output_type": "execute_result"
    }
   ],
   "source": [
    "test3x"
   ]
  },
  {
   "cell_type": "code",
   "execution_count": 32,
   "metadata": {},
   "outputs": [],
   "source": [
    "test4x = xarray.open_dataset('example_data/WOA13_annual_SST_nc4_classic.nc')"
   ]
  },
  {
   "cell_type": "code",
   "execution_count": 33,
   "metadata": {},
   "outputs": [
    {
     "data": {
      "text/plain": [
       "<xarray.Dataset>\n",
       "Dimensions:  (lat: 180, lon: 360)\n",
       "Coordinates:\n",
       "  * lat      (lat) float32 -89.5 -88.5 -87.5 -86.5 -85.5 -84.5 -83.5 -82.5 ...\n",
       "  * lon      (lon) float32 -179.5 -178.5 -177.5 -176.5 -175.5 -174.5 -173.5 ...\n",
       "Data variables:\n",
       "    tos      (lat, lon) float32 ...\n",
       "Attributes:\n",
       "    Conventions:                   CF-1.6\n",
       "    summary:                       Climatological mean temperature for the gl...\n",
       "    references:                    Locarnini, R. A., A. V. Mishonov, J. I. An...\n",
       "    institution:                   National Oceanographic Data Center(NODC)\n",
       "    comment:                       global climatology as part of the World Oc...\n",
       "    id:                            woa13_decav_t00_01.ncv2.0\n",
       "    naming_authority:              gov.noaa.nodc\n",
       "    standard_name_vocabulary:      NetCDF Climate and Forecast (CF) Metadata ...\n",
       "    sea_name:                      World-Wide Distribution\n",
       "    time_coverage_start:           0000-01-01\n",
       "    time_coverage_duration:        P01Y\n",
       "    time_coverage_resolution:      P01Y\n",
       "    geospatial_lat_min:            -90.0\n",
       "    geospatial_lat_max:            90.0\n",
       "    geospatial_lon_min:            -180.0\n",
       "    geospatial_lon_max:            180.0\n",
       "    geospatial_vertical_min:       0.0\n",
       "    geospatial_vertical_max:       5500.0\n",
       "    geospatial_lat_units:          degrees_north\n",
       "    geospatial_lat_resolution:     1.00 degrees\n",
       "    geospatial_lon_units:          degrees_east\n",
       "    geospatial_lon_resolution:     1.00 degrees\n",
       "    geospatial_vertical_units:     m\n",
       "    geospatial_vertical_positive:  down\n",
       "    creator_name:                  Ocean Climate Laboratory\n",
       "    creator_email:                 NODC.Services@noaa.gov\n",
       "    creator_url:                   http://www.nodc.noaa.gov\n",
       "    project:                       World Ocean Atlas\n",
       "    processing_level:              processed\n",
       "    keywords:                      <ISO_TOPIC_Category> Oceans</ISO_TOPIC_Cat...\n",
       "    keywords_vocabulary:           ISO 19115\n",
       "    contributor_name:              Ocean Climate Laboratory\n",
       "    contributor_role:              Calculation of climatologies\n",
       "    cdm_data_type:                 Grid\n",
       "    publisher_name:                National Oceanographic Data Center\n",
       "    publisher_url:                 http://www.nodc.noaa.gov/\n",
       "    publisher_email:               NODC.Services@noaa.gov\n",
       "    nodc_template_version:         NODC_NetCDF_Grid_Template_v1.0\n",
       "    license:                       These data are openly available to the pub...\n",
       "    Metadata_Conventions:          Unidata Dataset Discovery v1.0\n",
       "    metadata_link:                 http://www.nodc.noaa.gov/OC5/WOA13/pr_woa1...\n",
       "    date_created:                  2011-09-28 \n",
       "    date_modified:                 2011-09-28 \n",
       "    title:                         World Ocean Atlas 2013 version 2 : sea_sur..."
      ]
     },
     "execution_count": 33,
     "metadata": {},
     "output_type": "execute_result"
    }
   ],
   "source": [
    "test4x"
   ]
  },
  {
   "cell_type": "code",
   "execution_count": 34,
   "metadata": {},
   "outputs": [],
   "source": [
    "test5x = xarray.open_dataset('example_data/WOA13_annual_SST_nc4.nc')"
   ]
  },
  {
   "cell_type": "code",
   "execution_count": 35,
   "metadata": {},
   "outputs": [
    {
     "data": {
      "text/plain": [
       "<xarray.Dataset>\n",
       "Dimensions:  (lat: 180, lon: 360)\n",
       "Coordinates:\n",
       "  * lat      (lat) float32 -89.5 -88.5 -87.5 -86.5 -85.5 -84.5 -83.5 -82.5 ...\n",
       "  * lon      (lon) float32 -179.5 -178.5 -177.5 -176.5 -175.5 -174.5 -173.5 ...\n",
       "Data variables:\n",
       "    tos      (lat, lon) float32 ...\n",
       "Attributes:\n",
       "    Conventions:                   CF-1.6\n",
       "    title:                         World Ocean Atlas 2013 version 2 : sea_sur...\n",
       "    summary:                       Climatological mean temperature for the gl...\n",
       "    references:                    Locarnini, R. A., A. V. Mishonov, J. I. An...\n",
       "    institution:                   National Oceanographic Data Center(NODC)\n",
       "    comment:                       global climatology as part of the World Oc...\n",
       "    id:                            woa13_decav_t00_01.ncv2.0\n",
       "    naming_authority:              gov.noaa.nodc\n",
       "    standard_name_vocabulary:      NetCDF Climate and Forecast (CF) Metadata ...\n",
       "    sea_name:                      World-Wide Distribution\n",
       "    time_coverage_start:           0000-01-01\n",
       "    time_coverage_duration:        P01Y\n",
       "    time_coverage_resolution:      P01Y\n",
       "    geospatial_lat_min:            -90.0\n",
       "    geospatial_lat_max:            90.0\n",
       "    geospatial_lon_min:            -180.0\n",
       "    geospatial_lon_max:            180.0\n",
       "    geospatial_vertical_min:       0.0\n",
       "    geospatial_vertical_max:       5500.0\n",
       "    geospatial_lat_units:          degrees_north\n",
       "    geospatial_lat_resolution:     1.00 degrees\n",
       "    geospatial_lon_units:          degrees_east\n",
       "    geospatial_lon_resolution:     1.00 degrees\n",
       "    geospatial_vertical_units:     m\n",
       "    geospatial_vertical_positive:  down\n",
       "    creator_name:                  Ocean Climate Laboratory\n",
       "    creator_email:                 NODC.Services@noaa.gov\n",
       "    creator_url:                   http://www.nodc.noaa.gov\n",
       "    project:                       World Ocean Atlas\n",
       "    processing_level:              processed\n",
       "    keywords:                      <ISO_TOPIC_Category> Oceans</ISO_TOPIC_Cat...\n",
       "    keywords_vocabulary:           ISO 19115\n",
       "    contributor_name:              Ocean Climate Laboratory\n",
       "    contributor_role:              Calculation of climatologies\n",
       "    cdm_data_type:                 Grid\n",
       "    publisher_name:                National Oceanographic Data Center\n",
       "    publisher_url:                 http://www.nodc.noaa.gov/\n",
       "    publisher_email:               NODC.Services@noaa.gov\n",
       "    nodc_template_version:         NODC_NetCDF_Grid_Template_v1.0\n",
       "    license:                       These data are openly available to the pub...\n",
       "    Metadata_Conventions:          Unidata Dataset Discovery v1.0\n",
       "    metadata_link:                 http://www.nodc.noaa.gov/OC5/WOA13/pr_woa1...\n",
       "    date_created:                  2011-09-28 \n",
       "    date_modified:                 2011-09-28 "
      ]
     },
     "execution_count": 35,
     "metadata": {},
     "output_type": "execute_result"
    }
   ],
   "source": [
    "test5x"
   ]
  },
  {
   "cell_type": "markdown",
   "metadata": {},
   "source": [
    "## results\n",
    "'WOA13_annual_SST_nc3_64bitdata.nc' **FAIL**\n",
    "\n",
    "'WOA13_annual_SST_nc3_64bitoffset.nc' **SUCCESS**\n",
    "\n",
    "'WOA13_annual_SST_nc3_classic.nc' **SUCCESS**\n",
    "\n",
    "'WOA13_annual_SST_nc4_classic.nc' **SUCCESS**\n",
    "\n",
    "'WOA13_annual_SST_nc4.nc' **SUCCESS**"
   ]
  },
  {
   "cell_type": "code",
   "execution_count": null,
   "metadata": {},
   "outputs": [],
   "source": []
  }
 ],
 "metadata": {
  "kernelspec": {
   "display_name": "Python 2",
   "language": "python",
   "name": "python2"
  },
  "language_info": {
   "codemirror_mode": {
    "name": "ipython",
    "version": 2
   },
   "file_extension": ".py",
   "mimetype": "text/x-python",
   "name": "python",
   "nbconvert_exporter": "python",
   "pygments_lexer": "ipython2",
   "version": "2.7.14"
  }
 },
 "nbformat": 4,
 "nbformat_minor": 2
}
