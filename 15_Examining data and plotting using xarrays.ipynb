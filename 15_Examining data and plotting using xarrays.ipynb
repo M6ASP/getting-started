{
 "cells": [
  {
   "cell_type": "markdown",
   "metadata": {},
   "source": [
    "# Examining data and plotting using xarrays"
   ]
  },
  {
   "cell_type": "markdown",
   "metadata": {},
   "source": [
    "## Setting up the data"
   ]
  },
  {
   "cell_type": "markdown",
   "metadata": {},
   "source": [
    "See the \"Reading metadata using xarray\" for how to input data using xarray."
   ]
  },
  {
   "cell_type": "code",
   "execution_count": 1,
   "metadata": {},
   "outputs": [
    {
     "name": "stdout",
     "output_type": "stream",
     "text": [
      "Populating the interactive namespace from numpy and matplotlib\n"
     ]
    }
   ],
   "source": [
    "%pylab inline\n",
    "import xarray"
   ]
  },
  {
   "cell_type": "code",
   "execution_count": 2,
   "metadata": {},
   "outputs": [],
   "source": [
    "data = xarray.open_dataset('example_data/WOA13_annual_SST_nc4_classic.nc')"
   ]
  },
  {
   "cell_type": "markdown",
   "metadata": {},
   "source": [
    "## Examining the metadata "
   ]
  },
  {
   "cell_type": "code",
   "execution_count": 3,
   "metadata": {},
   "outputs": [
    {
     "data": {
      "text/plain": [
       "<xarray.Dataset>\n",
       "Dimensions:  (lat: 180, lon: 360)\n",
       "Coordinates:\n",
       "  * lat      (lat) float32 -89.5 -88.5 -87.5 -86.5 -85.5 -84.5 -83.5 -82.5 ...\n",
       "  * lon      (lon) float32 -179.5 -178.5 -177.5 -176.5 -175.5 -174.5 -173.5 ...\n",
       "Data variables:\n",
       "    tos      (lat, lon) float32 ...\n",
       "Attributes:\n",
       "    Conventions:                   CF-1.6\n",
       "    summary:                       Climatological mean temperature for the gl...\n",
       "    references:                    Locarnini, R. A., A. V. Mishonov, J. I. An...\n",
       "    institution:                   National Oceanographic Data Center(NODC)\n",
       "    comment:                       global climatology as part of the World Oc...\n",
       "    id:                            woa13_decav_t00_01.ncv2.0\n",
       "    naming_authority:              gov.noaa.nodc\n",
       "    standard_name_vocabulary:      NetCDF Climate and Forecast (CF) Metadata ...\n",
       "    sea_name:                      World-Wide Distribution\n",
       "    time_coverage_start:           0000-01-01\n",
       "    time_coverage_duration:        P01Y\n",
       "    time_coverage_resolution:      P01Y\n",
       "    geospatial_lat_min:            -90.0\n",
       "    geospatial_lat_max:            90.0\n",
       "    geospatial_lon_min:            -180.0\n",
       "    geospatial_lon_max:            180.0\n",
       "    geospatial_vertical_min:       0.0\n",
       "    geospatial_vertical_max:       5500.0\n",
       "    geospatial_lat_units:          degrees_north\n",
       "    geospatial_lat_resolution:     1.00 degrees\n",
       "    geospatial_lon_units:          degrees_east\n",
       "    geospatial_lon_resolution:     1.00 degrees\n",
       "    geospatial_vertical_units:     m\n",
       "    geospatial_vertical_positive:  down\n",
       "    creator_name:                  Ocean Climate Laboratory\n",
       "    creator_email:                 NODC.Services@noaa.gov\n",
       "    creator_url:                   http://www.nodc.noaa.gov\n",
       "    project:                       World Ocean Atlas\n",
       "    processing_level:              processed\n",
       "    keywords:                      <ISO_TOPIC_Category> Oceans</ISO_TOPIC_Cat...\n",
       "    keywords_vocabulary:           ISO 19115\n",
       "    contributor_name:              Ocean Climate Laboratory\n",
       "    contributor_role:              Calculation of climatologies\n",
       "    cdm_data_type:                 Grid\n",
       "    publisher_name:                National Oceanographic Data Center\n",
       "    publisher_url:                 http://www.nodc.noaa.gov/\n",
       "    publisher_email:               NODC.Services@noaa.gov\n",
       "    nodc_template_version:         NODC_NetCDF_Grid_Template_v1.0\n",
       "    license:                       These data are openly available to the pub...\n",
       "    Metadata_Conventions:          Unidata Dataset Discovery v1.0\n",
       "    metadata_link:                 http://www.nodc.noaa.gov/OC5/WOA13/pr_woa1...\n",
       "    date_created:                  2011-09-28 \n",
       "    date_modified:                 2011-09-28 \n",
       "    title:                         World Ocean Atlas 2013 version 2 : sea_sur..."
      ]
     },
     "execution_count": 3,
     "metadata": {},
     "output_type": "execute_result"
    }
   ],
   "source": [
    "data"
   ]
  },
  {
   "cell_type": "markdown",
   "metadata": {},
   "source": [
    "Upon inspecting our metadata, we can see our \"data variable\" is 'tos', which is mapped onto specific coordinates 'lat' and 'lon'. Alternatively, we can call `.variables` to view the variables contained in our data set and their attributes."
   ]
  },
  {
   "cell_type": "code",
   "execution_count": 4,
   "metadata": {},
   "outputs": [
    {
     "data": {
      "text/plain": [
       "Frozen(OrderedDict([(u'lat', <xarray.IndexVariable u'lat' (lat: 180)>\n",
       "array([-89.5, -88.5, -87.5, -86.5, -85.5, -84.5, -83.5, -82.5, -81.5, -80.5,\n",
       "       -79.5, -78.5, -77.5, -76.5, -75.5, -74.5, -73.5, -72.5, -71.5, -70.5,\n",
       "       -69.5, -68.5, -67.5, -66.5, -65.5, -64.5, -63.5, -62.5, -61.5, -60.5,\n",
       "       -59.5, -58.5, -57.5, -56.5, -55.5, -54.5, -53.5, -52.5, -51.5, -50.5,\n",
       "       -49.5, -48.5, -47.5, -46.5, -45.5, -44.5, -43.5, -42.5, -41.5, -40.5,\n",
       "       -39.5, -38.5, -37.5, -36.5, -35.5, -34.5, -33.5, -32.5, -31.5, -30.5,\n",
       "       -29.5, -28.5, -27.5, -26.5, -25.5, -24.5, -23.5, -22.5, -21.5, -20.5,\n",
       "       -19.5, -18.5, -17.5, -16.5, -15.5, -14.5, -13.5, -12.5, -11.5, -10.5,\n",
       "        -9.5,  -8.5,  -7.5,  -6.5,  -5.5,  -4.5,  -3.5,  -2.5,  -1.5,  -0.5,\n",
       "         0.5,   1.5,   2.5,   3.5,   4.5,   5.5,   6.5,   7.5,   8.5,   9.5,\n",
       "        10.5,  11.5,  12.5,  13.5,  14.5,  15.5,  16.5,  17.5,  18.5,  19.5,\n",
       "        20.5,  21.5,  22.5,  23.5,  24.5,  25.5,  26.5,  27.5,  28.5,  29.5,\n",
       "        30.5,  31.5,  32.5,  33.5,  34.5,  35.5,  36.5,  37.5,  38.5,  39.5,\n",
       "        40.5,  41.5,  42.5,  43.5,  44.5,  45.5,  46.5,  47.5,  48.5,  49.5,\n",
       "        50.5,  51.5,  52.5,  53.5,  54.5,  55.5,  56.5,  57.5,  58.5,  59.5,\n",
       "        60.5,  61.5,  62.5,  63.5,  64.5,  65.5,  66.5,  67.5,  68.5,  69.5,\n",
       "        70.5,  71.5,  72.5,  73.5,  74.5,  75.5,  76.5,  77.5,  78.5,  79.5,\n",
       "        80.5,  81.5,  82.5,  83.5,  84.5,  85.5,  86.5,  87.5,  88.5,  89.5],\n",
       "      dtype=float32)\n",
       "Attributes:\n",
       "    standard_name:  latitude\n",
       "    long_name:      latitude\n",
       "    units:          degrees_north\n",
       "    axis:           Y\n",
       "    bounds:         lat_bnds), (u'lon', <xarray.IndexVariable u'lon' (lon: 360)>\n",
       "array([-179.5, -178.5, -177.5, ...,  177.5,  178.5,  179.5], dtype=float32)\n",
       "Attributes:\n",
       "    standard_name:  longitude\n",
       "    long_name:      longitude\n",
       "    units:          degrees_east\n",
       "    axis:           X\n",
       "    bounds:         lon_bnds), (u'tos', <xarray.Variable (lat: 180, lon: 360)>\n",
       "array([[     nan,      nan,      nan, ...,      nan,      nan,      nan],\n",
       "       [     nan,      nan,      nan, ...,      nan,      nan,      nan],\n",
       "       [     nan,      nan,      nan, ...,      nan,      nan,      nan],\n",
       "       ...,\n",
       "       [-1.54911, -1.55321, -1.55531, ..., -1.54461, -1.54581, -1.54691],\n",
       "       [-1.55831, -1.56001, -1.56111, ..., -1.55651, -1.5568 , -1.55741],\n",
       "       [-1.57421, -1.57421, -1.57421, ..., -1.57421, -1.57421, -1.57421]],\n",
       "      dtype=float32)\n",
       "Attributes:\n",
       "    coordinates:    time lat lon depth\n",
       "    cell_methods:   area: mean depth: mean time: mean\n",
       "    grid_mapping:   crs\n",
       "    units:          degrees_celsius\n",
       "    standard_name:  sea_surface_temperature\n",
       "    long_name:      Objectively analyzed mean fields for sea_surface_temperat...)]))"
      ]
     },
     "execution_count": 4,
     "metadata": {},
     "output_type": "execute_result"
    }
   ],
   "source": [
    "data.variables"
   ]
  },
  {
   "cell_type": "markdown",
   "metadata": {},
   "source": [
    "We can access the 'tos' variable (which corresponds to sea surface temperature according to the above metadata) by calling it from our data. Specifically, we will store it in another variable of the identical name."
   ]
  },
  {
   "cell_type": "code",
   "execution_count": 5,
   "metadata": {},
   "outputs": [],
   "source": [
    "tos = data['tos']"
   ]
  },
  {
   "cell_type": "markdown",
   "metadata": {},
   "source": [
    "## Plotting the data"
   ]
  },
  {
   "cell_type": "markdown",
   "metadata": {},
   "source": [
    "We can view the contents of `tos` by simply calling it."
   ]
  },
  {
   "cell_type": "code",
   "execution_count": 6,
   "metadata": {},
   "outputs": [
    {
     "data": {
      "text/plain": [
       "<xarray.DataArray 'tos' (lat: 180, lon: 360)>\n",
       "array([[     nan,      nan,      nan, ...,      nan,      nan,      nan],\n",
       "       [     nan,      nan,      nan, ...,      nan,      nan,      nan],\n",
       "       [     nan,      nan,      nan, ...,      nan,      nan,      nan],\n",
       "       ...,\n",
       "       [-1.54911, -1.55321, -1.55531, ..., -1.54461, -1.54581, -1.54691],\n",
       "       [-1.55831, -1.56001, -1.56111, ..., -1.55651, -1.5568 , -1.55741],\n",
       "       [-1.57421, -1.57421, -1.57421, ..., -1.57421, -1.57421, -1.57421]],\n",
       "      dtype=float32)\n",
       "Coordinates:\n",
       "  * lat      (lat) float32 -89.5 -88.5 -87.5 -86.5 -85.5 -84.5 -83.5 -82.5 ...\n",
       "  * lon      (lon) float32 -179.5 -178.5 -177.5 -176.5 -175.5 -174.5 -173.5 ...\n",
       "Attributes:\n",
       "    coordinates:    time lat lon depth\n",
       "    cell_methods:   area: mean depth: mean time: mean\n",
       "    grid_mapping:   crs\n",
       "    units:          degrees_celsius\n",
       "    standard_name:  sea_surface_temperature\n",
       "    long_name:      Objectively analyzed mean fields for sea_surface_temperat..."
      ]
     },
     "execution_count": 6,
     "metadata": {},
     "output_type": "execute_result"
    }
   ],
   "source": [
    "tos"
   ]
  },
  {
   "cell_type": "markdown",
   "metadata": {},
   "source": [
    "Again, we see that each `tos` value corresponds to a `lat`, `lon` coordinate pair. We can plot `tos` using the following plot command. Additionally, we add a color bar to our plot."
   ]
  },
  {
   "cell_type": "code",
   "execution_count": 7,
   "metadata": {},
   "outputs": [
    {
     "data": {
      "text/plain": [
       "<matplotlib.colorbar.Colorbar at 0x9e1af60>"
      ]
     },
     "execution_count": 7,
     "metadata": {},
     "output_type": "execute_result"
    },
    {
     "data": {
      "image/png": "[encoded data removed]",
      "text/plain": [
       "<matplotlib.figure.Figure at 0x9b4a358>"
      ]
     },
     "metadata": {},
     "output_type": "display_data"
    }
   ],
   "source": [
    "plt.pcolormesh(data['tos'])\n",
    "plt.colorbar()"
   ]
  }
 ],
 "metadata": {
  "kernelspec": {
   "display_name": "Python 2",
   "language": "python",
   "name": "python2"
  },
  "language_info": {
   "codemirror_mode": {
    "name": "ipython",
    "version": 2
   },
   "file_extension": ".py",
   "mimetype": "text/x-python",
   "name": "python",
   "nbconvert_exporter": "python",
   "pygments_lexer": "ipython2",
   "version": "2.7.14"
  }
 },
 "nbformat": 4,
 "nbformat_minor": 2
}
