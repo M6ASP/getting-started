{
 "cells": [
  {
   "cell_type": "markdown",
   "metadata": {},
   "source": [
    "Spec: In python, most packages can handle an IO object in place of a regular file. The five binary files have been packaged into the compressed tar file example_data/WOA13_annual_SST.tgz.\n",
    "\n",
    "- Document which packages can work with io.BufferedReader objects.\n",
    "- Use the TarFile.extractfile() method to return an io.BufferedReader object.\n",
    "- Using the .extract() and .extractall() methods is defeating the purpose of the test.\n",
    "- See https://docs.python.org/2/library/tarfile.html and/or https://docs.python.org/3.4/library/tarfile.html for documentation on TarFile, the package to open the .tgz file."
   ]
  },
  {
   "cell_type": "markdown",
   "metadata": {},
   "source": [
    "`conda create -n iotest python=3.6 numpy scipy matplotlib h5py nb_conda_kernels netcdf4 xarray `"
   ]
  },
  {
   "cell_type": "code",
   "execution_count": 2,
   "metadata": {},
   "outputs": [],
   "source": [
    "import tarfile"
   ]
  },
  {
   "cell_type": "markdown",
   "metadata": {},
   "source": [
    "Importing packages"
   ]
  },
  {
   "cell_type": "code",
   "execution_count": 3,
   "metadata": {},
   "outputs": [
    {
     "name": "stderr",
     "output_type": "stream",
     "text": [
      "/Users/Esther/miniconda2/envs/iotest/lib/python3.6/site-packages/h5py/__init__.py:36: FutureWarning: Conversion of the second argument of issubdtype from `float` to `np.floating` is deprecated. In future, it will be treated as `np.float64 == np.dtype(float).type`.\n",
      "  from ._conv import register_converters as _register_converters\n"
     ]
    }
   ],
   "source": [
    "import scipy.io.netcdf\n",
    "import netCDF4\n",
    "import h5netcdf\n",
    "import xarray"
   ]
  },
  {
   "cell_type": "code",
   "execution_count": 4,
   "metadata": {},
   "outputs": [],
   "source": [
    "tar = tarfile.open('example_data/WOA13_annual_SST.tgz')"
   ]
  },
  {
   "cell_type": "markdown",
   "metadata": {},
   "source": [
    "This is definitely inaccurate, but this is a preliminary start. Maybe because of the warnings below?"
   ]
  },
  {
   "cell_type": "code",
   "execution_count": 15,
   "metadata": {},
   "outputs": [
    {
     "name": "stdout",
     "output_type": "stream",
     "text": [
      "<TarInfo 'WOA13_annual_SST_nc3_64bitdata.nc' at 0x117b59368>\n",
      "Not compatible with netcdf\n",
      "Not compatible with netcdf4\n",
      "Not compatible with h5netcdf\n",
      "Not compatible with xarray\n",
      "\n",
      "<TarInfo 'WOA13_annual_SST_nc3_64bitoffset.nc' at 0x117b592a0>\n",
      "Compatible with netcdf\n",
      "Not compatible with netcdf4\n",
      "Not compatible with h5netcdf\n",
      "Compatible with xarray\n",
      "\n",
      "<TarInfo 'WOA13_annual_SST_nc3_classic.nc' at 0x117b59430>\n",
      "Compatible with netcdf\n",
      "Not compatible with netcdf4\n",
      "Not compatible with h5netcdf\n",
      "Compatible with xarray\n",
      "\n",
      "<TarInfo 'WOA13_annual_SST_nc4_classic.nc' at 0x117b594f8>\n",
      "Not compatible with netcdf\n",
      "Not compatible with netcdf4\n",
      "Not compatible with h5netcdf\n",
      "Not compatible with xarray\n",
      "\n",
      "<TarInfo 'WOA13_annual_SST_nc4.nc' at 0x117b595c0>\n",
      "Not compatible with netcdf\n",
      "Not compatible with netcdf4\n",
      "Not compatible with h5netcdf\n",
      "Not compatible with xarray\n",
      "\n"
     ]
    },
    {
     "name": "stderr",
     "output_type": "stream",
     "text": [
      "Exception ignored in: <object repr() failed>\n",
      "Traceback (most recent call last):\n",
      "  File \"/Users/Esther/miniconda2/envs/iotest/lib/python3.6/site-packages/h5netcdf/core.py\", line 631, in close\n",
      "    if not self._closed:\n",
      "AttributeError: 'File' object has no attribute '_closed'\n",
      "Exception ignored in: <object repr() failed>\n",
      "Traceback (most recent call last):\n",
      "  File \"/Users/Esther/miniconda2/envs/iotest/lib/python3.6/site-packages/h5netcdf/core.py\", line 631, in close\n",
      "    if not self._closed:\n",
      "AttributeError: 'File' object has no attribute '_closed'\n",
      "Exception ignored in: <object repr() failed>\n",
      "Traceback (most recent call last):\n",
      "  File \"/Users/Esther/miniconda2/envs/iotest/lib/python3.6/site-packages/h5netcdf/core.py\", line 631, in close\n",
      "    if not self._closed:\n",
      "AttributeError: 'File' object has no attribute '_closed'\n",
      "Exception ignored in: <object repr() failed>\n",
      "Traceback (most recent call last):\n",
      "  File \"/Users/Esther/miniconda2/envs/iotest/lib/python3.6/site-packages/h5netcdf/core.py\", line 631, in close\n",
      "    if not self._closed:\n",
      "AttributeError: 'File' object has no attribute '_closed'\n",
      "Exception ignored in: <object repr() failed>\n",
      "Traceback (most recent call last):\n",
      "  File \"/Users/Esther/miniconda2/envs/iotest/lib/python3.6/site-packages/h5netcdf/core.py\", line 631, in close\n",
      "    if not self._closed:\n",
      "AttributeError: 'File' object has no attribute '_closed'\n"
     ]
    }
   ],
   "source": [
    "for member in tar.getmembers():\n",
    "    print(member)\n",
    "    if member:\n",
    "        print(open_with_netcdf(tar, member))\n",
    "        print(open_with_netcdf4(tar, member))\n",
    "        print(open_with_h5netcdf(tar, member))\n",
    "        print(open_with_xarray(tar, member))\n",
    "    print()\n",
    "            "
   ]
  },
  {
   "cell_type": "code",
   "execution_count": 7,
   "metadata": {},
   "outputs": [],
   "source": [
    "def open_with_netcdf(t, m):\n",
    "    try:\n",
    "        scipy.io.netcdf_file(t.extractfile(m))\n",
    "        return(\"Compatible with netcdf\")\n",
    "    except:\n",
    "        return(\"Not compatible with netcdf\")"
   ]
  },
  {
   "cell_type": "code",
   "execution_count": 8,
   "metadata": {},
   "outputs": [],
   "source": [
    "def open_with_netcdf4(t, m):\n",
    "    try:\n",
    "        netCDF4.Dataset(t.extractfile(m))\n",
    "        return(\"Compatible with netcdf4\")\n",
    "    except:\n",
    "        return(\"Not compatible with netcdf4\")"
   ]
  },
  {
   "cell_type": "markdown",
   "metadata": {},
   "source": [
    "Did this because my h5netcdf had memory issues"
   ]
  },
  {
   "cell_type": "code",
   "execution_count": 14,
   "metadata": {},
   "outputs": [],
   "source": [
    "def open_with_h5netcdf(t, m):\n",
    "    try:\n",
    "        hcf = h5netcdf.File(t.extractfile(m))\n",
    "        hcf.dimensions\n",
    "        return(\"Compatible with h5netcdf\")\n",
    "    except:\n",
    "        return(\"Not compatible with h5netcdf\")"
   ]
  },
  {
   "cell_type": "code",
   "execution_count": 10,
   "metadata": {},
   "outputs": [],
   "source": [
    "def open_with_xarray(t, m):\n",
    "    try:\n",
    "        xarray.open_dataset(t.extractfile(m))\n",
    "        return(\"Compatible with xarray\")\n",
    "    except:\n",
    "        return(\"Not compatible with xarray\")"
   ]
  }
 ],
 "metadata": {
  "kernelspec": {
   "display_name": "Python 2",
   "language": "python",
   "name": "python2"
  },
  "language_info": {
   "codemirror_mode": {
    "name": "ipython",
    "version": 2
   },
   "file_extension": ".py",
   "mimetype": "text/x-python",
   "name": "python",
   "nbconvert_exporter": "python",
   "pygments_lexer": "ipython2",
   "version": "2.7.14"
  }
 },
 "nbformat": 4,
 "nbformat_minor": 2
}
