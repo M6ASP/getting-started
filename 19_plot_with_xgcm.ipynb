{
 "cells": [
  {
   "cell_type": "markdown",
   "metadata": {},
   "source": [
    "# Plot curvilinear-grid model output"
   ]
  },
  {
   "cell_type": "markdown",
   "metadata": {},
   "source": [
    "## Setting up the data"
   ]
  },
  {
   "cell_type": "markdown",
   "metadata": {},
   "source": [
    "Referenced: \n",
    "- https://xgcm.readthedocs.io/en/latest/grid_topology.html\n",
    "- https://xgcm.readthedocs.io/en/latest/example_mitgcm.html\n",
    "- https://media.readthedocs.org/pdf/xgcm/latest/xgcm.pdf"
   ]
  },
  {
   "cell_type": "markdown",
   "metadata": {},
   "source": [
    "### NetCDF4"
   ]
  },
  {
   "cell_type": "code",
   "execution_count": 6,
   "metadata": {},
   "outputs": [
    {
     "name": "stdout",
     "output_type": "stream",
     "text": [
      "Populating the interactive namespace from numpy and matplotlib\n"
     ]
    }
   ],
   "source": [
    "%pylab inline\n",
    "import netCDF4\n",
    "import xarray\n",
    "from netCDF4 import Dataset"
   ]
  },
  {
   "cell_type": "code",
   "execution_count": 8,
   "metadata": {},
   "outputs": [
    {
     "name": "stderr",
     "output_type": "stream",
     "text": [
      "/Users/Esther/miniconda2/envs/xarrays/lib/python3.6/site-packages/xarray/conventions.py:416: SerializationWarning: Unable to decode time axis into full numpy.datetime64 objects, continuing using dummy netCDF4.datetime objects instead, reason: dates out of range\n",
      "  result = decode_cf_datetime(example_value, units, calendar)\n",
      "/Users/Esther/miniconda2/envs/xarrays/lib/python3.6/site-packages/xarray/conventions.py:435: SerializationWarning: Unable to decode time axis into full numpy.datetime64 objects, continuing using dummy netCDF4.datetime objects instead, reason: dates out of range\n",
      "  calendar=self.calendar)\n"
     ]
    }
   ],
   "source": [
    "ncf = Dataset('../example_1degree_data/ocean.0001-0010.ssh.nc', \"r\", format=\"NetCDF4\")\n",
    "x_data = xarray.open_dataset('../example_1degree_data/ocean.0001-0010.ssh.nc')"
   ]
  },
  {
   "cell_type": "code",
   "execution_count": 11,
   "metadata": {},
   "outputs": [],
   "source": [
    "ncf_old = Dataset('example_data/WOA13_annual_SST_nc3_classic.nc', \"r\", format=\"NetCDF4\")"
   ]
  },
  {
   "cell_type": "code",
   "execution_count": 13,
   "metadata": {},
   "outputs": [
    {
     "data": {
      "text/plain": [
       "<class 'netCDF4._netCDF4.Dataset'>\n",
       "root group (NETCDF3_CLASSIC data model, file format NETCDF3):\n",
       "    Conventions: CF-1.6\n",
       "    title: World Ocean Atlas 2013 version 2 : sea_surface_temperature Annual 1.00 degree\n",
       "    summary: Climatological mean temperature for the global ocean from in situ profile data\n",
       "    references: Locarnini, R. A., A. V. Mishonov, J. I. Antonov, T. P. Boyer, H. E. Garcia, O. K. Baranova, M. M. Zweng, C. R. Paver, J. R. Reagan,D. R. Johnson, M. Hamilton, and D. Seidov , 2013: World Ocean Atlas 2013, Volume 1: Temperature. S. Levitus, Ed., A. Mishonov technical editor, NOAA Atlas NESDIS 73.\n",
       "    institution: National Oceanographic Data Center(NODC)\n",
       "    comment: global climatology as part of the World Ocean Atlas project\n",
       "    id: woa13_decav_t00_01.ncv2.0\n",
       "    naming_authority: gov.noaa.nodc\n",
       "    standard_name_vocabulary: NetCDF Climate and Forecast (CF) Metadata Convention Standard Name Table v29\n",
       "    sea_name: World-Wide Distribution\n",
       "    time_coverage_start: 0000-01-01\n",
       "    time_coverage_duration: P01Y\n",
       "    time_coverage_resolution: P01Y\n",
       "    geospatial_lat_min: -90.0\n",
       "    geospatial_lat_max: 90.0\n",
       "    geospatial_lon_min: -180.0\n",
       "    geospatial_lon_max: 180.0\n",
       "    geospatial_vertical_min: 0.0\n",
       "    geospatial_vertical_max: 5500.0\n",
       "    geospatial_lat_units: degrees_north\n",
       "    geospatial_lat_resolution: 1.00 degrees\n",
       "    geospatial_lon_units: degrees_east\n",
       "    geospatial_lon_resolution: 1.00 degrees\n",
       "    geospatial_vertical_units: m\n",
       "    geospatial_vertical_positive: down\n",
       "    creator_name: Ocean Climate Laboratory\n",
       "    creator_email: NODC.Services@noaa.gov\n",
       "    creator_url: http://www.nodc.noaa.gov\n",
       "    project: World Ocean Atlas\n",
       "    processing_level: processed\n",
       "    keywords: <ISO_TOPIC_Category> Oceans</ISO_TOPIC_Category>\n",
       "    keywords_vocabulary: ISO 19115\n",
       "    contributor_name: Ocean Climate Laboratory\n",
       "    contributor_role: Calculation of climatologies\n",
       "    cdm_data_type: Grid\n",
       "    publisher_name: National Oceanographic Data Center\n",
       "    publisher_url: http://www.nodc.noaa.gov/\n",
       "    publisher_email: NODC.Services@noaa.gov\n",
       "    nodc_template_version: NODC_NetCDF_Grid_Template_v1.0\n",
       "    license: These data are openly available to the public. Please acknowledge the use of these data with the text given in the acknowledgment attribute.\n",
       "    Metadata_Conventions: Unidata Dataset Discovery v1.0\n",
       "    metadata_link: http://www.nodc.noaa.gov/OC5/WOA13/pr_woa13.html\n",
       "    date_created: 2011-09-28 \n",
       "    date_modified: 2011-09-28 \n",
       "    dimensions(sizes): depth(102), lat(180), lon(360), nbounds(2)\n",
       "    variables(dimensions): float32 \u001b[4mlat\u001b[0m(lat), float32 \u001b[4mlon\u001b[0m(lon), float32 \u001b[4mtos\u001b[0m(lat,lon)\n",
       "    groups: "
      ]
     },
     "execution_count": 13,
     "metadata": {},
     "output_type": "execute_result"
    }
   ],
   "source": [
    "ncf_old"
   ]
  },
  {
   "cell_type": "code",
   "execution_count": 10,
   "metadata": {},
   "outputs": [
    {
     "name": "stderr",
     "output_type": "stream",
     "text": [
      "/Users/Esther/miniconda2/envs/xarrays/lib/python3.6/site-packages/xarray/conventions.py:435: SerializationWarning: Unable to decode time axis into full numpy.datetime64 objects, continuing using dummy netCDF4.datetime objects instead, reason: dates out of range\n",
      "  calendar=self.calendar)\n"
     ]
    },
    {
     "data": {
      "text/plain": [
       "Frozen(OrderedDict([('nv', <xarray.IndexVariable 'nv' (nv: 2)>\n",
       "array([1., 2.])\n",
       "Attributes:\n",
       "    long_name:       vertex number\n",
       "    units:           none\n",
       "    cartesian_axis:  N), ('ssh', <xarray.Variable (time: 10, yh: 320, xh: 360)>\n",
       "[1152000 values with dtype=float64]\n",
       "Attributes:\n",
       "    long_name:      Sea Surface Height\n",
       "    units:          m\n",
       "    cell_measures:  area: area_t\n",
       "    cell_methods:   area:mean yh:mean xh:mean time: mean\n",
       "    time_avg_info:  average_T1,average_T2,average_DT), ('time', <xarray.IndexVariable 'time' (time: 10)>\n",
       "array([netcdftime._netcdftime.DatetimeJulian(1, 7, 2, 12, 0, 0, 7, -1, 1),\n",
       "       netcdftime._netcdftime.DatetimeJulian(2, 7, 2, 12, 0, 0, 7, -1, 1),\n",
       "       netcdftime._netcdftime.DatetimeJulian(3, 7, 2, 12, 0, 0, 7, -1, 1),\n",
       "       netcdftime._netcdftime.DatetimeJulian(4, 7, 2, 0, 0, 0, 7, -1, 1),\n",
       "       netcdftime._netcdftime.DatetimeJulian(5, 7, 2, 12, 0, 0, 7, -1, 1),\n",
       "       netcdftime._netcdftime.DatetimeJulian(6, 7, 2, 12, 0, 0, 7, -1, 1),\n",
       "       netcdftime._netcdftime.DatetimeJulian(7, 7, 2, 12, 0, 0, 7, -1, 1),\n",
       "       netcdftime._netcdftime.DatetimeJulian(8, 7, 2, 0, 0, 0, 7, -1, 1),\n",
       "       netcdftime._netcdftime.DatetimeJulian(9, 7, 2, 12, 0, 0, 7, -1, 1),\n",
       "       netcdftime._netcdftime.DatetimeJulian(10, 7, 2, 12, 0, 0, 7, -1, 1)],\n",
       "      dtype=object)\n",
       "Attributes:\n",
       "    long_name:       time\n",
       "    cartesian_axis:  T\n",
       "    calendar_type:   JULIAN\n",
       "    bounds:          time_bnds), ('time_bnds', <xarray.Variable (time: 10, nv: 2)>\n",
       "array([[                 0,  31536000000000000],\n",
       "       [ 31536000000000000,  63072000000000000],\n",
       "       [ 63072000000000000,  94608000000000000],\n",
       "       [ 94608000000000000, 126230400000000000],\n",
       "       [126230400000000000, 157766400000000000],\n",
       "       [157766400000000000, 189302400000000000],\n",
       "       [189302400000000000, 220838400000000000],\n",
       "       [220838400000000000, 252460800000000000],\n",
       "       [252460800000000000, 283996800000000000],\n",
       "       [283996800000000000, 315532800000000000]], dtype='timedelta64[ns]')\n",
       "Attributes:\n",
       "    long_name:  time axis boundaries), ('xh', <xarray.IndexVariable 'xh' (xh: 360)>\n",
       "array([-299.5, -298.5, -297.5, ...,   57.5,   58.5,   59.5])\n",
       "Attributes:\n",
       "    long_name:       h point nominal longitude\n",
       "    units:           degrees_east\n",
       "    cartesian_axis:  X), ('yh', <xarray.IndexVariable 'yh' (yh: 320)>\n",
       "array([-77.774202, -77.560621, -77.343369, ...,  89.481909,  89.694551,\n",
       "        89.9     ])\n",
       "Attributes:\n",
       "    long_name:       h point nominal latitude\n",
       "    units:           degrees_north\n",
       "    cartesian_axis:  Y), ('average_T1', <xarray.Variable (time: 10)>\n",
       "array([netcdftime._netcdftime.DatetimeGregorian(1, 1, 1, 0, 0, 0, 7, -1, 1),\n",
       "       netcdftime._netcdftime.DatetimeGregorian(2, 1, 1, 0, 0, 0, 7, -1, 1),\n",
       "       netcdftime._netcdftime.DatetimeGregorian(3, 1, 1, 0, 0, 0, 7, -1, 1),\n",
       "       netcdftime._netcdftime.DatetimeGregorian(4, 1, 1, 0, 0, 0, 7, -1, 1),\n",
       "       netcdftime._netcdftime.DatetimeGregorian(5, 1, 1, 0, 0, 0, 7, -1, 1),\n",
       "       netcdftime._netcdftime.DatetimeGregorian(6, 1, 1, 0, 0, 0, 7, -1, 1),\n",
       "       netcdftime._netcdftime.DatetimeGregorian(7, 1, 1, 0, 0, 0, 7, -1, 1),\n",
       "       netcdftime._netcdftime.DatetimeGregorian(8, 1, 1, 0, 0, 0, 7, -1, 1),\n",
       "       netcdftime._netcdftime.DatetimeGregorian(9, 1, 1, 0, 0, 0, 7, -1, 1),\n",
       "       netcdftime._netcdftime.DatetimeGregorian(10, 1, 1, 0, 0, 0, 7, -1, 1)],\n",
       "      dtype=object)\n",
       "Attributes:\n",
       "    long_name:  Start time for average period), ('average_T2', <xarray.Variable (time: 10)>\n",
       "array([netcdftime._netcdftime.DatetimeGregorian(2, 1, 1, 0, 0, 0, 7, -1, 1),\n",
       "       netcdftime._netcdftime.DatetimeGregorian(3, 1, 1, 0, 0, 0, 7, -1, 1),\n",
       "       netcdftime._netcdftime.DatetimeGregorian(4, 1, 1, 0, 0, 0, 7, -1, 1),\n",
       "       netcdftime._netcdftime.DatetimeGregorian(5, 1, 1, 0, 0, 0, 7, -1, 1),\n",
       "       netcdftime._netcdftime.DatetimeGregorian(6, 1, 1, 0, 0, 0, 7, -1, 1),\n",
       "       netcdftime._netcdftime.DatetimeGregorian(7, 1, 1, 0, 0, 0, 7, -1, 1),\n",
       "       netcdftime._netcdftime.DatetimeGregorian(8, 1, 1, 0, 0, 0, 7, -1, 1),\n",
       "       netcdftime._netcdftime.DatetimeGregorian(9, 1, 1, 0, 0, 0, 7, -1, 1),\n",
       "       netcdftime._netcdftime.DatetimeGregorian(10, 1, 1, 0, 0, 0, 7, -1, 1),\n",
       "       netcdftime._netcdftime.DatetimeGregorian(11, 1, 1, 0, 0, 0, 7, -1, 1)],\n",
       "      dtype=object)\n",
       "Attributes:\n",
       "    long_name:  End time for average period), ('average_DT', <xarray.Variable (time: 10)>\n",
       "array([31536000000000000, 31536000000000000, 31536000000000000,\n",
       "       31622400000000000, 31536000000000000, 31536000000000000,\n",
       "       31536000000000000, 31622400000000000, 31536000000000000,\n",
       "       31536000000000000], dtype='timedelta64[ns]')\n",
       "Attributes:\n",
       "    long_name:  Length of average period)]))"
      ]
     },
     "execution_count": 10,
     "metadata": {},
     "output_type": "execute_result"
    }
   ],
   "source": [
    "x_data.variables"
   ]
  },
  {
   "cell_type": "code",
   "execution_count": 14,
   "metadata": {},
   "outputs": [
    {
     "data": {
      "text/plain": [
       "<class 'netCDF4._netCDF4.Dataset'>\n",
       "root group (NETCDF3_64BIT_OFFSET data model, file format NETCDF3):\n",
       "    filename: ocean.0001-0010.ssh.nc\n",
       "    title: SPEAR_c96_o1_Control_1850_E50\n",
       "    associated_files: area_t: 00010101.ocean_static.nc\n",
       "    grid_type: regular\n",
       "    grid_tile: N/A\n",
       "    external_variables: area_t\n",
       "    comment: FMS time averaging, version 3.0, precision=double\n",
       "    dimensions(sizes): time(10), nv(2), yh(320), xh(360)\n",
       "    variables(dimensions): float64 \u001b[4mnv\u001b[0m(nv), float32 \u001b[4mssh\u001b[0m(time,yh,xh), float64 \u001b[4mtime\u001b[0m(time), float64 \u001b[4mtime_bnds\u001b[0m(time,nv), float64 \u001b[4mxh\u001b[0m(xh), float64 \u001b[4myh\u001b[0m(yh), float64 \u001b[4maverage_T1\u001b[0m(time), float64 \u001b[4maverage_T2\u001b[0m(time), float64 \u001b[4maverage_DT\u001b[0m(time)\n",
       "    groups: "
      ]
     },
     "execution_count": 14,
     "metadata": {},
     "output_type": "execute_result"
    }
   ],
   "source": [
    "ncf"
   ]
  },
  {
   "cell_type": "markdown",
   "metadata": {},
   "source": [
    "Upon inspecting our metadata, we can see our \"data variable\" is 'tos', which is mapped onto specific coordinates 'lat' and 'lon'. Alternatively, we can call `.variables` to view the variables contained in our data set and their attributes."
   ]
  },
  {
   "cell_type": "code",
   "execution_count": 17,
   "metadata": {},
   "outputs": [],
   "source": [
    "xh = ncf.variables['xh']\n",
    "yh = ncf.variables['yh']\n",
    "ssh = ncf.variables['ssh']"
   ]
  },
  {
   "cell_type": "code",
   "execution_count": 26,
   "metadata": {},
   "outputs": [
    {
     "data": {
      "text/plain": [
       "<class 'netCDF4._netCDF4.Variable'>\n",
       "float32 tos(lat, lon)\n",
       "    standard_name: sea_surface_temperature\n",
       "    long_name: Objectively analyzed mean fields for sea_surface_temperature at standard depth levels.\n",
       "    coordinates: time lat lon depth\n",
       "    cell_methods: area: mean depth: mean time: mean\n",
       "    grid_mapping: crs\n",
       "    units: degrees_celsius\n",
       "    _FillValue: 9.96921e+36\n",
       "unlimited dimensions: \n",
       "current shape = (180, 360)\n",
       "filling off"
      ]
     },
     "execution_count": 26,
     "metadata": {},
     "output_type": "execute_result"
    }
   ],
   "source": [
    "ncf_old.variables['tos']"
   ]
  },
  {
   "cell_type": "code",
   "execution_count": 27,
   "metadata": {},
   "outputs": [
    {
     "data": {
      "text/plain": [
       "<class 'netCDF4._netCDF4.Variable'>\n",
       "float32 ssh(time, yh, xh)\n",
       "    long_name: Sea Surface Height\n",
       "    units: m\n",
       "    missing_value: -1e+34\n",
       "    _FillValue: -1e+34\n",
       "    cell_measures: area: area_t\n",
       "    cell_methods: area:mean yh:mean xh:mean time: mean\n",
       "    time_avg_info: average_T1,average_T2,average_DT\n",
       "unlimited dimensions: time\n",
       "current shape = (10, 320, 360)\n",
       "filling off"
      ]
     },
     "execution_count": 27,
     "metadata": {},
     "output_type": "execute_result"
    }
   ],
   "source": [
    "ssh"
   ]
  },
  {
   "cell_type": "code",
   "execution_count": 33,
   "metadata": {},
   "outputs": [
    {
     "data": {
      "text/plain": [
       "(320, 360)"
      ]
     },
     "execution_count": 33,
     "metadata": {},
     "output_type": "execute_result"
    }
   ],
   "source": [
    "ssh[1].shape"
   ]
  },
  {
   "cell_type": "markdown",
   "metadata": {},
   "source": [
    "Clearly from netCDF4, this is messed up."
   ]
  },
  {
   "cell_type": "code",
   "execution_count": 35,
   "metadata": {},
   "outputs": [
    {
     "data": {
      "image/png": "[encoded data removed]",
      "text/plain": [
       "<matplotlib.figure.Figure at 0x121ee0278>"
      ]
     },
     "metadata": {},
     "output_type": "display_data"
    }
   ],
   "source": [
    "plt.pcolormesh(xh[:], yh[:], ssh[1] ) # picked an arbitrary time for ssh\n",
    "plt.colorbar();\n",
    "plt.title(ssh.long_name);\n",
    "plt.xlabel('%s (%s)' %(xh.long_name, xh.units));\n",
    "plt.ylabel('%s (%s)' %(yh.long_name, yh.units));"
   ]
  },
  {
   "cell_type": "code",
   "execution_count": null,
   "metadata": {},
   "outputs": [],
   "source": []
  },
  {
   "cell_type": "markdown",
   "metadata": {},
   "source": [
    "### Creating the grid\n",
    "Here, we create a `Grid` object from the data, labeling `X` and `Y` as periodic based off the documentation\n",
    "\n",
    "*Tried to get this working for a while, but for some reason face_connections just isn't a valid input?*\n",
    "\n",
    "Clearly, looking at the source code, it is part of the initialization: https://github.com/xgcm/xgcm/blob/19b476c2cf6e44c9f6d9331b4bee8f38fd78a21a/xgcm/grid.py"
   ]
  },
  {
   "cell_type": "code",
   "execution_count": 8,
   "metadata": {},
   "outputs": [],
   "source": [
    "face_connections = {'face': {0: {'X': (None, (1, 'X', False))},\n",
    "                                 1: {'X': ((0, 'X', False), None)}}}"
   ]
  },
  {
   "cell_type": "code",
   "execution_count": 9,
   "metadata": {},
   "outputs": [],
   "source": [
    "grid = xgcm.Grid(data)"
   ]
  },
  {
   "cell_type": "code",
   "execution_count": 10,
   "metadata": {},
   "outputs": [],
   "source": [
    "N = 25\n",
    "ds = xarray.Dataset({'data_c': (['face', 'y', 'x'], np.random.rand(2, N, N))},\n",
    "                    coords={'x': (('x',), np.arange(N), {'axis': 'X'}),\n",
    "                            'xl': (('xl'), np.arange(N)-0.5,\n",
    "                                   {'axis': 'X', 'c_grid_axis_shift': -0.5}),\n",
    "                            'y': (('y',), np.arange(N), {'axis': 'Y'}),\n",
    "                            'yl': (('yl'), np.arange(N)-0.5,\n",
    "                                   {'axis': 'Y', 'c_grid_axis_shift': -0.5}),\n",
    "                            'face': (('face',), [0, 1])})"
   ]
  },
  {
   "cell_type": "code",
   "execution_count": 11,
   "metadata": {},
   "outputs": [],
   "source": [
    "face_connections = {'face': {0: {'X': (None, (1, 'X', False))},\n",
    "                                 1: {'X': ((0, 'X', False), None)}}}"
   ]
  },
  {
   "cell_type": "code",
   "execution_count": 13,
   "metadata": {},
   "outputs": [
    {
     "ename": "TypeError",
     "evalue": "__init__() got an unexpected keyword argument 'face_connections'",
     "output_type": "error",
     "traceback": [
      "\u001b[0;31m---------------------------------------------------------------------------\u001b[0m",
      "\u001b[0;31mTypeError\u001b[0m                                 Traceback (most recent call last)",
      "\u001b[0;32m<ipython-input-13-7eb7178e63c3>\u001b[0m in \u001b[0;36m<module>\u001b[0;34m()\u001b[0m\n\u001b[0;32m----> 1\u001b[0;31m \u001b[0mgrid\u001b[0m \u001b[0;34m=\u001b[0m \u001b[0mxgcm\u001b[0m\u001b[0;34m.\u001b[0m\u001b[0mGrid\u001b[0m\u001b[0;34m(\u001b[0m\u001b[0mds\u001b[0m\u001b[0;34m,\u001b[0m \u001b[0mface_connections\u001b[0m\u001b[0;34m=\u001b[0m\u001b[0mface_connections\u001b[0m\u001b[0;34m)\u001b[0m\u001b[0;34m\u001b[0m\u001b[0m\n\u001b[0m",
      "\u001b[0;31mTypeError\u001b[0m: __init__() got an unexpected keyword argument 'face_connections'"
     ]
    }
   ],
   "source": [
    "grid = xgcm.Grid(ds, face_connections=face_connections)"
   ]
  },
  {
   "cell_type": "code",
   "execution_count": 16,
   "metadata": {},
   "outputs": [
    {
     "ename": "AttributeError",
     "evalue": "'Grid' object has no attribute '__attrs__'",
     "output_type": "error",
     "traceback": [
      "\u001b[0;31m---------------------------------------------------------------------------\u001b[0m",
      "\u001b[0;31mAttributeError\u001b[0m                            Traceback (most recent call last)",
      "\u001b[0;32m<ipython-input-16-98f879003e05>\u001b[0m in \u001b[0;36m<module>\u001b[0;34m()\u001b[0m\n\u001b[0;32m----> 1\u001b[0;31m \u001b[0mgrid\u001b[0m\u001b[0;34m.\u001b[0m\u001b[0m__attrs__\u001b[0m\u001b[0;34m\u001b[0m\u001b[0m\n\u001b[0m",
      "\u001b[0;31mAttributeError\u001b[0m: 'Grid' object has no attribute '__attrs__'"
     ]
    }
   ],
   "source": [
    "grid.__attrs__"
   ]
  },
  {
   "cell_type": "markdown",
   "metadata": {},
   "source": [
    "## Plotting the data"
   ]
  },
  {
   "cell_type": "markdown",
   "metadata": {},
   "source": [
    "We can view the contents of `tos` by simply calling it."
   ]
  },
  {
   "cell_type": "code",
   "execution_count": 8,
   "metadata": {},
   "outputs": [
    {
     "ename": "AttributeError",
     "evalue": "'Grid' object has no attribute '_attrs'",
     "output_type": "error",
     "traceback": [
      "\u001b[0;31m---------------------------------------------------------------------------\u001b[0m",
      "\u001b[0;31mAttributeError\u001b[0m                            Traceback (most recent call last)",
      "\u001b[0;32m<ipython-input-8-2fa46fdc36ce>\u001b[0m in \u001b[0;36m<module>\u001b[0;34m()\u001b[0m\n\u001b[0;32m----> 1\u001b[0;31m \u001b[0mgrid\u001b[0m\u001b[0;34m.\u001b[0m\u001b[0m_attrs\u001b[0m\u001b[0;34m\u001b[0m\u001b[0m\n\u001b[0m",
      "\u001b[0;31mAttributeError\u001b[0m: 'Grid' object has no attribute '_attrs'"
     ]
    }
   ],
   "source": [
    "grid._attrs"
   ]
  },
  {
   "cell_type": "markdown",
   "metadata": {},
   "source": [
    "Again, we see that each `tos` value corresponds to a `lat`, `lon` coordinate pair. We can plot `tos` using the following plot command. Additionally, we add a color bar to our plot."
   ]
  },
  {
   "cell_type": "code",
   "execution_count": 4,
   "metadata": {},
   "outputs": [
    {
     "ename": "TypeError",
     "evalue": "Illegal arguments to pcolormesh; see help(pcolormesh)",
     "output_type": "error",
     "traceback": [
      "\u001b[0;31m---------------------------------------------------------------------------\u001b[0m",
      "\u001b[0;31mTypeError\u001b[0m                                 Traceback (most recent call last)",
      "\u001b[0;32m<ipython-input-4-5f8f270489f9>\u001b[0m in \u001b[0;36m<module>\u001b[0;34m()\u001b[0m\n\u001b[0;32m----> 1\u001b[0;31m \u001b[0mplt\u001b[0m\u001b[0;34m.\u001b[0m\u001b[0mpcolormesh\u001b[0m\u001b[0;34m(\u001b[0m\u001b[0mdata\u001b[0m\u001b[0;34m[\u001b[0m\u001b[0;34m'xh'\u001b[0m\u001b[0;34m]\u001b[0m\u001b[0;34m,\u001b[0m \u001b[0mdata\u001b[0m\u001b[0;34m[\u001b[0m\u001b[0;34m'yh'\u001b[0m\u001b[0;34m]\u001b[0m\u001b[0;34m)\u001b[0m\u001b[0;34m\u001b[0m\u001b[0m\n\u001b[0m\u001b[1;32m      2\u001b[0m \u001b[0mplt\u001b[0m\u001b[0;34m.\u001b[0m\u001b[0mcolorbar\u001b[0m\u001b[0;34m(\u001b[0m\u001b[0;34m)\u001b[0m\u001b[0;34m\u001b[0m\u001b[0m\n",
      "\u001b[0;32m~/miniconda2/envs/xarrays/lib/python3.6/site-packages/matplotlib/pyplot.py\u001b[0m in \u001b[0;36mpcolormesh\u001b[0;34m(*args, **kwargs)\u001b[0m\n\u001b[1;32m   3186\u001b[0m                       mplDeprecation)\n\u001b[1;32m   3187\u001b[0m     \u001b[0;32mtry\u001b[0m\u001b[0;34m:\u001b[0m\u001b[0;34m\u001b[0m\u001b[0m\n\u001b[0;32m-> 3188\u001b[0;31m         \u001b[0mret\u001b[0m \u001b[0;34m=\u001b[0m \u001b[0max\u001b[0m\u001b[0;34m.\u001b[0m\u001b[0mpcolormesh\u001b[0m\u001b[0;34m(\u001b[0m\u001b[0;34m*\u001b[0m\u001b[0margs\u001b[0m\u001b[0;34m,\u001b[0m \u001b[0;34m**\u001b[0m\u001b[0mkwargs\u001b[0m\u001b[0;34m)\u001b[0m\u001b[0;34m\u001b[0m\u001b[0m\n\u001b[0m\u001b[1;32m   3189\u001b[0m     \u001b[0;32mfinally\u001b[0m\u001b[0;34m:\u001b[0m\u001b[0;34m\u001b[0m\u001b[0m\n\u001b[1;32m   3190\u001b[0m         \u001b[0max\u001b[0m\u001b[0;34m.\u001b[0m\u001b[0m_hold\u001b[0m \u001b[0;34m=\u001b[0m \u001b[0mwashold\u001b[0m\u001b[0;34m\u001b[0m\u001b[0m\n",
      "\u001b[0;32m~/miniconda2/envs/xarrays/lib/python3.6/site-packages/matplotlib/__init__.py\u001b[0m in \u001b[0;36minner\u001b[0;34m(ax, *args, **kwargs)\u001b[0m\n\u001b[1;32m   1715\u001b[0m                     warnings.warn(msg % (label_namer, func.__name__),\n\u001b[1;32m   1716\u001b[0m                                   RuntimeWarning, stacklevel=2)\n\u001b[0;32m-> 1717\u001b[0;31m             \u001b[0;32mreturn\u001b[0m \u001b[0mfunc\u001b[0m\u001b[0;34m(\u001b[0m\u001b[0max\u001b[0m\u001b[0;34m,\u001b[0m \u001b[0;34m*\u001b[0m\u001b[0margs\u001b[0m\u001b[0;34m,\u001b[0m \u001b[0;34m**\u001b[0m\u001b[0mkwargs\u001b[0m\u001b[0;34m)\u001b[0m\u001b[0;34m\u001b[0m\u001b[0m\n\u001b[0m\u001b[1;32m   1718\u001b[0m         \u001b[0mpre_doc\u001b[0m \u001b[0;34m=\u001b[0m \u001b[0minner\u001b[0m\u001b[0;34m.\u001b[0m\u001b[0m__doc__\u001b[0m\u001b[0;34m\u001b[0m\u001b[0m\n\u001b[1;32m   1719\u001b[0m         \u001b[0;32mif\u001b[0m \u001b[0mpre_doc\u001b[0m \u001b[0;32mis\u001b[0m \u001b[0;32mNone\u001b[0m\u001b[0;34m:\u001b[0m\u001b[0;34m\u001b[0m\u001b[0m\n",
      "\u001b[0;32m~/miniconda2/envs/xarrays/lib/python3.6/site-packages/matplotlib/axes/_axes.py\u001b[0m in \u001b[0;36mpcolormesh\u001b[0;34m(self, *args, **kwargs)\u001b[0m\n\u001b[1;32m   5574\u001b[0m         \u001b[0mallmatch\u001b[0m \u001b[0;34m=\u001b[0m \u001b[0;34m(\u001b[0m\u001b[0mshading\u001b[0m \u001b[0;34m==\u001b[0m \u001b[0;34m'gouraud'\u001b[0m\u001b[0;34m)\u001b[0m\u001b[0;34m\u001b[0m\u001b[0m\n\u001b[1;32m   5575\u001b[0m \u001b[0;34m\u001b[0m\u001b[0m\n\u001b[0;32m-> 5576\u001b[0;31m         \u001b[0mX\u001b[0m\u001b[0;34m,\u001b[0m \u001b[0mY\u001b[0m\u001b[0;34m,\u001b[0m \u001b[0mC\u001b[0m \u001b[0;34m=\u001b[0m \u001b[0mself\u001b[0m\u001b[0;34m.\u001b[0m\u001b[0m_pcolorargs\u001b[0m\u001b[0;34m(\u001b[0m\u001b[0;34m'pcolormesh'\u001b[0m\u001b[0;34m,\u001b[0m \u001b[0;34m*\u001b[0m\u001b[0margs\u001b[0m\u001b[0;34m,\u001b[0m \u001b[0mallmatch\u001b[0m\u001b[0;34m=\u001b[0m\u001b[0mallmatch\u001b[0m\u001b[0;34m)\u001b[0m\u001b[0;34m\u001b[0m\u001b[0m\n\u001b[0m\u001b[1;32m   5577\u001b[0m         \u001b[0mNy\u001b[0m\u001b[0;34m,\u001b[0m \u001b[0mNx\u001b[0m \u001b[0;34m=\u001b[0m \u001b[0mX\u001b[0m\u001b[0;34m.\u001b[0m\u001b[0mshape\u001b[0m\u001b[0;34m\u001b[0m\u001b[0m\n\u001b[1;32m   5578\u001b[0m         \u001b[0mX\u001b[0m \u001b[0;34m=\u001b[0m \u001b[0mX\u001b[0m\u001b[0;34m.\u001b[0m\u001b[0mravel\u001b[0m\u001b[0;34m(\u001b[0m\u001b[0;34m)\u001b[0m\u001b[0;34m\u001b[0m\u001b[0m\n",
      "\u001b[0;32m~/miniconda2/envs/xarrays/lib/python3.6/site-packages/matplotlib/axes/_axes.py\u001b[0m in \u001b[0;36m_pcolorargs\u001b[0;34m(funcname, *args, **kw)\u001b[0m\n\u001b[1;32m   5195\u001b[0m         \u001b[0;32melse\u001b[0m\u001b[0;34m:\u001b[0m\u001b[0;34m\u001b[0m\u001b[0m\n\u001b[1;32m   5196\u001b[0m             raise TypeError(\n\u001b[0;32m-> 5197\u001b[0;31m                 'Illegal arguments to %s; see help(%s)' % (funcname, funcname))\n\u001b[0m\u001b[1;32m   5198\u001b[0m \u001b[0;34m\u001b[0m\u001b[0m\n\u001b[1;32m   5199\u001b[0m         \u001b[0mNx\u001b[0m \u001b[0;34m=\u001b[0m \u001b[0mX\u001b[0m\u001b[0;34m.\u001b[0m\u001b[0mshape\u001b[0m\u001b[0;34m[\u001b[0m\u001b[0;34m-\u001b[0m\u001b[0;36m1\u001b[0m\u001b[0;34m]\u001b[0m\u001b[0;34m\u001b[0m\u001b[0m\n",
      "\u001b[0;31mTypeError\u001b[0m: Illegal arguments to pcolormesh; see help(pcolormesh)"
     ]
    },
    {
     "data": {
      "image/png": "[encoded data removed]",
      "text/plain": [
       "<matplotlib.figure.Figure at 0x1109319e8>"
      ]
     },
     "metadata": {},
     "output_type": "display_data"
    }
   ],
   "source": [
    "plt.pcolormesh(data['xh'], data['yh'])\n",
    "plt.colorbar()"
   ]
  },
  {
   "cell_type": "code",
   "execution_count": null,
   "metadata": {},
   "outputs": [],
   "source": []
  }
 ],
 "metadata": {
  "kernelspec": {
   "display_name": "Python [conda env:xarrays]",
   "language": "python",
   "name": "conda-env-xarrays-py"
  },
  "language_info": {
   "codemirror_mode": {
    "name": "ipython",
    "version": 3
   },
   "file_extension": ".py",
   "mimetype": "text/x-python",
   "name": "python",
   "nbconvert_exporter": "python",
   "pygments_lexer": "ipython3",
   "version": "3.6.4"
  }
 },
 "nbformat": 4,
 "nbformat_minor": 2
}
