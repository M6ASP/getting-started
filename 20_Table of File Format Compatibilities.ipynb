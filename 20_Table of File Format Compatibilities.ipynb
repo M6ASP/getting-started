{
 "cells": [
  {
   "cell_type": "markdown",
   "metadata": {},
   "source": [
    "### IO Streams File Format Compatibilities"
   ]
  },
  {
   "cell_type": "markdown",
   "metadata": {},
   "source": [
    "Individual tests of file format compatibilities: https://github.com/M6ASP/getting-started/blob/master/7_File%20format%20compatibility%20of%20packages.ipynb\n",
    "\n",
    "Tests of file format compatibilities in Tar file:\n",
    "https://github.com/M6ASP/getting-started/blob/master/16_Document%20Compatibility%20with%20Python%20IO%20Streams.ipynb"
   ]
  },
  {
   "cell_type": "markdown",
   "metadata": {},
   "source": [
    "### Single File Compatibilities"
   ]
  },
  {
   "cell_type": "markdown",
   "metadata": {},
   "source": [
    "|Format | scipy.io | netCDF4 | h5netCDF | xarray \n",
    "|------ | -------- | ------- | -------- | ------\n",
    "|nc3 classic\t\t | Compatible | Compatible | Not compatible | Compatible \n",
    "|nc3 64bitoffset\t | Compatible | Compatible | Not compatible | Compatible \n",
    "|nc3 64bitdata\t  | Not compatible | Not compatible | Not compatible | Not compatible\n",
    "|nc4 classic\t\t| Not compatible | Compatible | Not compatible | Compatible\n",
    "|netcdf4| Not compatible | Compatible | Not compatible | Compatible"
   ]
  },
  {
   "cell_type": "markdown",
   "metadata": {},
   "source": [
    "### Tar File Compatibilities"
   ]
  },
  {
   "cell_type": "markdown",
   "metadata": {},
   "source": [
    "|Format | scipy.io | netCDF4 | h5netCDF | xarray \n",
    "|------ | -------- | ------- | -------- | ------\n",
    "|nc3 classic\t\t | Compatible | Not compatible | Not compatible | Compatible \n",
    "|nc3 64bitoffset\t | Compatible | Not compatible | Not compatible | Compatible \n",
    "|nc3 64bitdata\t  | Not compatible | Not compatible | Not compatible | Not compatible\n",
    "|nc4 classic\t\t| Not compatible | Not compatible| Not compatible | Not compatible\n",
    "|netcdf4| Not compatible | Not compatible | Not compatible | Not compatible"
   ]
  }
 ],
 "metadata": {
  "kernelspec": {
   "display_name": "Python 2",
   "language": "python",
   "name": "python2"
  },
  "language_info": {
   "codemirror_mode": {
    "name": "ipython",
    "version": 2
   },
   "file_extension": ".py",
   "mimetype": "text/x-python",
   "name": "python",
   "nbconvert_exporter": "python",
   "pygments_lexer": "ipython2",
   "version": "2.7.14"
  }
 },
 "nbformat": 4,
 "nbformat_minor": 2
}
