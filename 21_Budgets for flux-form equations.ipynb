{
 "cells": [
  {
   "cell_type": "markdown",
   "metadata": {},
   "source": [
    "## Budgets for flux-form equations"
   ]
  },
  {
   "cell_type": "markdown",
   "metadata": {},
   "source": [
    "The continuity equation\n",
    "$$\n",
    "\\partial_t h_k = - \\nabla \\cdot \\left( h_k {\\bf v}_k \\right)\n",
    "$$\n",
    "describes the evolution of the thickness of an ocean layer in a reduced gravity model. $k$ is the layer number in the vertical direction (usually $k=1$ is the top layer), $h_k$ is the layer thickness, $t$ is time, ${\\bf v}_k = (u,v)$ is the horizontal velocity vector, and $\\nabla \\cdot \\equiv (\\partial_x, \\partial_y)$ is the horizontal divergence operator where $x$ and $y$ are the horizontal spatial dimensions."
   ]
  },
  {
   "cell_type": "markdown",
   "metadata": {},
   "source": [
    "The divergence operator is discretized as\n",
    "$$\n",
    "\\nabla \\cdot \\left( h_k {\\bf v}_k \\right) = \\frac{1}{A}\n",
    "\\left( \\delta_i \\left( h_k u_k \\right) + \\delta_j \\left( h_k v_k \\right) \\right) \n",
    "$$\n",
    "where\n",
    "$$\n",
    "\\delta_i \\phi \\equiv \\phi_{i+\\frac{1}{2},j} - \\phi_{i-\\frac{1}{2},j}\n",
    "$$\n",
    "and\n",
    "$$\n",
    "\\delta_j \\phi \\equiv \\phi_{i,j+\\frac{1}{2}} - \\phi_{i,j-\\frac{1}{2}}\n",
    "$$\n",
    "and by convention $i$ is the cell number in the $x$-direction so that the center of the cell is $x_i =  ( i - \\frac{1}{2} ) \\Delta x$ for uniformly spaced grid. Similarly, $y_j = ( j - \\frac{1}{2} ) \\Delta y$."
   ]
  },
  {
   "cell_type": "markdown",
   "metadata": {},
   "source": [
    "Integrating the continuity equation over the time period between $t=t_A$ and $t=t_B$ we obtain\n",
    "$$\n",
    "\\frac{ h_k(t_B) - h_k(t_A) }{ t_B - t_A } = - \\nabla \\cdot \\left( \\overline{ h_k {\\bf v}_k } \\right)\n",
    "$$\n",
    "where an overline indicates a time average:\n",
    "$$\n",
    "\\overline{\\phi} \\equiv = \\frac{ 1 }{ t_B - t_A } \\int_{t_A}^{t_B} \\phi(t) \\,dt\n",
    "$$"
   ]
  },
  {
   "cell_type": "markdown",
   "metadata": {},
   "source": [
    "MOM6 can diagnose the time average of the flux terms in the continuity equations, $hu$ and $hv$, as well as the instantaneous $h$.\n",
    "\n",
    "Verify that MOM6 diagnostics satisfy the continuity equation by\n",
    "1. diagnose $\\delta_i \\left( h_k u_k \\right) + \\delta_j \\left( h_k v_k \\right)$ for levels $k=1$ and $k=2$\n",
    "2. diagnose $A \\left( h_k(t_B) - h_k(t_A) \\right)$ for levels $k=1$ and $k=2$"
   ]
  },
  {
   "cell_type": "code",
   "execution_count": 19,
   "metadata": {},
   "outputs": [
    {
     "name": "stdout",
     "output_type": "stream",
     "text": [
      "Populating the interactive namespace from numpy and matplotlib\n"
     ]
    }
   ],
   "source": [
    "%pylab inline\n",
    "import netCDF4\n",
    "import numpy as np"
   ]
  },
  {
   "cell_type": "code",
   "execution_count": 2,
   "metadata": {},
   "outputs": [],
   "source": [
    "from netCDF4 import Dataset\n",
    "data = Dataset('200x200x5000days/snapshot.nc', \"r\", format=\"NetCDF4\")"
   ]
  },
  {
   "cell_type": "code",
   "execution_count": 11,
   "metadata": {},
   "outputs": [
    {
     "data": {
      "text/plain": [
       "<class 'netCDF4._netCDF4.Variable'>\n",
       "float64 h(Time, zl, yh, xh)\n",
       "    long_name: Layer Thickness\n",
       "    units: m\n",
       "    missing_value: 1e+20\n",
       "    _FillValue: 1e+20\n",
       "    cell_methods: area:mean zl:sum yh:mean xh:mean time: point\n",
       "    cell_measures: area: areacello\n",
       "unlimited dimensions: Time\n",
       "current shape = (10, 2, 200, 200)\n",
       "filling off"
      ]
     },
     "execution_count": 11,
     "metadata": {},
     "output_type": "execute_result"
    }
   ],
   "source": [
    "data['h']"
   ]
  },
  {
   "cell_type": "markdown",
   "metadata": {},
   "source": [
    "Noticed that `u` and `v` had an extra column/row."
   ]
  },
  {
   "cell_type": "code",
   "execution_count": 12,
   "metadata": {},
   "outputs": [
    {
     "data": {
      "text/plain": [
       "<class 'netCDF4._netCDF4.Variable'>\n",
       "float32 u(Time, zl, yh, xq)\n",
       "    long_name: Zonal velocity\n",
       "    units: m s-1\n",
       "    missing_value: 1e+20\n",
       "    _FillValue: 1e+20\n",
       "    cell_methods: zl:mean yh:mean xq:point time: point\n",
       "    interp_method: none\n",
       "unlimited dimensions: Time\n",
       "current shape = (10, 2, 200, 201)\n",
       "filling off"
      ]
     },
     "execution_count": 12,
     "metadata": {},
     "output_type": "execute_result"
    }
   ],
   "source": [
    "data['u']"
   ]
  },
  {
   "cell_type": "code",
   "execution_count": 13,
   "metadata": {},
   "outputs": [
    {
     "data": {
      "text/plain": [
       "<class 'netCDF4._netCDF4.Variable'>\n",
       "float32 v(Time, zl, yq, xh)\n",
       "    long_name: Meridional velocity\n",
       "    units: m s-1\n",
       "    missing_value: 1e+20\n",
       "    _FillValue: 1e+20\n",
       "    cell_methods: zl:mean yq:point xh:mean time: point\n",
       "    interp_method: none\n",
       "unlimited dimensions: Time\n",
       "current shape = (10, 2, 201, 200)\n",
       "filling off"
      ]
     },
     "execution_count": 13,
     "metadata": {},
     "output_type": "execute_result"
    }
   ],
   "source": [
    "data['v']"
   ]
  },
  {
   "cell_type": "markdown",
   "metadata": {},
   "source": [
    "Slicing each of the variables:"
   ]
  },
  {
   "cell_type": "code",
   "execution_count": 4,
   "metadata": {},
   "outputs": [],
   "source": [
    "h = data['h'][0,0,:,:]\n",
    "v = data['v'][0,0,:,:]\n",
    "u = data['u'][0,0,:,:]"
   ]
  },
  {
   "cell_type": "markdown",
   "metadata": {},
   "source": [
    "Instantiating a numpy array with zeroes that is 200 x 200"
   ]
  },
  {
   "cell_type": "code",
   "execution_count": 20,
   "metadata": {},
   "outputs": [],
   "source": [
    "n = 200\n",
    "arr = np.zeros((n,n), dtype=np.float)"
   ]
  },
  {
   "cell_type": "markdown",
   "metadata": {},
   "source": [
    "Looping through `arr` to calculate the change in delta."
   ]
  },
  {
   "cell_type": "code",
   "execution_count": 23,
   "metadata": {},
   "outputs": [
    {
     "name": "stderr",
     "output_type": "stream",
     "text": [
      "/Users/Esther/miniconda2/envs/xarrays/lib/python3.6/site-packages/ipykernel/__main__.py:4: UserWarning: Warning: converting a masked element to nan.\n"
     ]
    }
   ],
   "source": [
    "for j in range(n):\n",
    "    for i in range(n):\n",
    "        try:\n",
    "            arr[j][i] = h[j,i] * u[j,i+1] - h[j,i] * u[j,i] + (h[j,i]*v[j+1,i] - h[j,i]*v[j,i])\n",
    "        except:\n",
    "            continue"
   ]
  },
  {
   "cell_type": "markdown",
   "metadata": {},
   "source": [
    "Noticed that there were undefined values in the data that made for all the `nan`s that appeared when we tried to calculate."
   ]
  },
  {
   "cell_type": "code",
   "execution_count": 25,
   "metadata": {},
   "outputs": [
    {
     "data": {
      "text/plain": [
       "array([[        nan,         nan,         nan, ...,         nan,\n",
       "                nan,         nan],\n",
       "       [        nan, -0.10618791, -0.0556858 , ..., -0.00197806,\n",
       "        -0.00331988,         nan],\n",
       "       [        nan,  0.04338502,  0.03070331, ..., -0.00347992,\n",
       "        -0.00473493,         nan],\n",
       "       ...,\n",
       "       [        nan,  0.01108602,  0.00743854, ..., -0.02460759,\n",
       "        -0.0263961 ,         nan],\n",
       "       [        nan,  0.0105397 ,  0.00648176, ..., -0.02889487,\n",
       "        -0.03093488,         nan],\n",
       "       [        nan,         nan,         nan, ...,         nan,\n",
       "                nan,         nan]])"
      ]
     },
     "execution_count": 25,
     "metadata": {},
     "output_type": "execute_result"
    }
   ],
   "source": [
    "arr"
   ]
  }
 ],
 "metadata": {
  "kernelspec": {
   "display_name": "Python [conda env:xarrays]",
   "language": "python",
   "name": "conda-env-xarrays-py"
  },
  "language_info": {
   "codemirror_mode": {
    "name": "ipython",
    "version": 3
   },
   "file_extension": ".py",
   "mimetype": "text/x-python",
   "name": "python",
   "nbconvert_exporter": "python",
   "pygments_lexer": "ipython3",
   "version": "3.6.4"
  }
 },
 "nbformat": 4,
 "nbformat_minor": 2
}
