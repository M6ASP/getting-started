{
 "cells": [
  {
   "cell_type": "markdown",
   "metadata": {},
   "source": [
    "## Reynolds average thickness flux"
   ]
  },
  {
   "cell_type": "markdown",
   "metadata": {},
   "source": [
    "The time average $\\overline{ h_k{\\bf v}_k }$ can be decomposed into i) a contribution from the time mean thickness ($\\overline{h}_k$) and flow ($\\overline{\\bf v}_k$); and ii) and the rest which is known as the Reynolds flux, $\\overline{h'_k{\\bf v}'_k}$."
   ]
  },
  {
   "cell_type": "markdown",
   "metadata": {},
   "source": [
    "For a variable $\\phi(t)$, and scalar constant $a$, let\n",
    "$$\n",
    "\\phi' = \\phi(t) - \\overline{ \\phi }\n",
    "$$\n",
    "so that\n",
    "$$\n",
    "\\overline{ \\phi' } = 0\n",
    "$$\n",
    "and\n",
    "$$\n",
    "\\overline{ a \\phi' } = a \\overline{ \\phi' }\n",
    "$$\n",
    "then\n",
    "\\begin{eqnarray}\n",
    "\\overline{ h_k {\\bf v}_k }\n",
    "& = & \\overline{ ( \\overline{h}_k + h'_k ) ( \\overline{\\bf v}_k + {\\bf v}'_k ) } \\\\\n",
    "& = & \\overline{ \\overline{h}_k \\overline{\\bf v}_k + \\overline{h}_k {\\bf v}'_k + h'_k \\overline{\\bf v}_k + h'_k {\\bf v}'_k } \\\\\n",
    "& = & \\overline{ h_k } \\overline{ {\\bf v}_k } + \\overline{ h'_k {\\bf v}'_k }\n",
    "\\end{eqnarray}\n",
    "\n",
    "Thus we can diagnose the Reynolds flux from the time averages $\\overline{h}_k$, $\\overline{\\bf v}_k$ and $\\overline{ h_k {\\bf v}_k }$:\n",
    "$$\n",
    "\\overline{ h'_k {\\bf v}'_k } = \\overline{ h_k {\\bf v}_k } - \\overline{h}_k \\overline{\\bf v}_k\n",
    "$$"
   ]
  },
  {
   "cell_type": "markdown",
   "metadata": {},
   "source": [
    "- Diagnose the two components of $\\overline{ h'_k {\\bf v}'_k }$ from the diagnostics $\\overline{ h_k u_k }$, $\\overline{h}_k$, $\\overline{u}_k$, $\\overline{ h_k v_k }$, $\\overline{h}_k$ and $\\overline{v}_k$.\n",
    "- Plot $\\nabla \\cdot \\overline{ h'_k {\\bf v}'_k }$, $\\nabla \\cdot \\overline{ h_k } \\overline{ {\\bf v}_k }$ and verify that $\\overline{\\partial_t h_k} = - \\nabla \\cdot \\overline{ h'_k {\\bf v}'_k } - \\nabla \\cdot \\overline{ h_k } \\overline{ {\\bf v}_k }$.\n",
    "\n",
    "- $\\overline{h}$, $\\overline{v}$, $\\overline{u}$ are in the ave_prog.nc file\n",
    "- $\\overline{hu}$, $\\overline{hv}$ are in continuity.nc"
   ]
  },
  {
   "cell_type": "code",
   "execution_count": null,
   "metadata": {},
   "outputs": [],
   "source": []
  }
 ],
 "metadata": {
  "kernelspec": {
   "display_name": "Python [default]",
   "language": "python",
   "name": "python3"
  },
  "language_info": {
   "codemirror_mode": {
    "name": "ipython",
    "version": 3
   },
   "file_extension": ".py",
   "mimetype": "text/x-python",
   "name": "python",
   "nbconvert_exporter": "python",
   "pygments_lexer": "ipython3",
   "version": "3.6.4"
  }
 },
 "nbformat": 4,
 "nbformat_minor": 2
}
