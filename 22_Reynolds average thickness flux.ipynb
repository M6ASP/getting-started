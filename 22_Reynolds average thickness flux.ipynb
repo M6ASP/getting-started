{
 "cells": [
  {
   "cell_type": "markdown",
   "metadata": {},
   "source": [
    "## Reynolds average thickness flux"
   ]
  },
  {
   "cell_type": "markdown",
   "metadata": {},
   "source": [
    "The time average $\\overline{ h_k{\\bf v}_k }$ can be decomposed into i) a contribution from the time mean thickness ($\\overline{h}_k$) and flow ($\\overline{\\bf v}_k$); and ii) and the rest which is known as the Reynolds flux, $\\overline{h'_k{\\bf v}'_k}$."
   ]
  },
  {
   "cell_type": "markdown",
   "metadata": {},
   "source": [
    "For a variable $\\phi(t)$, and scalar constant $a$, let\n",
    "$$\n",
    "\\phi' = \\phi(t) - \\overline{ \\phi }\n",
    "$$\n",
    "so that\n",
    "$$\n",
    "\\overline{ \\phi' } = 0\n",
    "$$\n",
    "and\n",
    "$$\n",
    "\\overline{ a \\phi' } = a \\overline{ \\phi' }\n",
    "$$\n",
    "then\n",
    "\\begin{eqnarray}\n",
    "\\overline{ h_k {\\bf v}_k }\n",
    "& = & \\overline{ ( \\overline{h}_k + h'_k ) ( \\overline{\\bf v}_k + {\\bf v}'_k ) } \\\\\n",
    "& = & \\overline{ \\overline{h}_k \\overline{\\bf v}_k + \\overline{h}_k {\\bf v}'_k + h'_k \\overline{\\bf v}_k + h'_k {\\bf v}'_k } \\\\\n",
    "& = & \\overline{ h_k } \\overline{ {\\bf v}_k } + \\overline{ h'_k {\\bf v}'_k }\n",
    "\\end{eqnarray}\n",
    "\n",
    "Thus we can diagnose the Reynolds flux from the time averages $\\overline{h}_k$, $\\overline{\\bf v}_k$ and $\\overline{ h_k {\\bf v}_k }$:\n",
    "$$\n",
    "\\overline{ h'_k {\\bf v}'_k } = \\overline{ h_k {\\bf v}_k } - \\overline{h}_k \\overline{\\bf v}_k\n",
    "$$"
   ]
  },
  {
   "cell_type": "markdown",
   "metadata": {},
   "source": [
    "- Diagnose the two components of $\\overline{ h'_k {\\bf v}'_k }$ from the diagnostics $\\overline{ h_k u_k }$, $\\overline{h}_k$, $\\overline{u}_k$, $\\overline{ h_k v_k }$, $\\overline{h}_k$ and $\\overline{v}_k$.\n",
    "- Plot $\\nabla \\cdot \\overline{ h'_k {\\bf v}'_k }$, $\\nabla \\cdot \\overline{ h_k } \\overline{ {\\bf v}_k }$ and verify that $\\overline{\\partial_t h_k} = - \\nabla \\cdot \\overline{ h'_k {\\bf v}'_k } - \\nabla \\cdot \\overline{ h_k } \\overline{ {\\bf v}_k }$.\n",
    "\n",
    "- $\\overline{h}$, $\\overline{v}$, $\\overline{u}$ are in the ave_prog.nc file\n",
    "- $\\overline{hu}$, $\\overline{hv}$ are in continuity.nc"
   ]
  },
  {
   "cell_type": "markdown",
   "metadata": {},
   "source": [
    "$$\\overline{ h_k {\\bf v}_k} = \\overline{ h_k } \\overline{ {\\bf v}_k } + \\overline{ h'_k {\\bf v}'_k }$$\n",
    "$$\\overline{\\partial_t h_k} = - \\nabla \\cdot \\overline{ h'_k {\\bf v}'_k } - \\nabla \\cdot \\overline{ h_k } \\overline{ {\\bf v}_k }$$\n",
    "$$\\overline{\\partial_t h_k} = - \\nabla \\cdot \\overline{ h'_k {\\bf v}'_k } - \\nabla \\cdot (\\overline{ h_k  {\\bf v}_k } - \\overline{ h'_k {\\bf v}'_k })$$\n",
    "$$\\overline{\\partial_t h_k} = -\\nabla \\cdot \\overline{ h_k {\\bf v}_k}$$\n",
    "Isn't this the same as what we have in notebook 21 except with averages?"
   ]
  },
  {
   "cell_type": "code",
   "execution_count": 28,
   "metadata": {},
   "outputs": [
    {
     "name": "stdout",
     "output_type": "stream",
     "text": [
      "Populating the interactive namespace from numpy and matplotlib\n"
     ]
    },
    {
     "name": "stderr",
     "output_type": "stream",
     "text": [
      "/Users/Esther/miniconda2/envs/xarrays/lib/python3.6/site-packages/IPython/core/magics/pylab.py:160: UserWarning: pylab import has clobbered these variables: ['time']\n",
      "`%matplotlib` prevents importing * from pylab and numpy\n",
      "  \"\\n`%matplotlib` prevents importing * from pylab and numpy\"\n"
     ]
    }
   ],
   "source": [
    "%pylab inline\n",
    "import netCDF4\n",
    "import numpy as np"
   ]
  },
  {
   "cell_type": "code",
   "execution_count": 29,
   "metadata": {},
   "outputs": [],
   "source": [
    "from netCDF4 import Dataset\n",
    "snapshots = Dataset('200x200x5000days/snapshot.nc', \"r\", format=\"NetCDF4\")\n",
    "ave = Dataset('200x200x5000days/ave_prog.nc', \"r\", format=\"NetCDF4\")\n",
    "continuity = Dataset('200x200x5000days/continuity.nc', \"r\", format=\"NetCDF4\")\n",
    "ocean_geom = Dataset('200x200x5000days/ocean_geometry.nc', \"r\", format=\"NetCDF4\")"
   ]
  },
  {
   "cell_type": "code",
   "execution_count": 84,
   "metadata": {},
   "outputs": [
    {
     "name": "stdout",
     "output_type": "stream",
     "text": [
      "xh\n",
      "<class 'netCDF4._netCDF4.Variable'>\n",
      "float64 xh(xh)\n",
      "    long_name: h point nominal longitude\n",
      "    units: degrees_east\n",
      "    cartesian_axis: X\n",
      "unlimited dimensions: \n",
      "current shape = (200,)\n",
      "filling off\n",
      "\n",
      "\n",
      "yh\n",
      "<class 'netCDF4._netCDF4.Variable'>\n",
      "float64 yh(yh)\n",
      "    long_name: h point nominal latitude\n",
      "    units: degrees_north\n",
      "    cartesian_axis: Y\n",
      "unlimited dimensions: \n",
      "current shape = (200,)\n",
      "filling off\n",
      "\n",
      "\n",
      "Time\n",
      "<class 'netCDF4._netCDF4.Variable'>\n",
      "float64 Time(Time)\n",
      "    long_name: Time\n",
      "    units: days since 0001-01-01 00:00:00\n",
      "    cartesian_axis: T\n",
      "    calendar_type: JULIAN\n",
      "    calendar: JULIAN\n",
      "    bounds: Time_bnds\n",
      "unlimited dimensions: Time\n",
      "current shape = (10,)\n",
      "filling off\n",
      "\n",
      "\n",
      "nv\n",
      "<class 'netCDF4._netCDF4.Variable'>\n",
      "float64 nv(nv)\n",
      "    long_name: vertex number\n",
      "    units: none\n",
      "    cartesian_axis: N\n",
      "unlimited dimensions: \n",
      "current shape = (2,)\n",
      "filling off\n",
      "\n",
      "\n",
      "xq\n",
      "<class 'netCDF4._netCDF4.Variable'>\n",
      "float64 xq(xq)\n",
      "    long_name: q point nominal longitude\n",
      "    units: degrees_east\n",
      "    cartesian_axis: X\n",
      "unlimited dimensions: \n",
      "current shape = (201,)\n",
      "filling off\n",
      "\n",
      "\n",
      "zl\n",
      "<class 'netCDF4._netCDF4.Variable'>\n",
      "float64 zl(zl)\n",
      "    long_name: Layer Target Potential Density\n",
      "    units: kg m-3\n",
      "    cartesian_axis: Z\n",
      "    positive: up\n",
      "unlimited dimensions: \n",
      "current shape = (2,)\n",
      "filling off\n",
      "\n",
      "\n",
      "yq\n",
      "<class 'netCDF4._netCDF4.Variable'>\n",
      "float64 yq(yq)\n",
      "    long_name: q point nominal latitude\n",
      "    units: degrees_north\n",
      "    cartesian_axis: Y\n",
      "unlimited dimensions: \n",
      "current shape = (201,)\n",
      "filling off\n",
      "\n",
      "\n",
      "zi\n",
      "<class 'netCDF4._netCDF4.Variable'>\n",
      "float64 zi(zi)\n",
      "    long_name: Interface Target Potential Density\n",
      "    units: kg m-3\n",
      "    cartesian_axis: Z\n",
      "    positive: up\n",
      "unlimited dimensions: \n",
      "current shape = (3,)\n",
      "filling off\n",
      "\n",
      "\n",
      "areacello\n",
      "<class 'netCDF4._netCDF4.Variable'>\n",
      "float32 areacello(yh, xh)\n",
      "    long_name: Ocean Grid-Cell Area\n",
      "    units: m2\n",
      "    missing_value: 1e+20\n",
      "    _FillValue: 1e+20\n",
      "    cell_methods: area:sum yh:sum xh:sum time: point\n",
      "    standard_name: cell_area\n",
      "unlimited dimensions: \n",
      "current shape = (200, 200)\n",
      "filling off\n",
      "\n",
      "\n",
      "u\n",
      "<class 'netCDF4._netCDF4.Variable'>\n",
      "float32 u(Time, zl, yh, xq)\n",
      "    long_name: Zonal velocity\n",
      "    units: m s-1\n",
      "    missing_value: 1e+20\n",
      "    _FillValue: 1e+20\n",
      "    cell_methods: zl:mean yh:mean xq:point time: mean\n",
      "    time_avg_info: average_T1,average_T2,average_DT\n",
      "    interp_method: none\n",
      "unlimited dimensions: Time\n",
      "current shape = (10, 2, 200, 201)\n",
      "filling off\n",
      "\n",
      "\n",
      "v\n",
      "<class 'netCDF4._netCDF4.Variable'>\n",
      "float32 v(Time, zl, yq, xh)\n",
      "    long_name: Meridional velocity\n",
      "    units: m s-1\n",
      "    missing_value: 1e+20\n",
      "    _FillValue: 1e+20\n",
      "    cell_methods: zl:mean yq:point xh:mean time: mean\n",
      "    time_avg_info: average_T1,average_T2,average_DT\n",
      "    interp_method: none\n",
      "unlimited dimensions: Time\n",
      "current shape = (10, 2, 201, 200)\n",
      "filling off\n",
      "\n",
      "\n",
      "h\n",
      "<class 'netCDF4._netCDF4.Variable'>\n",
      "float64 h(Time, zl, yh, xh)\n",
      "    long_name: Layer Thickness\n",
      "    units: m\n",
      "    missing_value: 1e+20\n",
      "    _FillValue: 1e+20\n",
      "    cell_methods: area:mean zl:sum yh:mean xh:mean time: mean\n",
      "    cell_measures: area: areacello\n",
      "    time_avg_info: average_T1,average_T2,average_DT\n",
      "unlimited dimensions: Time\n",
      "current shape = (10, 2, 200, 200)\n",
      "filling off\n",
      "\n",
      "\n",
      "e\n",
      "<class 'netCDF4._netCDF4.Variable'>\n",
      "float32 e(Time, zi, yh, xh)\n",
      "    long_name: Interface Height Relative to Mean Sea Level\n",
      "    units: m\n",
      "    missing_value: 1e+20\n",
      "    _FillValue: 1e+20\n",
      "    cell_methods: area:mean zi:point yh:mean xh:mean time: mean\n",
      "    cell_measures: area: areacello\n",
      "    time_avg_info: average_T1,average_T2,average_DT\n",
      "unlimited dimensions: Time\n",
      "current shape = (10, 3, 200, 200)\n",
      "filling off\n",
      "\n",
      "\n",
      "RV\n",
      "<class 'netCDF4._netCDF4.Variable'>\n",
      "float32 RV(Time, zl, yq, xq)\n",
      "    long_name: Relative Vorticity\n",
      "    units: s-1\n",
      "    missing_value: 1e+20\n",
      "    _FillValue: 1e+20\n",
      "    cell_methods: zl:mean yq:point xq:point time: mean\n",
      "    time_avg_info: average_T1,average_T2,average_DT\n",
      "    interp_method: none\n",
      "unlimited dimensions: Time\n",
      "current shape = (10, 2, 201, 201)\n",
      "filling off\n",
      "\n",
      "\n",
      "PV\n",
      "<class 'netCDF4._netCDF4.Variable'>\n",
      "float32 PV(Time, zl, yq, xq)\n",
      "    long_name: Potential Vorticity\n",
      "    units: m-1 s-1\n",
      "    missing_value: 1e+20\n",
      "    _FillValue: 1e+20\n",
      "    cell_methods: zl:mean yq:point xq:point time: mean\n",
      "    time_avg_info: average_T1,average_T2,average_DT\n",
      "    interp_method: none\n",
      "unlimited dimensions: Time\n",
      "current shape = (10, 2, 201, 201)\n",
      "filling off\n",
      "\n",
      "\n",
      "average_T1\n",
      "<class 'netCDF4._netCDF4.Variable'>\n",
      "float64 average_T1(Time)\n",
      "    long_name: Start time for average period\n",
      "    units: days since 0001-01-01 00:00:00\n",
      "    missing_value: 1e+20\n",
      "    _FillValue: 1e+20\n",
      "unlimited dimensions: Time\n",
      "current shape = (10,)\n",
      "filling off\n",
      "\n",
      "\n",
      "average_T2\n",
      "<class 'netCDF4._netCDF4.Variable'>\n",
      "float64 average_T2(Time)\n",
      "    long_name: End time for average period\n",
      "    units: days since 0001-01-01 00:00:00\n",
      "    missing_value: 1e+20\n",
      "    _FillValue: 1e+20\n",
      "unlimited dimensions: Time\n",
      "current shape = (10,)\n",
      "filling off\n",
      "\n",
      "\n",
      "average_DT\n",
      "<class 'netCDF4._netCDF4.Variable'>\n",
      "float64 average_DT(Time)\n",
      "    long_name: Length of average period\n",
      "    units: days\n",
      "    missing_value: 1e+20\n",
      "    _FillValue: 1e+20\n",
      "unlimited dimensions: Time\n",
      "current shape = (10,)\n",
      "filling off\n",
      "\n",
      "\n",
      "Time_bnds\n",
      "<class 'netCDF4._netCDF4.Variable'>\n",
      "float64 Time_bnds(Time, nv)\n",
      "    long_name: Time axis boundaries\n",
      "    units: days\n",
      "    missing_value: 1e+20\n",
      "    _FillValue: 1e+20\n",
      "unlimited dimensions: Time\n",
      "current shape = (10, 2)\n",
      "filling off\n",
      "\n",
      "\n"
     ]
    }
   ],
   "source": [
    "for v in ave.variables:\n",
    "    print(v)\n",
    "    print(ave.variables[v])\n",
    "    print()"
   ]
  },
  {
   "cell_type": "code",
   "execution_count": 120,
   "metadata": {},
   "outputs": [],
   "source": [
    "h_bar = ave.variables['h']\n",
    "v_bar = ave.variables['v']\n",
    "u_bar = ave.variables['u']\n",
    "\n",
    "uh_bar = continuity.variables['uh']\n",
    "vh_bar = continuity.variables['vh']"
   ]
  },
  {
   "cell_type": "code",
   "execution_count": 32,
   "metadata": {},
   "outputs": [
    {
     "data": {
      "text/plain": [
       "<class 'netCDF4._netCDF4.Variable'>\n",
       "float64 Ah(lath, lonh)\n",
       "    long_name: Area of h cells\n",
       "    units: m2\n",
       "unlimited dimensions: \n",
       "current shape = (200, 200)\n",
       "filling off"
      ]
     },
     "execution_count": 32,
     "metadata": {},
     "output_type": "execute_result"
    }
   ],
   "source": [
    "ah = ocean_geom.variables['Ah']\n",
    "ah"
   ]
  },
  {
   "cell_type": "code",
   "execution_count": 38,
   "metadata": {},
   "outputs": [
    {
     "data": {
      "text/plain": [
       "<class 'netCDF4._netCDF4.Variable'>\n",
       "float32 v(Time, zl, yq, xh)\n",
       "    long_name: Meridional velocity\n",
       "    units: m s-1\n",
       "    missing_value: 1e+20\n",
       "    _FillValue: 1e+20\n",
       "    cell_methods: zl:mean yq:point xh:mean time: mean\n",
       "    time_avg_info: average_T1,average_T2,average_DT\n",
       "    interp_method: none\n",
       "unlimited dimensions: Time\n",
       "current shape = (10, 2, 201, 200)\n",
       "filling off"
      ]
     },
     "execution_count": 38,
     "metadata": {},
     "output_type": "execute_result"
    }
   ],
   "source": [
    "v_bar"
   ]
  },
  {
   "cell_type": "code",
   "execution_count": 58,
   "metadata": {},
   "outputs": [
    {
     "data": {
      "text/plain": [
       "(201, 200)"
      ]
     },
     "execution_count": 58,
     "metadata": {},
     "output_type": "execute_result"
    }
   ],
   "source": [
    "v_bar[1, 0, :, :].shape"
   ]
  },
  {
   "cell_type": "code",
   "execution_count": 35,
   "metadata": {},
   "outputs": [],
   "source": [
    "# div = h_bar[1, 0, :, 1:].filled(0) - h_bar[1, 0, :, :-1].filled(0) + (v_bar[1, 0, 1:, :].filled(0) - v_bar[1, 0, :-1, :].filled(0))"
   ]
  },
  {
   "cell_type": "code",
   "execution_count": 114,
   "metadata": {},
   "outputs": [
    {
     "data": {
      "text/plain": [
       "numpy.ndarray"
      ]
     },
     "execution_count": 114,
     "metadata": {},
     "output_type": "execute_result"
    }
   ],
   "source": [
    "type(u_bar[0, 0, :, 1:].filled(0))"
   ]
  },
  {
   "cell_type": "markdown",
   "metadata": {},
   "source": [
    "### Unsure about slicing\n",
    "\n",
    "Here, we decided to arbitrarily slice so that the dimensions would be `(200, 200)`, but is it okay to do that? We can't seem to take a difference over $x$ or $y$ this way."
   ]
  },
  {
   "cell_type": "code",
   "execution_count": 126,
   "metadata": {},
   "outputs": [],
   "source": [
    "div = u_bar[1, 0, :, 1:] - u_bar[1, 0, :, :-1] + (v_bar[1, 0, 1:, :] - v_bar[1, 0, :-1, :])"
   ]
  },
  {
   "cell_type": "code",
   "execution_count": 99,
   "metadata": {},
   "outputs": [],
   "source": [
    "uh_bar;"
   ]
  },
  {
   "cell_type": "code",
   "execution_count": 100,
   "metadata": {},
   "outputs": [],
   "source": [
    "vh_bar;"
   ]
  },
  {
   "cell_type": "code",
   "execution_count": 101,
   "metadata": {},
   "outputs": [],
   "source": [
    "h_bar;"
   ]
  },
  {
   "cell_type": "code",
   "execution_count": 102,
   "metadata": {},
   "outputs": [],
   "source": [
    "u_bar;"
   ]
  },
  {
   "cell_type": "code",
   "execution_count": 103,
   "metadata": {},
   "outputs": [],
   "source": [
    "v_bar;"
   ]
  },
  {
   "cell_type": "code",
   "execution_count": null,
   "metadata": {},
   "outputs": [],
   "source": []
  },
  {
   "cell_type": "code",
   "execution_count": 122,
   "metadata": {},
   "outputs": [],
   "source": [
    "hb_ub = np.multiply(h_bar[0, 0, :, :], u_bar[0, 0, :, 1:].filled(0))"
   ]
  },
  {
   "cell_type": "markdown",
   "metadata": {},
   "source": [
    "$\\overline{h_k'u_k'}$ is `diff`"
   ]
  },
  {
   "cell_type": "code",
   "execution_count": 124,
   "metadata": {},
   "outputs": [],
   "source": [
    "diff = uh_bar[0, 0, :, 1:].filled(0) - hb_ub"
   ]
  },
  {
   "cell_type": "code",
   "execution_count": 125,
   "metadata": {},
   "outputs": [
    {
     "data": {
      "text/plain": [
       "<matplotlib.colorbar.Colorbar at 0x120d17fd0>"
      ]
     },
     "execution_count": 125,
     "metadata": {},
     "output_type": "execute_result"
    },
    {
     "data": {
      "image/png": "[encoded data removed]",
      "text/plain": [
       "<matplotlib.figure.Figure at 0x120561550>"
      ]
     },
     "metadata": {},
     "output_type": "display_data"
    }
   ],
   "source": [
    "plt.pcolormesh(diff)\n",
    "plt.colorbar()"
   ]
  },
  {
   "cell_type": "code",
   "execution_count": 97,
   "metadata": {},
   "outputs": [],
   "source": [
    "delta_h = h_bar[1, 0, :, :] - h_bar[0, 0, :, :]\n",
    "delta_t = (ave.variables['Time'][1] - ave.variables[\"Time\"][0]) * 86400"
   ]
  },
  {
   "cell_type": "code",
   "execution_count": 71,
   "metadata": {},
   "outputs": [
    {
     "data": {
      "text/plain": [
       "<class 'netCDF4._netCDF4.Variable'>\n",
       "float64 Time(Time)\n",
       "    long_name: Time\n",
       "    units: days since 0001-01-01 00:00:00\n",
       "    cartesian_axis: T\n",
       "    calendar_type: JULIAN\n",
       "    calendar: JULIAN\n",
       "    bounds: Time_bnds\n",
       "unlimited dimensions: Time\n",
       "current shape = (10,)\n",
       "filling off"
      ]
     },
     "execution_count": 71,
     "metadata": {},
     "output_type": "execute_result"
    }
   ],
   "source": [
    "time = ave.variables['Time']\n",
    "time"
   ]
  },
  {
   "cell_type": "code",
   "execution_count": 72,
   "metadata": {},
   "outputs": [
    {
     "data": {
      "text/plain": [
       "<matplotlib.colorbar.Colorbar at 0x12015fd68>"
      ]
     },
     "execution_count": 72,
     "metadata": {},
     "output_type": "execute_result"
    },
    {
     "data": {
      "image/png": "[encoded data removed]",
      "text/plain": [
       "<matplotlib.figure.Figure at 0x11f5376a0>"
      ]
     },
     "metadata": {},
     "output_type": "display_data"
    }
   ],
   "source": [
    "plt.pcolormesh(-delta_h * ah / delta_t)\n",
    "plt.colorbar()"
   ]
  },
  {
   "cell_type": "code",
   "execution_count": 73,
   "metadata": {},
   "outputs": [],
   "source": [
    "div_two = uh[1, 0, :, 1:].filled(0) - uh[1, 0, :, :-1].filled(0) + (vh[1, 0, 1:, :].filled(0) - vh[1, 0, :-1, :].filled(0))"
   ]
  },
  {
   "cell_type": "code",
   "execution_count": null,
   "metadata": {},
   "outputs": [],
   "source": []
  }
 ],
 "metadata": {
  "kernelspec": {
   "display_name": "Python [default]",
   "language": "python",
   "name": "python3"
  },
  "language_info": {
   "codemirror_mode": {
    "name": "ipython",
    "version": 3
   },
   "file_extension": ".py",
   "mimetype": "text/x-python",
   "name": "python",
   "nbconvert_exporter": "python",
   "pygments_lexer": "ipython3",
   "version": "3.6.4"
  }
 },
 "nbformat": 4,
 "nbformat_minor": 2
}
