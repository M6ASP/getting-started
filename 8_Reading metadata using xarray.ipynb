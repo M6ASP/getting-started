{
 "cells": [
  {
   "cell_type": "markdown",
   "metadata": {},
   "source": [
    "# Reading metadata using xarray"
   ]
  },
  {
   "cell_type": "raw",
   "metadata": {},
   "source": [
    "Useful links:\n",
    "http://xarray.pydata.org/en/stable/\n",
    "https://github.com/pydata/xarray"
   ]
  },
  {
   "cell_type": "markdown",
   "metadata": {},
   "source": [
    "## Installing xarray"
   ]
  },
  {
   "cell_type": "markdown",
   "metadata": {},
   "source": [
    "Installation was done using the Anaconda Prompt. After activating the target environment, we can install the xarray package by executing the following in the command line [seemed to already be installed for me]:"
   ]
  },
  {
   "cell_type": "raw",
   "metadata": {},
   "source": [
    "pip install xarray"
   ]
  },
  {
   "cell_type": "markdown",
   "metadata": {},
   "source": [
    "## Inputting the data"
   ]
  },
  {
   "cell_type": "markdown",
   "metadata": {},
   "source": [
    "Once installed, we can start to use the package in our project by importing the library (we run `%pylab inline` as per usual to embed plots):"
   ]
  },
  {
   "cell_type": "code",
   "execution_count": 1,
   "metadata": {},
   "outputs": [
    {
     "name": "stdout",
     "output_type": "stream",
     "text": [
      "Populating the interactive namespace from numpy and matplotlib\n"
     ]
    }
   ],
   "source": [
    "%pylab inline\n",
    "import xarray"
   ]
  },
  {
   "cell_type": "markdown",
   "metadata": {},
   "source": [
    "We read the data in our file into a variable by using the `.open_dataset` function. [Documentation says `to_netcdf()` and `open_dataarray()` should also work, but both throw errors.]"
   ]
  },
  {
   "cell_type": "code",
   "execution_count": 2,
   "metadata": {},
   "outputs": [],
   "source": [
    "data = xarray.open_dataset('example_data/WOA13_annual_SST_nc4_classic.nc')"
   ]
  },
  {
   "cell_type": "markdown",
   "metadata": {},
   "source": [
    "[Cannot read:\n",
    "WOA13_annual_SST_nc3_64bitdata(.nc)\n",
    "Can read: WOA13_annual_SST_nc3_64bitoffset.nc (.nc must be specified), WOA13_annual_SST_nc3_classic.nc (.nc must be specified), WOA13_annual_SST_nc4(.nc) (reads both), WOA13_annual_SST_nc4_classic.nc (.nc must be specified)]"
   ]
  },
  {
   "cell_type": "markdown",
   "metadata": {},
   "source": [
    "## Reading metadata"
   ]
  },
  {
   "cell_type": "markdown",
   "metadata": {},
   "source": [
    "We can display the metadata (that is, characteristics of the data set) by calling our variable name, `data`."
   ]
  },
  {
   "cell_type": "code",
   "execution_count": 3,
   "metadata": {},
   "outputs": [
    {
     "data": {
      "text/plain": [
       "<xarray.Dataset>\n",
       "Dimensions:  (lat: 180, lon: 360)\n",
       "Coordinates:\n",
       "  * lat      (lat) float32 -89.5 -88.5 -87.5 -86.5 -85.5 -84.5 -83.5 -82.5 ...\n",
       "  * lon      (lon) float32 -179.5 -178.5 -177.5 -176.5 -175.5 -174.5 -173.5 ...\n",
       "Data variables:\n",
       "    tos      (lat, lon) float32 ...\n",
       "Attributes:\n",
       "    Conventions:                   CF-1.6\n",
       "    summary:                       Climatological mean temperature for the gl...\n",
       "    references:                    Locarnini, R. A., A. V. Mishonov, J. I. An...\n",
       "    institution:                   National Oceanographic Data Center(NODC)\n",
       "    comment:                       global climatology as part of the World Oc...\n",
       "    id:                            woa13_decav_t00_01.ncv2.0\n",
       "    naming_authority:              gov.noaa.nodc\n",
       "    standard_name_vocabulary:      NetCDF Climate and Forecast (CF) Metadata ...\n",
       "    sea_name:                      World-Wide Distribution\n",
       "    time_coverage_start:           0000-01-01\n",
       "    time_coverage_duration:        P01Y\n",
       "    time_coverage_resolution:      P01Y\n",
       "    geospatial_lat_min:            -90.0\n",
       "    geospatial_lat_max:            90.0\n",
       "    geospatial_lon_min:            -180.0\n",
       "    geospatial_lon_max:            180.0\n",
       "    geospatial_vertical_min:       0.0\n",
       "    geospatial_vertical_max:       5500.0\n",
       "    geospatial_lat_units:          degrees_north\n",
       "    geospatial_lat_resolution:     1.00 degrees\n",
       "    geospatial_lon_units:          degrees_east\n",
       "    geospatial_lon_resolution:     1.00 degrees\n",
       "    geospatial_vertical_units:     m\n",
       "    geospatial_vertical_positive:  down\n",
       "    creator_name:                  Ocean Climate Laboratory\n",
       "    creator_email:                 NODC.Services@noaa.gov\n",
       "    creator_url:                   http://www.nodc.noaa.gov\n",
       "    project:                       World Ocean Atlas\n",
       "    processing_level:              processed\n",
       "    keywords:                      <ISO_TOPIC_Category> Oceans</ISO_TOPIC_Cat...\n",
       "    keywords_vocabulary:           ISO 19115\n",
       "    contributor_name:              Ocean Climate Laboratory\n",
       "    contributor_role:              Calculation of climatologies\n",
       "    cdm_data_type:                 Grid\n",
       "    publisher_name:                National Oceanographic Data Center\n",
       "    publisher_url:                 http://www.nodc.noaa.gov/\n",
       "    publisher_email:               NODC.Services@noaa.gov\n",
       "    nodc_template_version:         NODC_NetCDF_Grid_Template_v1.0\n",
       "    license:                       These data are openly available to the pub...\n",
       "    Metadata_Conventions:          Unidata Dataset Discovery v1.0\n",
       "    metadata_link:                 http://www.nodc.noaa.gov/OC5/WOA13/pr_woa1...\n",
       "    date_created:                  2011-09-28 \n",
       "    date_modified:                 2011-09-28 \n",
       "    title:                         World Ocean Atlas 2013 version 2 : sea_sur..."
      ]
     },
     "execution_count": 3,
     "metadata": {},
     "output_type": "execute_result"
    }
   ],
   "source": [
    "data"
   ]
  },
  {
   "cell_type": "markdown",
   "metadata": {},
   "source": [
    "We can also call upon the `.attrs` (short for attributes), to display another set of metadata. [The two sets seem to be very similar but not exactly the same.]"
   ]
  },
  {
   "cell_type": "code",
   "execution_count": 4,
   "metadata": {},
   "outputs": [
    {
     "data": {
      "text/plain": [
       "OrderedDict([(u'Conventions', u'CF-1.6'),\n",
       "             (u'summary',\n",
       "              u'Climatological mean temperature for the global ocean from in situ profile data'),\n",
       "             (u'references',\n",
       "              u'Locarnini, R. A., A. V. Mishonov, J. I. Antonov, T. P. Boyer, H. E. Garcia, O. K. Baranova, M. M. Zweng, C. R. Paver, J. R. Reagan,D. R. Johnson, M. Hamilton, and D. Seidov , 2013: World Ocean Atlas 2013, Volume 1: Temperature. S. Levitus, Ed., A. Mishonov technical editor, NOAA Atlas NESDIS 73.'),\n",
       "             (u'institution', u'National Oceanographic Data Center(NODC)'),\n",
       "             (u'comment',\n",
       "              u'global climatology as part of the World Ocean Atlas project'),\n",
       "             (u'id', u'woa13_decav_t00_01.ncv2.0'),\n",
       "             (u'naming_authority', u'gov.noaa.nodc'),\n",
       "             (u'standard_name_vocabulary',\n",
       "              u'NetCDF Climate and Forecast (CF) Metadata Convention Standard Name Table v29'),\n",
       "             (u'sea_name', u'World-Wide Distribution'),\n",
       "             (u'time_coverage_start', u'0000-01-01'),\n",
       "             (u'time_coverage_duration', u'P01Y'),\n",
       "             (u'time_coverage_resolution', u'P01Y'),\n",
       "             (u'geospatial_lat_min', -90.0),\n",
       "             (u'geospatial_lat_max', 90.0),\n",
       "             (u'geospatial_lon_min', -180.0),\n",
       "             (u'geospatial_lon_max', 180.0),\n",
       "             (u'geospatial_vertical_min', 0.0),\n",
       "             (u'geospatial_vertical_max', 5500.0),\n",
       "             (u'geospatial_lat_units', u'degrees_north'),\n",
       "             (u'geospatial_lat_resolution', u'1.00 degrees'),\n",
       "             (u'geospatial_lon_units', u'degrees_east'),\n",
       "             (u'geospatial_lon_resolution', u'1.00 degrees'),\n",
       "             (u'geospatial_vertical_units', u'm'),\n",
       "             (u'geospatial_vertical_positive', u'down'),\n",
       "             (u'creator_name', u'Ocean Climate Laboratory'),\n",
       "             (u'creator_email', u'NODC.Services@noaa.gov'),\n",
       "             (u'creator_url', u'http://www.nodc.noaa.gov'),\n",
       "             (u'project', u'World Ocean Atlas'),\n",
       "             (u'processing_level', u'processed'),\n",
       "             (u'keywords',\n",
       "              u'<ISO_TOPIC_Category> Oceans</ISO_TOPIC_Category>'),\n",
       "             (u'keywords_vocabulary', u'ISO 19115'),\n",
       "             (u'contributor_name', u'Ocean Climate Laboratory'),\n",
       "             (u'contributor_role', u'Calculation of climatologies'),\n",
       "             (u'cdm_data_type', u'Grid'),\n",
       "             (u'publisher_name', u'National Oceanographic Data Center'),\n",
       "             (u'publisher_url', u'http://www.nodc.noaa.gov/'),\n",
       "             (u'publisher_email', u'NODC.Services@noaa.gov'),\n",
       "             (u'nodc_template_version', u'NODC_NetCDF_Grid_Template_v1.0'),\n",
       "             (u'license',\n",
       "              u'These data are openly available to the public. Please acknowledge the use of these data with the text given in the acknowledgment attribute.'),\n",
       "             (u'Metadata_Conventions', u'Unidata Dataset Discovery v1.0'),\n",
       "             (u'metadata_link',\n",
       "              u'http://www.nodc.noaa.gov/OC5/WOA13/pr_woa13.html'),\n",
       "             (u'date_created', u'2011-09-28 '),\n",
       "             (u'date_modified', u'2011-09-28 '),\n",
       "             (u'title',\n",
       "              u'World Ocean Atlas 2013 version 2 : sea_surface_temperature Annual 1.00 degree')])"
      ]
     },
     "execution_count": 4,
     "metadata": {},
     "output_type": "execute_result"
    }
   ],
   "source": [
    "data.attrs"
   ]
  },
  {
   "cell_type": "markdown",
   "metadata": {},
   "source": [
    "We can also call upon the following functions to display specific metadata: [Notice redundancies with the above.]"
   ]
  },
  {
   "cell_type": "code",
   "execution_count": 5,
   "metadata": {},
   "outputs": [
    {
     "data": {
      "text/plain": [
       "<bound method Dataset.values of <xarray.Dataset>\n",
       "Dimensions:  (lat: 180, lon: 360)\n",
       "Coordinates:\n",
       "  * lat      (lat) float32 -89.5 -88.5 -87.5 -86.5 -85.5 -84.5 -83.5 -82.5 ...\n",
       "  * lon      (lon) float32 -179.5 -178.5 -177.5 -176.5 -175.5 -174.5 -173.5 ...\n",
       "Data variables:\n",
       "    tos      (lat, lon) float32 ...\n",
       "Attributes:\n",
       "    Conventions:                   CF-1.6\n",
       "    summary:                       Climatological mean temperature for the gl...\n",
       "    references:                    Locarnini, R. A., A. V. Mishonov, J. I. An...\n",
       "    institution:                   National Oceanographic Data Center(NODC)\n",
       "    comment:                       global climatology as part of the World Oc...\n",
       "    id:                            woa13_decav_t00_01.ncv2.0\n",
       "    naming_authority:              gov.noaa.nodc\n",
       "    standard_name_vocabulary:      NetCDF Climate and Forecast (CF) Metadata ...\n",
       "    sea_name:                      World-Wide Distribution\n",
       "    time_coverage_start:           0000-01-01\n",
       "    time_coverage_duration:        P01Y\n",
       "    time_coverage_resolution:      P01Y\n",
       "    geospatial_lat_min:            -90.0\n",
       "    geospatial_lat_max:            90.0\n",
       "    geospatial_lon_min:            -180.0\n",
       "    geospatial_lon_max:            180.0\n",
       "    geospatial_vertical_min:       0.0\n",
       "    geospatial_vertical_max:       5500.0\n",
       "    geospatial_lat_units:          degrees_north\n",
       "    geospatial_lat_resolution:     1.00 degrees\n",
       "    geospatial_lon_units:          degrees_east\n",
       "    geospatial_lon_resolution:     1.00 degrees\n",
       "    geospatial_vertical_units:     m\n",
       "    geospatial_vertical_positive:  down\n",
       "    creator_name:                  Ocean Climate Laboratory\n",
       "    creator_email:                 NODC.Services@noaa.gov\n",
       "    creator_url:                   http://www.nodc.noaa.gov\n",
       "    project:                       World Ocean Atlas\n",
       "    processing_level:              processed\n",
       "    keywords:                      <ISO_TOPIC_Category> Oceans</ISO_TOPIC_Cat...\n",
       "    keywords_vocabulary:           ISO 19115\n",
       "    contributor_name:              Ocean Climate Laboratory\n",
       "    contributor_role:              Calculation of climatologies\n",
       "    cdm_data_type:                 Grid\n",
       "    publisher_name:                National Oceanographic Data Center\n",
       "    publisher_url:                 http://www.nodc.noaa.gov/\n",
       "    publisher_email:               NODC.Services@noaa.gov\n",
       "    nodc_template_version:         NODC_NetCDF_Grid_Template_v1.0\n",
       "    license:                       These data are openly available to the pub...\n",
       "    Metadata_Conventions:          Unidata Dataset Discovery v1.0\n",
       "    metadata_link:                 http://www.nodc.noaa.gov/OC5/WOA13/pr_woa1...\n",
       "    date_created:                  2011-09-28 \n",
       "    date_modified:                 2011-09-28 \n",
       "    title:                         World Ocean Atlas 2013 version 2 : sea_sur...>"
      ]
     },
     "execution_count": 5,
     "metadata": {},
     "output_type": "execute_result"
    }
   ],
   "source": [
    "data.values"
   ]
  },
  {
   "cell_type": "code",
   "execution_count": 6,
   "metadata": {},
   "outputs": [
    {
     "data": {
      "text/plain": [
       "Frozen(SortedKeysDict({u'lat': 180, u'lon': 360}))"
      ]
     },
     "execution_count": 6,
     "metadata": {},
     "output_type": "execute_result"
    }
   ],
   "source": [
    "data.dims"
   ]
  },
  {
   "cell_type": "code",
   "execution_count": 7,
   "metadata": {},
   "outputs": [
    {
     "data": {
      "text/plain": [
       "Coordinates:\n",
       "  * lat      (lat) float32 -89.5 -88.5 -87.5 -86.5 -85.5 -84.5 -83.5 -82.5 ...\n",
       "  * lon      (lon) float32 -179.5 -178.5 -177.5 -176.5 -175.5 -174.5 -173.5 ..."
      ]
     },
     "execution_count": 7,
     "metadata": {},
     "output_type": "execute_result"
    }
   ],
   "source": [
    "data.coords"
   ]
  },
  {
   "cell_type": "code",
   "execution_count": null,
   "metadata": {},
   "outputs": [],
   "source": []
  }
 ],
 "metadata": {
  "kernelspec": {
   "display_name": "Python 2",
   "language": "python",
   "name": "python2"
  },
  "language_info": {
   "codemirror_mode": {
    "name": "ipython",
    "version": 2
   },
   "file_extension": ".py",
   "mimetype": "text/x-python",
   "name": "python",
   "nbconvert_exporter": "python",
   "pygments_lexer": "ipython2",
   "version": "2.7.14"
  }
 },
 "nbformat": 4,
 "nbformat_minor": 2
}
