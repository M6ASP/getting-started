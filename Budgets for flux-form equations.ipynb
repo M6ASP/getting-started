{
 "cells": [
  {
   "cell_type": "markdown",
   "metadata": {},
   "source": [
    "## Budgets for flux-form equations"
   ]
  },
  {
   "cell_type": "markdown",
   "metadata": {},
   "source": [
    "The continuity equation\n",
    "$$\n",
    "\\partial_t h_k = - \\nabla \\cdot \\left( h_k {\\bf v}_k \\right)\n",
    "$$\n",
    "describes the evolution of the thickness of an ocean layer in a reduced gravity model. $k$ is the layer number in the vertical direction (usually $k=1$ is the top layer), $h_k$ is the layer thickness, $t$ is time, ${\\bf v}_k = (u,v)$ is the horizontal velocity vector, and $\\nabla \\cdot \\equiv (\\partial_x, \\partial_y)$ is the horizontal divergence operator where $x$ and $y$ are the horizontal spatial dimensions."
   ]
  },
  {
   "cell_type": "markdown",
   "metadata": {},
   "source": [
    "The divergence operator is discretized as\n",
    "$$\n",
    "\\nabla \\cdot \\left( h_k {\\bf v}_k \\right) = \\frac{1}{A}\n",
    "\\left( \\delta_i \\left( h_k u_k \\right) + \\delta_j \\left( h_k v_k \\right) \\right) \n",
    "$$\n",
    "where\n",
    "$$\n",
    "\\delta_i \\phi \\equiv \\phi_{i+\\frac{1}{2},j} - \\phi_{i-\\frac{1}{2},j}\n",
    "$$\n",
    "and\n",
    "$$\n",
    "\\delta_j \\phi \\equiv \\phi_{i,j+\\frac{1}{2}} - \\phi_{i,j-\\frac{1}{2}}\n",
    "$$\n",
    "and by convention $i$ is the cell number in the $x$-direction so that the center of the cell is $x_i =  ( i - \\frac{1}{2} ) \\Delta x$ for uniformly spaced grid. Similarly, $y_j = ( j - \\frac{1}{2} ) \\Delta y$."
   ]
  },
  {
   "cell_type": "markdown",
   "metadata": {},
   "source": [
    "Integrating the continuity equation over the time period between $t=t_A$ and $t=t_B$ we obtain\n",
    "$$\n",
    "\\frac{ h_k(t_B) - h_k(t_A) }{ t_B - t_A } = - \\nabla \\cdot \\left( \\overline{ h_k {\\bf v}_k } \\right)\n",
    "$$\n",
    "where an overline indicates a time average:\n",
    "$$\n",
    "\\overline{\\phi} \\equiv = \\frac{ 1 }{ t_B - t_A } \\int_{t_A}^{t_B} \\phi(t) \\,dt\n",
    "$$"
   ]
  },
  {
   "cell_type": "markdown",
   "metadata": {},
   "source": [
    "MOM6 can diagnose the time average of the flux terms in the continuity equations, $hu$ and $hv$, as well as the instantaneous $h$.\n",
    "\n",
    "Verify that MOM6 diagnostics satisfy the continuity equation by\n",
    "1. diagnose $\\delta_i \\left( h_k u_k \\right) + \\delta_j \\left( h_k v_k \\right)$ for levels $k=1$ and $k=2$\n",
    "2. diagnose $A \\left( h_k(t_B) - h_k(t_A) \\right)$ for levels $k=1$ and $k=2$"
   ]
  }
 ],
 "metadata": {
  "kernelspec": {
   "display_name": "Python 3",
   "language": "python",
   "name": "python3"
  },
  "language_info": {
   "codemirror_mode": {
    "name": "ipython",
    "version": 3
   },
   "file_extension": ".py",
   "mimetype": "text/x-python",
   "name": "python",
   "nbconvert_exporter": "python",
   "pygments_lexer": "ipython3",
   "version": "3.6.4"
  }
 },
 "nbformat": 4,
 "nbformat_minor": 2
}
