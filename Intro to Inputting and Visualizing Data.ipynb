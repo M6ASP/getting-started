{
 "cells": [
  {
   "cell_type": "markdown",
   "metadata": {},
   "source": [
    "# Intro to Inputting and Visualizing Data"
   ]
  },
  {
   "cell_type": "markdown",
   "metadata": {},
   "source": [
    "In this section, we dicuss how to input and interpret basic ocean data.\n",
    "\n",
    "As always, we first run `%pylab inline` to embed figures into the notebook. Additionally, we `import` the `scipy.io.netcdf` package to let us import data from another file."
   ]
  },
  {
   "cell_type": "code",
   "execution_count": 1,
   "metadata": {},
   "outputs": [
    {
     "name": "stdout",
     "output_type": "stream",
     "text": [
      "Populating the interactive namespace from numpy and matplotlib\n"
     ]
    }
   ],
   "source": [
    "%pylab inline\n",
    "import scipy.io.netcdf"
   ]
  },
  {
   "cell_type": "markdown",
   "metadata": {},
   "source": [
    "## Inputing the Data"
   ]
  },
  {
   "cell_type": "markdown",
   "metadata": {},
   "source": [
    "We use a function from the package to input data from a destined file to a variable, or handle, that will store the data."
   ]
  },
  {
   "cell_type": "code",
   "execution_count": 2,
   "metadata": {},
   "outputs": [],
   "source": [
    "data_handle = scipy.io.netcdf_file('example_data/WOA13_annual_SST_nc3_classic.nc')"
   ]
  },
  {
   "cell_type": "markdown",
   "metadata": {},
   "source": [
    "To view what variables our data contains, we simply apply the `.variables` command to our handle."
   ]
  },
  {
   "cell_type": "code",
   "execution_count": 3,
   "metadata": {},
   "outputs": [
    {
     "data": {
      "text/plain": [
       "OrderedDict([('lat', <scipy.io.netcdf.netcdf_variable at 0x81a6668>),\n",
       "             ('lon', <scipy.io.netcdf.netcdf_variable at 0x81a6710>),\n",
       "             ('tos', <scipy.io.netcdf.netcdf_variable at 0x81a6748>)])"
      ]
     },
     "execution_count": 3,
     "metadata": {},
     "output_type": "execute_result"
    }
   ],
   "source": [
    "data_handle.variables"
   ]
  },
  {
   "cell_type": "markdown",
   "metadata": {},
   "source": [
    "We find that our data set consists of three variables: `lat`, `lon` and `tos`. We can example certain metadata (characteristics of the data itself) by calling upon certain attribute functions."
   ]
  },
  {
   "cell_type": "code",
   "execution_count": 4,
   "metadata": {},
   "outputs": [
    {
     "name": "stdout",
     "output_type": "stream",
     "text": [
      "latitude\n",
      "(180L,)\n",
      "('lat',)\n",
      "degrees_north\n",
      "\n",
      "longitude\n",
      "(360L,)\n",
      "('lon',)\n",
      "degrees_east\n",
      "\n",
      "Objectively analyzed mean fields for sea_surface_temperature at standard depth levels.\n",
      "(180L, 360L)\n",
      "('lat', 'lon')\n",
      "degrees_celsius\n"
     ]
    }
   ],
   "source": [
    "print data_handle.variables['lat'].long_name\n",
    "print data_handle.variables['lat'].shape\n",
    "print data_handle.variables['lat'].dimensions\n",
    "print data_handle.variables['lat'].units\n",
    "print\n",
    "print data_handle.variables['lon'].long_name\n",
    "print data_handle.variables['lon'].shape\n",
    "print data_handle.variables['lon'].dimensions\n",
    "print data_handle.variables['lon'].units\n",
    "print\n",
    "print data_handle.variables['tos'].long_name\n",
    "print data_handle.variables['tos'].shape\n",
    "print data_handle.variables['tos'].dimensions\n",
    "print data_handle.variables['tos'].units"
   ]
  },
  {
   "cell_type": "markdown",
   "metadata": {},
   "source": [
    "We see that our three variable represent latitude, longitude and sea surface temperature, respectively. For `lat` and `lon` sets, the data is contained in a one dimensional array. The first is measured in degrees North, and the latter, degrees East.\n",
    "\n",
    "For `tos`, the data is in a two dimensional array where the indices are `lat` and `lon` and our data is measured in degrees Celsius. (We will soon create a visual representation of this data.)\n",
    "\n",
    "An array is simply a structed way to store data. Because our `tos` data is stored in a two dimensional array, each piece of data is specified by refering to its two indices. For example, we can find the surface temperature at `(lat, lon) = (96, 25)` by running the following command."
   ]
  },
  {
   "cell_type": "code",
   "execution_count": 5,
   "metadata": {},
   "outputs": [
    {
     "data": {
      "text/plain": [
       "27.82729"
      ]
     },
     "execution_count": 5,
     "metadata": {},
     "output_type": "execute_result"
    }
   ],
   "source": [
    "data_handle.variables['tos'][96, 25]"
   ]
  },
  {
   "cell_type": "markdown",
   "metadata": {},
   "source": [
    "We find that at this point, our sea surface temperature is about 27.8 degrees Celsius. Because refering to the `tos` variable within our handle can be cumbersome, we create another handle that only stores sea surface temperture data. Additionally, we find the temperature at a few more points (and make the output cleaner by formatting the print statements)."
   ]
  },
  {
   "cell_type": "code",
   "execution_count": 6,
   "metadata": {},
   "outputs": [
    {
     "name": "stdout",
     "output_type": "stream",
     "text": [
      "Temp. at (90, 0): 28.432291\n",
      "Temp. at (90, 100): 9.96921e+36\n"
     ]
    }
   ],
   "source": [
    "tos_handle = data_handle.variables['tos']\n",
    "\n",
    "print 'Temp. at (90, 0):', tos_handle[90, 0]\n",
    "print 'Temp. at (90, 100):', tos_handle[90, 100]"
   ]
  },
  {
   "cell_type": "markdown",
   "metadata": {},
   "source": [
    "At the point `(90, 0)`, we find the temperature to be about 28.4 degrees. However, at `(90, 100)`, we find the temperature to be of an astronomical magnitude. To explain this, we must consider that some points may correspond to land and thus not have any data for sea surface height. For these missing values, `netcdf` will fill in the missing data with a certain value (usually called a *fill value* or *missing value*), which we can identify in the attributes of the `tos` variable."
   ]
  },
  {
   "cell_type": "code",
   "execution_count": 7,
   "metadata": {},
   "outputs": [
    {
     "data": {
      "text/plain": [
       "9.96921e+36"
      ]
     },
     "execution_count": 7,
     "metadata": {},
     "output_type": "execute_result"
    }
   ],
   "source": [
    "tos_handle._FillValue"
   ]
  },
  {
   "cell_type": "markdown",
   "metadata": {},
   "source": [
    "We find that the value at `(lat, long) = (90, 100)` does in fact coincide with the fill value, meaning this point has no data for `tos`, and thus corresponds to land, rather than ocean. When plotting, however, we must resolve this issue since our plotting tool does not know how to distinguish the large fill value from actual sea surface temperature values."
   ]
  },
  {
   "cell_type": "markdown",
   "metadata": {},
   "source": [
    "## Visualizing the Data"
   ]
  },
  {
   "cell_type": "markdown",
   "metadata": {},
   "source": [
    "To resolve the fill value issue, we create a new data handle which will \"mask\" the points where these is the fill value (the structure is known as a *masked array*). At these masked points, we will have *no* value and our plot will simply display nothing (as it should for land)."
   ]
  },
  {
   "cell_type": "code",
   "execution_count": 8,
   "metadata": {},
   "outputs": [
    {
     "name": "stdout",
     "output_type": "stream",
     "text": [
      "Temp. at (90, 0): 28.432291\n",
      "Temp. at (90, 100): --\n"
     ]
    }
   ],
   "source": [
    "tos_masked_handle = numpy.ma.array(tos_handle[:,:], mask = tos_handle[:,:] == tos_handle._FillValue)\n",
    "\n",
    "print 'Temp. at (90, 0):', tos_masked_handle[90, 0]\n",
    "print 'Temp. at (90, 100):', tos_masked_handle[90, 100]"
   ]
  },
  {
   "cell_type": "markdown",
   "metadata": {},
   "source": [
    "To create the new array, we called `numpy.ma.array` and specified the original array we are masking (`tos_handle[:,:]`) and where to apply the mask (`tos_handle[:,:] == tos_handle._FillValue`; i.e. wherever we have the fill value). We see that the surface temperature at `(90, 0)` is the same as before while at `(90, 100)` there is no data. We can now accurately plot sea surface temperature using the `plt.pcolormesh` function."
   ]
  },
  {
   "cell_type": "code",
   "execution_count": 9,
   "metadata": {},
   "outputs": [
    {
     "data": {
      "text/plain": [
       "<matplotlib.collections.QuadMesh at 0x82cdf60>"
      ]
     },
     "execution_count": 9,
     "metadata": {},
     "output_type": "execute_result"
    },
    {
     "data": {
      "image/png": "[encoded data removed]",
      "text/plain": [
       "<matplotlib.figure.Figure at 0x81a6a20>"
      ]
     },
     "metadata": {},
     "output_type": "display_data"
    }
   ],
   "source": [
    "plt.pcolormesh(tos_masked_handle)"
   ]
  }
 ],
 "metadata": {
  "kernelspec": {
   "display_name": "Python 2",
   "language": "python",
   "name": "python2"
  },
  "language_info": {
   "codemirror_mode": {
    "name": "ipython",
    "version": 2
   },
   "file_extension": ".py",
   "mimetype": "text/x-python",
   "name": "python",
   "nbconvert_exporter": "python",
   "pygments_lexer": "ipython2",
   "version": "2.7.14"
  }
 },
 "nbformat": 4,
 "nbformat_minor": 2
}
