{
 "cells": [
  {
   "cell_type": "markdown",
   "metadata": {},
   "source": [
    "# Plot curvilinear-grid model output"
   ]
  },
  {
   "cell_type": "markdown",
   "metadata": {},
   "source": [
    "## Setting up the data"
   ]
  },
  {
   "cell_type": "markdown",
   "metadata": {},
   "source": [
    "Referenced: \n",
    "- https://xgcm.readthedocs.io/en/latest/grid_topology.html\n",
    "- https://xgcm.readthedocs.io/en/latest/example_mitgcm.html\n",
    "- https://media.readthedocs.org/pdf/xgcm/latest/xgcm.pdf"
   ]
  },
  {
   "cell_type": "code",
   "execution_count": 1,
   "metadata": {},
   "outputs": [
    {
     "name": "stdout",
     "output_type": "stream",
     "text": [
      "Populating the interactive namespace from numpy and matplotlib\n"
     ]
    }
   ],
   "source": [
    "%pylab inline\n",
    "import xgcm, xarray"
   ]
  },
  {
   "cell_type": "code",
   "execution_count": 2,
   "metadata": {},
   "outputs": [
    {
     "name": "stderr",
     "output_type": "stream",
     "text": [
      "/Users/Esther/miniconda2/envs/grids/lib/python2.7/site-packages/xarray/coding/times.py:111: SerializationWarning: Unable to decode time axis into full numpy.datetime64 objects, continuing using dummy netcdftime.datetime objects instead, reason: dates out of range\n",
      "  result = decode_cf_datetime(example_value, units, calendar)\n",
      "/Users/Esther/miniconda2/envs/grids/lib/python2.7/site-packages/xarray/coding/variables.py:66: SerializationWarning: Unable to decode time axis into full numpy.datetime64 objects, continuing using dummy netcdftime.datetime objects instead, reason: dates out of range\n",
      "  return self.func(self.array[key])\n"
     ]
    }
   ],
   "source": [
    "data = xarray.open_dataset('example_1degree_data/ocean.0001-0010.ssh.nc')"
   ]
  },
  {
   "cell_type": "markdown",
   "metadata": {},
   "source": [
    "## Examining the metadata "
   ]
  },
  {
   "cell_type": "code",
   "execution_count": 3,
   "metadata": {},
   "outputs": [
    {
     "data": {
      "text/plain": [
       "<xarray.Dataset>\n",
       "Dimensions:     (nv: 2, time: 10, xh: 360, yh: 320)\n",
       "Coordinates:\n",
       "  * nv          (nv) float64 1.0 2.0\n",
       "  * time        (time) object    1-07-02 12:00:00    2-07-02 12:00:00 ...\n",
       "  * xh          (xh) float64 -299.5 -298.5 -297.5 -296.5 -295.5 -294.5 ...\n",
       "  * yh          (yh) float64 -77.77 -77.56 -77.34 -77.12 -76.9 -76.67 -76.44 ...\n",
       "Data variables:\n",
       "    ssh         (time, yh, xh) float32 ...\n",
       "    time_bnds   (time, nv) timedelta64[ns] ...\n",
       "    average_T1  (time) object ...\n",
       "    average_T2  (time) object ...\n",
       "    average_DT  (time) timedelta64[ns] ...\n",
       "Attributes:\n",
       "    filename:            ocean.0001-0010.ssh.nc\n",
       "    title:               SPEAR_c96_o1_Control_1850_E50\n",
       "    associated_files:    area_t: 00010101.ocean_static.nc\n",
       "    grid_type:           regular\n",
       "    grid_tile:           N/A\n",
       "    external_variables:  area_t\n",
       "    comment:             FMS time averaging, version 3.0, precision=double"
      ]
     },
     "execution_count": 3,
     "metadata": {},
     "output_type": "execute_result"
    }
   ],
   "source": [
    "data"
   ]
  },
  {
   "cell_type": "markdown",
   "metadata": {},
   "source": [
    "Upon inspecting our metadata, we can see our \"data variable\" is 'tos', which is mapped onto specific coordinates 'lat' and 'lon'. Alternatively, we can call `.variables` to view the variables contained in our data set and their attributes."
   ]
  },
  {
   "cell_type": "code",
   "execution_count": 4,
   "metadata": {},
   "outputs": [
    {
     "data": {
      "text/plain": [
       "Frozen(OrderedDict([(u'nv', <xarray.IndexVariable u'nv' (nv: 2)>\n",
       "array([1., 2.])\n",
       "Attributes:\n",
       "    long_name:       vertex number\n",
       "    units:           none\n",
       "    cartesian_axis:  N), (u'ssh', <xarray.Variable (time: 10, yh: 320, xh: 360)>\n",
       "[1152000 values with dtype=float32]\n",
       "Attributes:\n",
       "    long_name:      Sea Surface Height\n",
       "    units:          m\n",
       "    cell_measures:  area: area_t\n",
       "    cell_methods:   area:mean yh:mean xh:mean time: mean\n",
       "    time_avg_info:  average_T1,average_T2,average_DT), (u'time', <xarray.IndexVariable u'time' (time: 10)>\n",
       "array([netcdftime._netcdftime.DatetimeJulian(1, 7, 2, 12, 0, 0, 7, -1, 1),\n",
       "       netcdftime._netcdftime.DatetimeJulian(2, 7, 2, 12, 0, 0, 7, -1, 1),\n",
       "       netcdftime._netcdftime.DatetimeJulian(3, 7, 2, 12, 0, 0, 7, -1, 1),\n",
       "       netcdftime._netcdftime.DatetimeJulian(4, 7, 2, 0, 0, 0, 7, -1, 1),\n",
       "       netcdftime._netcdftime.DatetimeJulian(5, 7, 2, 12, 0, 0, 7, -1, 1),\n",
       "       netcdftime._netcdftime.DatetimeJulian(6, 7, 2, 12, 0, 0, 7, -1, 1),\n",
       "       netcdftime._netcdftime.DatetimeJulian(7, 7, 2, 12, 0, 0, 7, -1, 1),\n",
       "       netcdftime._netcdftime.DatetimeJulian(8, 7, 2, 0, 0, 0, 7, -1, 1),\n",
       "       netcdftime._netcdftime.DatetimeJulian(9, 7, 2, 12, 0, 0, 7, -1, 1),\n",
       "       netcdftime._netcdftime.DatetimeJulian(10, 7, 2, 12, 0, 0, 7, -1, 1)],\n",
       "      dtype=object)\n",
       "Attributes:\n",
       "    long_name:       time\n",
       "    cartesian_axis:  T\n",
       "    calendar_type:   JULIAN\n",
       "    bounds:          time_bnds), (u'time_bnds', <xarray.Variable (time: 10, nv: 2)>\n",
       "array([[                 0,  31536000000000000],\n",
       "       [ 31536000000000000,  63072000000000000],\n",
       "       [ 63072000000000000,  94608000000000000],\n",
       "       [ 94608000000000000, 126230400000000000],\n",
       "       [126230400000000000, 157766400000000000],\n",
       "       [157766400000000000, 189302400000000000],\n",
       "       [189302400000000000, 220838400000000000],\n",
       "       [220838400000000000, 252460800000000000],\n",
       "       [252460800000000000, 283996800000000000],\n",
       "       [283996800000000000, 315532800000000000]], dtype='timedelta64[ns]')\n",
       "Attributes:\n",
       "    long_name:  time axis boundaries), (u'xh', <xarray.IndexVariable u'xh' (xh: 360)>\n",
       "array([-299.5, -298.5, -297.5, ...,   57.5,   58.5,   59.5])\n",
       "Attributes:\n",
       "    long_name:       h point nominal longitude\n",
       "    units:           degrees_east\n",
       "    cartesian_axis:  X), (u'yh', <xarray.IndexVariable u'yh' (yh: 320)>\n",
       "array([-77.774202, -77.560621, -77.343369, ...,  89.481909,  89.694551,\n",
       "        89.9     ])\n",
       "Attributes:\n",
       "    long_name:       h point nominal latitude\n",
       "    units:           degrees_north\n",
       "    cartesian_axis:  Y), (u'average_T1', <xarray.Variable (time: 10)>\n",
       "array([netcdftime._netcdftime.DatetimeGregorian(1, 1, 1, 0, 0, 0, 7, -1, 1),\n",
       "       netcdftime._netcdftime.DatetimeGregorian(2, 1, 1, 0, 0, 0, 7, -1, 1),\n",
       "       netcdftime._netcdftime.DatetimeGregorian(3, 1, 1, 0, 0, 0, 7, -1, 1),\n",
       "       netcdftime._netcdftime.DatetimeGregorian(4, 1, 1, 0, 0, 0, 7, -1, 1),\n",
       "       netcdftime._netcdftime.DatetimeGregorian(5, 1, 1, 0, 0, 0, 7, -1, 1),\n",
       "       netcdftime._netcdftime.DatetimeGregorian(6, 1, 1, 0, 0, 0, 7, -1, 1),\n",
       "       netcdftime._netcdftime.DatetimeGregorian(7, 1, 1, 0, 0, 0, 7, -1, 1),\n",
       "       netcdftime._netcdftime.DatetimeGregorian(8, 1, 1, 0, 0, 0, 7, -1, 1),\n",
       "       netcdftime._netcdftime.DatetimeGregorian(9, 1, 1, 0, 0, 0, 7, -1, 1),\n",
       "       netcdftime._netcdftime.DatetimeGregorian(10, 1, 1, 0, 0, 0, 7, -1, 1)],\n",
       "      dtype=object)\n",
       "Attributes:\n",
       "    long_name:  Start time for average period), (u'average_T2', <xarray.Variable (time: 10)>\n",
       "array([netcdftime._netcdftime.DatetimeGregorian(2, 1, 1, 0, 0, 0, 7, -1, 1),\n",
       "       netcdftime._netcdftime.DatetimeGregorian(3, 1, 1, 0, 0, 0, 7, -1, 1),\n",
       "       netcdftime._netcdftime.DatetimeGregorian(4, 1, 1, 0, 0, 0, 7, -1, 1),\n",
       "       netcdftime._netcdftime.DatetimeGregorian(5, 1, 1, 0, 0, 0, 7, -1, 1),\n",
       "       netcdftime._netcdftime.DatetimeGregorian(6, 1, 1, 0, 0, 0, 7, -1, 1),\n",
       "       netcdftime._netcdftime.DatetimeGregorian(7, 1, 1, 0, 0, 0, 7, -1, 1),\n",
       "       netcdftime._netcdftime.DatetimeGregorian(8, 1, 1, 0, 0, 0, 7, -1, 1),\n",
       "       netcdftime._netcdftime.DatetimeGregorian(9, 1, 1, 0, 0, 0, 7, -1, 1),\n",
       "       netcdftime._netcdftime.DatetimeGregorian(10, 1, 1, 0, 0, 0, 7, -1, 1),\n",
       "       netcdftime._netcdftime.DatetimeGregorian(11, 1, 1, 0, 0, 0, 7, -1, 1)],\n",
       "      dtype=object)\n",
       "Attributes:\n",
       "    long_name:  End time for average period), (u'average_DT', <xarray.Variable (time: 10)>\n",
       "array([31536000000000000, 31536000000000000, 31536000000000000,\n",
       "       31622400000000000, 31536000000000000, 31536000000000000,\n",
       "       31536000000000000, 31622400000000000, 31536000000000000,\n",
       "       31536000000000000], dtype='timedelta64[ns]')\n",
       "Attributes:\n",
       "    long_name:  Length of average period)]))"
      ]
     },
     "execution_count": 4,
     "metadata": {},
     "output_type": "execute_result"
    }
   ],
   "source": [
    "data.variables"
   ]
  },
  {
   "cell_type": "markdown",
   "metadata": {},
   "source": [
    "### Creating the grid\n",
    "Here, we create a `Grid` object from the data, labeling `X` and `Y` as periodic based off the documentation\n",
    "\n",
    "*Tried to get this working for a while, but for some reason face_connections just isn't a valid input?*\n",
    "\n",
    "Clearly, looking at the source code, it is part of the initialization: https://github.com/xgcm/xgcm/blob/19b476c2cf6e44c9f6d9331b4bee8f38fd78a21a/xgcm/grid.py"
   ]
  },
  {
   "cell_type": "code",
   "execution_count": 5,
   "metadata": {},
   "outputs": [],
   "source": [
    "face_connections = {'face': {0: {'X': (None, (1, 'X', False))},\n",
    "                                 1: {'X': ((0, 'X', False), None)}}}"
   ]
  },
  {
   "cell_type": "code",
   "execution_count": 6,
   "metadata": {},
   "outputs": [],
   "source": [
    "grid = xgcm.Grid(data)"
   ]
  },
  {
   "cell_type": "code",
   "execution_count": 7,
   "metadata": {},
   "outputs": [],
   "source": [
    "N = 25\n",
    "ds = xarray.Dataset({'data_c': (['face', 'y', 'x'], np.random.rand(2, N, N))},\n",
    "                    coords={'x': (('x',), np.arange(N), {'axis': 'X'}),\n",
    "                            'xl': (('xl'), np.arange(N)-0.5,\n",
    "                                   {'axis': 'X', 'c_grid_axis_shift': -0.5}),\n",
    "                            'y': (('y',), np.arange(N), {'axis': 'Y'}),\n",
    "                            'yl': (('yl'), np.arange(N)-0.5,\n",
    "                                   {'axis': 'Y', 'c_grid_axis_shift': -0.5}),\n",
    "                            'face': (('face',), [0, 1])})"
   ]
  },
  {
   "cell_type": "code",
   "execution_count": 8,
   "metadata": {},
   "outputs": [],
   "source": [
    "face_connections = {'face': {0: {'X': (None, (1, 'X', False))},\n",
    "                                 1: {'X': ((0, 'X', False), None)}}}"
   ]
  },
  {
   "cell_type": "code",
   "execution_count": 9,
   "metadata": {},
   "outputs": [
    {
     "ename": "TypeError",
     "evalue": "__init__() got an unexpected keyword argument 'face_connections'",
     "output_type": "error",
     "traceback": [
      "\u001b[0;31m---------------------------------------------------------------------------\u001b[0m",
      "\u001b[0;31mTypeError\u001b[0m                                 Traceback (most recent call last)",
      "\u001b[0;32m<ipython-input-9-0425da25c811>\u001b[0m in \u001b[0;36m<module>\u001b[0;34m()\u001b[0m\n\u001b[0;32m----> 1\u001b[0;31m \u001b[0mgrid\u001b[0m \u001b[0;34m=\u001b[0m \u001b[0mxgcm\u001b[0m\u001b[0;34m.\u001b[0m\u001b[0mGrid\u001b[0m\u001b[0;34m(\u001b[0m\u001b[0mds\u001b[0m\u001b[0;34m,\u001b[0m \u001b[0mface_connections\u001b[0m\u001b[0;34m=\u001b[0m\u001b[0mNone\u001b[0m\u001b[0;34m)\u001b[0m\u001b[0;34m\u001b[0m\u001b[0m\n\u001b[0m",
      "\u001b[0;31mTypeError\u001b[0m: __init__() got an unexpected keyword argument 'face_connections'"
     ]
    }
   ],
   "source": [
    "grid = xgcm.Grid(ds, face_connections=None)"
   ]
  },
  {
   "cell_type": "code",
   "execution_count": 16,
   "metadata": {},
   "outputs": [
    {
     "ename": "AttributeError",
     "evalue": "'Grid' object has no attribute '__attrs__'",
     "output_type": "error",
     "traceback": [
      "\u001b[0;31m---------------------------------------------------------------------------\u001b[0m",
      "\u001b[0;31mAttributeError\u001b[0m                            Traceback (most recent call last)",
      "\u001b[0;32m<ipython-input-16-98f879003e05>\u001b[0m in \u001b[0;36m<module>\u001b[0;34m()\u001b[0m\n\u001b[0;32m----> 1\u001b[0;31m \u001b[0mgrid\u001b[0m\u001b[0;34m.\u001b[0m\u001b[0m__attrs__\u001b[0m\u001b[0;34m\u001b[0m\u001b[0m\n\u001b[0m",
      "\u001b[0;31mAttributeError\u001b[0m: 'Grid' object has no attribute '__attrs__'"
     ]
    }
   ],
   "source": [
    "grid.__attrs__"
   ]
  },
  {
   "cell_type": "markdown",
   "metadata": {},
   "source": [
    "## Plotting the data"
   ]
  },
  {
   "cell_type": "markdown",
   "metadata": {},
   "source": [
    "We can view the contents of `tos` by simply calling it."
   ]
  },
  {
   "cell_type": "code",
   "execution_count": 8,
   "metadata": {},
   "outputs": [
    {
     "ename": "AttributeError",
     "evalue": "'Grid' object has no attribute '_attrs'",
     "output_type": "error",
     "traceback": [
      "\u001b[0;31m---------------------------------------------------------------------------\u001b[0m",
      "\u001b[0;31mAttributeError\u001b[0m                            Traceback (most recent call last)",
      "\u001b[0;32m<ipython-input-8-2fa46fdc36ce>\u001b[0m in \u001b[0;36m<module>\u001b[0;34m()\u001b[0m\n\u001b[0;32m----> 1\u001b[0;31m \u001b[0mgrid\u001b[0m\u001b[0;34m.\u001b[0m\u001b[0m_attrs\u001b[0m\u001b[0;34m\u001b[0m\u001b[0m\n\u001b[0m",
      "\u001b[0;31mAttributeError\u001b[0m: 'Grid' object has no attribute '_attrs'"
     ]
    }
   ],
   "source": [
    "grid._attrs"
   ]
  },
  {
   "cell_type": "markdown",
   "metadata": {},
   "source": [
    "Again, we see that each `tos` value corresponds to a `lat`, `lon` coordinate pair. We can plot `tos` using the following plot command. Additionally, we add a color bar to our plot."
   ]
  },
  {
   "cell_type": "code",
   "execution_count": 4,
   "metadata": {},
   "outputs": [
    {
     "ename": "TypeError",
     "evalue": "Illegal arguments to pcolormesh; see help(pcolormesh)",
     "output_type": "error",
     "traceback": [
      "\u001b[0;31m---------------------------------------------------------------------------\u001b[0m",
      "\u001b[0;31mTypeError\u001b[0m                                 Traceback (most recent call last)",
      "\u001b[0;32m<ipython-input-4-5f8f270489f9>\u001b[0m in \u001b[0;36m<module>\u001b[0;34m()\u001b[0m\n\u001b[0;32m----> 1\u001b[0;31m \u001b[0mplt\u001b[0m\u001b[0;34m.\u001b[0m\u001b[0mpcolormesh\u001b[0m\u001b[0;34m(\u001b[0m\u001b[0mdata\u001b[0m\u001b[0;34m[\u001b[0m\u001b[0;34m'xh'\u001b[0m\u001b[0;34m]\u001b[0m\u001b[0;34m,\u001b[0m \u001b[0mdata\u001b[0m\u001b[0;34m[\u001b[0m\u001b[0;34m'yh'\u001b[0m\u001b[0;34m]\u001b[0m\u001b[0;34m)\u001b[0m\u001b[0;34m\u001b[0m\u001b[0m\n\u001b[0m\u001b[1;32m      2\u001b[0m \u001b[0mplt\u001b[0m\u001b[0;34m.\u001b[0m\u001b[0mcolorbar\u001b[0m\u001b[0;34m(\u001b[0m\u001b[0;34m)\u001b[0m\u001b[0;34m\u001b[0m\u001b[0m\n",
      "\u001b[0;32m~/miniconda2/envs/xarrays/lib/python3.6/site-packages/matplotlib/pyplot.py\u001b[0m in \u001b[0;36mpcolormesh\u001b[0;34m(*args, **kwargs)\u001b[0m\n\u001b[1;32m   3186\u001b[0m                       mplDeprecation)\n\u001b[1;32m   3187\u001b[0m     \u001b[0;32mtry\u001b[0m\u001b[0;34m:\u001b[0m\u001b[0;34m\u001b[0m\u001b[0m\n\u001b[0;32m-> 3188\u001b[0;31m         \u001b[0mret\u001b[0m \u001b[0;34m=\u001b[0m \u001b[0max\u001b[0m\u001b[0;34m.\u001b[0m\u001b[0mpcolormesh\u001b[0m\u001b[0;34m(\u001b[0m\u001b[0;34m*\u001b[0m\u001b[0margs\u001b[0m\u001b[0;34m,\u001b[0m \u001b[0;34m**\u001b[0m\u001b[0mkwargs\u001b[0m\u001b[0;34m)\u001b[0m\u001b[0;34m\u001b[0m\u001b[0m\n\u001b[0m\u001b[1;32m   3189\u001b[0m     \u001b[0;32mfinally\u001b[0m\u001b[0;34m:\u001b[0m\u001b[0;34m\u001b[0m\u001b[0m\n\u001b[1;32m   3190\u001b[0m         \u001b[0max\u001b[0m\u001b[0;34m.\u001b[0m\u001b[0m_hold\u001b[0m \u001b[0;34m=\u001b[0m \u001b[0mwashold\u001b[0m\u001b[0;34m\u001b[0m\u001b[0m\n",
      "\u001b[0;32m~/miniconda2/envs/xarrays/lib/python3.6/site-packages/matplotlib/__init__.py\u001b[0m in \u001b[0;36minner\u001b[0;34m(ax, *args, **kwargs)\u001b[0m\n\u001b[1;32m   1715\u001b[0m                     warnings.warn(msg % (label_namer, func.__name__),\n\u001b[1;32m   1716\u001b[0m                                   RuntimeWarning, stacklevel=2)\n\u001b[0;32m-> 1717\u001b[0;31m             \u001b[0;32mreturn\u001b[0m \u001b[0mfunc\u001b[0m\u001b[0;34m(\u001b[0m\u001b[0max\u001b[0m\u001b[0;34m,\u001b[0m \u001b[0;34m*\u001b[0m\u001b[0margs\u001b[0m\u001b[0;34m,\u001b[0m \u001b[0;34m**\u001b[0m\u001b[0mkwargs\u001b[0m\u001b[0;34m)\u001b[0m\u001b[0;34m\u001b[0m\u001b[0m\n\u001b[0m\u001b[1;32m   1718\u001b[0m         \u001b[0mpre_doc\u001b[0m \u001b[0;34m=\u001b[0m \u001b[0minner\u001b[0m\u001b[0;34m.\u001b[0m\u001b[0m__doc__\u001b[0m\u001b[0;34m\u001b[0m\u001b[0m\n\u001b[1;32m   1719\u001b[0m         \u001b[0;32mif\u001b[0m \u001b[0mpre_doc\u001b[0m \u001b[0;32mis\u001b[0m \u001b[0;32mNone\u001b[0m\u001b[0;34m:\u001b[0m\u001b[0;34m\u001b[0m\u001b[0m\n",
      "\u001b[0;32m~/miniconda2/envs/xarrays/lib/python3.6/site-packages/matplotlib/axes/_axes.py\u001b[0m in \u001b[0;36mpcolormesh\u001b[0;34m(self, *args, **kwargs)\u001b[0m\n\u001b[1;32m   5574\u001b[0m         \u001b[0mallmatch\u001b[0m \u001b[0;34m=\u001b[0m \u001b[0;34m(\u001b[0m\u001b[0mshading\u001b[0m \u001b[0;34m==\u001b[0m \u001b[0;34m'gouraud'\u001b[0m\u001b[0;34m)\u001b[0m\u001b[0;34m\u001b[0m\u001b[0m\n\u001b[1;32m   5575\u001b[0m \u001b[0;34m\u001b[0m\u001b[0m\n\u001b[0;32m-> 5576\u001b[0;31m         \u001b[0mX\u001b[0m\u001b[0;34m,\u001b[0m \u001b[0mY\u001b[0m\u001b[0;34m,\u001b[0m \u001b[0mC\u001b[0m \u001b[0;34m=\u001b[0m \u001b[0mself\u001b[0m\u001b[0;34m.\u001b[0m\u001b[0m_pcolorargs\u001b[0m\u001b[0;34m(\u001b[0m\u001b[0;34m'pcolormesh'\u001b[0m\u001b[0;34m,\u001b[0m \u001b[0;34m*\u001b[0m\u001b[0margs\u001b[0m\u001b[0;34m,\u001b[0m \u001b[0mallmatch\u001b[0m\u001b[0;34m=\u001b[0m\u001b[0mallmatch\u001b[0m\u001b[0;34m)\u001b[0m\u001b[0;34m\u001b[0m\u001b[0m\n\u001b[0m\u001b[1;32m   5577\u001b[0m         \u001b[0mNy\u001b[0m\u001b[0;34m,\u001b[0m \u001b[0mNx\u001b[0m \u001b[0;34m=\u001b[0m \u001b[0mX\u001b[0m\u001b[0;34m.\u001b[0m\u001b[0mshape\u001b[0m\u001b[0;34m\u001b[0m\u001b[0m\n\u001b[1;32m   5578\u001b[0m         \u001b[0mX\u001b[0m \u001b[0;34m=\u001b[0m \u001b[0mX\u001b[0m\u001b[0;34m.\u001b[0m\u001b[0mravel\u001b[0m\u001b[0;34m(\u001b[0m\u001b[0;34m)\u001b[0m\u001b[0;34m\u001b[0m\u001b[0m\n",
      "\u001b[0;32m~/miniconda2/envs/xarrays/lib/python3.6/site-packages/matplotlib/axes/_axes.py\u001b[0m in \u001b[0;36m_pcolorargs\u001b[0;34m(funcname, *args, **kw)\u001b[0m\n\u001b[1;32m   5195\u001b[0m         \u001b[0;32melse\u001b[0m\u001b[0;34m:\u001b[0m\u001b[0;34m\u001b[0m\u001b[0m\n\u001b[1;32m   5196\u001b[0m             raise TypeError(\n\u001b[0;32m-> 5197\u001b[0;31m                 'Illegal arguments to %s; see help(%s)' % (funcname, funcname))\n\u001b[0m\u001b[1;32m   5198\u001b[0m \u001b[0;34m\u001b[0m\u001b[0m\n\u001b[1;32m   5199\u001b[0m         \u001b[0mNx\u001b[0m \u001b[0;34m=\u001b[0m \u001b[0mX\u001b[0m\u001b[0;34m.\u001b[0m\u001b[0mshape\u001b[0m\u001b[0;34m[\u001b[0m\u001b[0;34m-\u001b[0m\u001b[0;36m1\u001b[0m\u001b[0;34m]\u001b[0m\u001b[0;34m\u001b[0m\u001b[0m\n",
      "\u001b[0;31mTypeError\u001b[0m: Illegal arguments to pcolormesh; see help(pcolormesh)"
     ]
    },
    {
     "data": {
      "image/png": "[encoded data removed]",
      "text/plain": [
       "<matplotlib.figure.Figure at 0x1109319e8>"
      ]
     },
     "metadata": {},
     "output_type": "display_data"
    }
   ],
   "source": [
    "plt.pcolormesh(data['xh'], data['yh'])\n",
    "plt.colorbar()"
   ]
  },
  {
   "cell_type": "code",
   "execution_count": null,
   "metadata": {},
   "outputs": [],
   "source": []
  }
 ],
 "metadata": {
  "kernelspec": {
   "display_name": "Python [conda env:grids]",
   "language": "python",
   "name": "conda-env-grids-py"
  },
  "language_info": {
   "codemirror_mode": {
    "name": "ipython",
    "version": 2
   },
   "file_extension": ".py",
   "mimetype": "text/x-python",
   "name": "python",
   "nbconvert_exporter": "python",
   "pygments_lexer": "ipython2",
   "version": "2.7.14"
  }
 },
 "nbformat": 4,
 "nbformat_minor": 2
}
