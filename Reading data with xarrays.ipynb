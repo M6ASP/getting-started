{
 "cells": [
  {
   "cell_type": "markdown",
   "metadata": {},
   "source": [
    "# Reading Data with xarrays"
   ]
  },
  {
   "cell_type": "markdown",
   "metadata": {},
   "source": [
    "## Helpful link(s)\n",
    "- Tutorial on xarrays: http://xarray.pydata.org/en/stable/"
   ]
  },
  {
   "cell_type": "markdown",
   "metadata": {},
   "source": [
    "### Environment installation\n",
    "`conda create -n xarrays python=3.6 numpy scipy matplotlib jupyter nb_conda_kernels xarray`\n",
    "\n",
    "Remember to change the kernel to that of the created environment.\n",
    "\n",
    "As always, we first run `%pylab inline` to embed figures into the notebook. Additionally, we `import` the `h5netcdf` package to let us import the file."
   ]
  },
  {
   "cell_type": "code",
   "execution_count": 1,
   "metadata": {},
   "outputs": [
    {
     "name": "stdout",
     "output_type": "stream",
     "text": [
      "Populating the interactive namespace from numpy and matplotlib\n"
     ]
    }
   ],
   "source": [
    "%pylab inline\n",
    "import xarray"
   ]
  },
  {
   "cell_type": "markdown",
   "metadata": {
    "collapsed": true
   },
   "source": [
    "## Inputting the Data\n",
    "We read the HDF5 file by calling the `File` function from h5netcdf. "
   ]
  },
  {
   "cell_type": "code",
   "execution_count": 25,
   "metadata": {},
   "outputs": [],
   "source": [
    "hcf = h5netcdf.File('example_data/WOA13_annual_SST_nc4.nc', 'r')"
   ]
  },
  {
   "cell_type": "markdown",
   "metadata": {},
   "source": [
    "### Hiccups along the way\n",
    "\n",
    "There were quite a many repeated issues of the form: `OSError: Unable to read attribute (no appropriate function for conversion path)` where the data apparently had keys that were part of the `_HIDDEN_ATTRS` and would therefore fail since errors would be raised. As a result of this, I was unable to call `hcf`, `hcf.attrs`, `hcf[var].attrs`, etc. This took me quite a while to get around.\n",
    "\n",
    "I found two GitHub issues on this particular error with reading attributes, but they weren't all that helpful to me. Including them in case they're helpful for future reference since both involved netCDF4 files created by Xarray.\n",
    "- https://github.com/h5py/h5py/issues/719 \n",
    "- https://github.com/shoyer/h5netcdf/issues/16"
   ]
  },
  {
   "cell_type": "markdown",
   "metadata": {},
   "source": [
    "### Initial attempts to get useful information out of the file\n",
    "\n",
    "`hcf.dimensions` was something I found on the test file (linked above). However, trying to do things like `hcf.groups` and `hcf.variables` gave me Frozen LazyObjectLookup objects? I was quite confused as to what that was. I saw in the `core.py` file that I could iterate with the following code:\n",
    "\n",
    "`for name in hcf.variables.__iter__():\n",
    "      print(hcf.variables.__getitem__(name))`\n",
    "\n",
    "However, this again ran into the same OSError about being unable to read attributes."
   ]
  },
  {
   "cell_type": "code",
   "execution_count": 27,
   "metadata": {},
   "outputs": [
    {
     "data": {
      "text/plain": [
       "<h5netcdf.Dimensions: lon=360, depth=102, lat=180, nbounds=2>"
      ]
     },
     "execution_count": 27,
     "metadata": {},
     "output_type": "execute_result"
    }
   ],
   "source": [
    "hcf.dimensions"
   ]
  },
  {
   "cell_type": "code",
   "execution_count": 5,
   "metadata": {},
   "outputs": [
    {
     "data": {
      "text/plain": [
       "Frozen(<h5netcdf.core._LazyObjectLookup object at 0x1062a7400>)"
      ]
     },
     "execution_count": 5,
     "metadata": {},
     "output_type": "execute_result"
    }
   ],
   "source": [
    "hcf.groups"
   ]
  },
  {
   "cell_type": "code",
   "execution_count": 28,
   "metadata": {},
   "outputs": [
    {
     "data": {
      "text/plain": [
       "Frozen(<h5netcdf.core._LazyObjectLookup object at 0x106310048>)"
      ]
     },
     "execution_count": 28,
     "metadata": {},
     "output_type": "execute_result"
    }
   ],
   "source": [
    "hcf.variables"
   ]
  },
  {
   "cell_type": "markdown",
   "metadata": {},
   "source": [
    "### Importing modules from h5netcdf\n",
    "I did the following imports that I saw in the `core.py` when I was encountering issues with the OSError mentioned previously. While I don't think that necessarily helped resolve anything, I kept them here in case they might become useful later on."
   ]
  },
  {
   "cell_type": "code",
   "execution_count": 30,
   "metadata": {},
   "outputs": [],
   "source": [
    "from h5netcdf.compat import ChainMap, OrderedDict, unicode\n",
    "from h5netcdf.attrs import Attributes\n",
    "from h5netcdf.dimensions import Dimensions\n",
    "from h5netcdf.utils import Frozen"
   ]
  },
  {
   "cell_type": "markdown",
   "metadata": {},
   "source": [
    "## Successful Retrieval of Variable Attributes\n",
    "\n",
    "After many attempts to implement get the attributes unsuccessfully (mostly because most of the class methods I was calling relied on the asserts in `Attributes` that kept failing. Instead, I went to the source code in `attrs.py` and created attributes out of each of the variables. I then used `.__iter__()` to get the actual attributes."
   ]
  },
  {
   "cell_type": "code",
   "execution_count": 101,
   "metadata": {},
   "outputs": [
    {
     "name": "stdout",
     "output_type": "stream",
     "text": [
      "<h5netcdf.Variable '/lat': dimensions ('lat',), shape (180,), dtype float32> \n",
      "---\n",
      "long_name: \n",
      "axis: \n",
      "standard_name: \n",
      "bounds: \n",
      "units: \n",
      "\n",
      "<h5netcdf.Variable '/lon': dimensions ('lon',), shape (360,), dtype float32> \n",
      "---\n",
      "long_name: \n",
      "axis: \n",
      "standard_name: \n",
      "bounds: \n",
      "units: \n",
      "\n",
      "<h5netcdf.Variable '/tos': dimensions ('lat', 'lon'), shape (180, 360), dtype float32> \n",
      "---\n",
      "standard_name: \n",
      "long_name: \n",
      "coordinates: \n",
      "cell_methods: \n",
      "grid_mapping: \n",
      "units: \n",
      "_FillValue: [9.96921e+36]\n",
      "\n",
      "\n"
     ]
    }
   ],
   "source": [
    "for var in hcf.variables:\n",
    "#     print(var + \"\\n---\")\n",
    "    print(print_header(hcf[var]), \"\\n---\")\n",
    "    attributes = Attributes(hcf[var]._h5ds.attrs, hcf[var]._root._check_valid_netcdf_dtype)\n",
    "    \n",
    "### Again, the line below produces the OSError\n",
    "#     print(attributes.items())\n",
    "\n",
    "    for item in attributes.__iter__():\n",
    "        print(item, end=': ')\n",
    "        \n",
    "        # The only time this worked was for the fill value... Again, running into that OSError\n",
    "        try:\n",
    "            print(attributes.__getitem__(item))\n",
    "        except:\n",
    "            pass\n",
    "        print()\n",
    "    print()\n",
    "    \n",
    "### Other non-working code\n",
    "#     print(hcf[var].attrs)\n",
    "#     print(hcf[var]._root._check_valid_netcdf_dtype)\n",
    "#     print(Attributes(hcf[var]._h5ds.attrs, hcf[var]._root._check_valid_netcdf_dtype))"
   ]
  },
  {
   "cell_type": "markdown",
   "metadata": {},
   "source": [
    "Helper function to print header information about dimensions, shapes, and dtype. Taken directly from `def __repr__(self)` from `core.py` but modified so that we don't run into OSErrors with the attributes."
   ]
  },
  {
   "cell_type": "code",
   "execution_count": 102,
   "metadata": {},
   "outputs": [],
   "source": [
    "def print_header(var):\n",
    "    if var._parent._root._closed:\n",
    "        print('<Closed %s>' % self._cls_name)\n",
    "    header = ('<%s %r: dimensions %s, shape %s, dtype %s>' %\n",
    "              (var._cls_name, var.name, var.dimensions, var.shape,\n",
    "               var.dtype))\n",
    "    return('\\n'.join([header]))"
   ]
  },
  {
   "cell_type": "code",
   "execution_count": 103,
   "metadata": {},
   "outputs": [],
   "source": [
    "### This also doesn't work because of the OSError\n",
    "\n",
    "# for k, v in hcf.variables.items():\n",
    "#     print(k)\n",
    "#     print(v)\n",
    "\n",
    "### Other nonworking testing code \n",
    "# print(v._h5ds())\n",
    "# print(hcf['lat']._h5ds['units'])"
   ]
  },
  {
   "cell_type": "code",
   "execution_count": 104,
   "metadata": {},
   "outputs": [],
   "source": [
    "### Sanity checked code\n",
    "\n",
    "# import netCDF4\n",
    "# for item in hcf.variables.__iter__():\n",
    "#     print(item)\n",
    "# #     print(hcf.variables)\n",
    "\n",
    "# print(type(hcf))\n",
    "# print(\"netCDF4 version:\", netCDF4.__version__)"
   ]
  },
  {
   "cell_type": "markdown",
   "metadata": {},
   "source": [
    "### Other miscellaneous testing code"
   ]
  },
  {
   "cell_type": "code",
   "execution_count": 107,
   "metadata": {
    "scrolled": true
   },
   "outputs": [
    {
     "data": {
      "text/plain": [
       "<generator object _LazyObjectLookup.__iter__ at 0x109884f68>"
      ]
     },
     "execution_count": 107,
     "metadata": {},
     "output_type": "execute_result"
    }
   ],
   "source": [
    "hcf.variables.__iter__()"
   ]
  },
  {
   "cell_type": "code",
   "execution_count": 108,
   "metadata": {},
   "outputs": [
    {
     "data": {
      "text/plain": [
       "<generator object _LazyObjectLookup.__iter__ at 0x1098849e8>"
      ]
     },
     "execution_count": 108,
     "metadata": {},
     "output_type": "execute_result"
    }
   ],
   "source": [
    "hcf.groups.__iter__()\n"
   ]
  },
  {
   "cell_type": "code",
   "execution_count": 109,
   "metadata": {},
   "outputs": [
    {
     "data": {
      "text/plain": [
       "'Frozen(<h5netcdf.core._LazyObjectLookup object at 0x106310048>)'"
      ]
     },
     "execution_count": 109,
     "metadata": {},
     "output_type": "execute_result"
    }
   ],
   "source": [
    "hcf.variables.__repr__()"
   ]
  },
  {
   "cell_type": "code",
   "execution_count": 121,
   "metadata": {},
   "outputs": [],
   "source": [
    "lat = hcf.variables['lat']\n",
    "lon = hcf.variables['lon']\n",
    "tos = hcf.variables['tos']"
   ]
  },
  {
   "cell_type": "markdown",
   "metadata": {},
   "source": [
    "Because sea surface temperature is irrelevant to our land masses, we will mask the hidden values and plot the map again so that the coloring excludes the continents."
   ]
  },
  {
   "cell_type": "code",
   "execution_count": 124,
   "metadata": {},
   "outputs": [],
   "source": [
    "# helper function for masking arrays with missing values\n",
    "def maskArray(handle):\n",
    "    attr = Attributes(handle._h5ds.attrs, handle._root._check_valid_netcdf_dtype)\n",
    "    fill_val = attr.__getitem__('_FillValue')\n",
    "\n",
    "    return numpy.ma.array(handle[:], mask=(handle[:] == fill_val))"
   ]
  },
  {
   "cell_type": "code",
   "execution_count": 125,
   "metadata": {},
   "outputs": [],
   "source": [
    "masked = maskArray(tos)"
   ]
  },
  {
   "cell_type": "code",
   "execution_count": 127,
   "metadata": {},
   "outputs": [
    {
     "data": {
      "image/png": "[encoded data removed]",
      "text/plain": [
       "<matplotlib.figure.Figure at 0x113899208>"
      ]
     },
     "metadata": {},
     "output_type": "display_data"
    }
   ],
   "source": [
    "plt.pcolormesh( masked )\n",
    "plt.colorbar();\n",
    "\n",
    "plt.title('Sea Surface Temperature Map');\n",
    "plt.xlabel('longitude (degrees_east)');\n",
    "plt.ylabel('latitude (degrees_west)');\n",
    "\n",
    "### Issues again with accessing attributes. Temporarily hardcoded in the names\n",
    "# plt.title(tos.long_name);\n",
    "# plt.xlabel('%s (%s)' %(lon.long_name, lon.units));\n",
    "# plt.ylabel('%s (%s)' %(lat.long_name, lat.units));"
   ]
  }
 ],
 "metadata": {
  "kernelspec": {
   "display_name": "Python [conda env:xarrays]",
   "language": "python",
   "name": "conda-env-xarrays-py"
  },
  "language_info": {
   "codemirror_mode": {
    "name": "ipython",
    "version": 3
   },
   "file_extension": ".py",
   "mimetype": "text/x-python",
   "name": "python",
   "nbconvert_exporter": "python",
   "pygments_lexer": "ipython3",
   "version": "3.6.4"
  }
 },
 "nbformat": 4,
 "nbformat_minor": 2
}
