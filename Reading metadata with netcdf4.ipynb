{
 "cells": [
  {
   "cell_type": "markdown",
   "metadata": {},
   "source": [
    "# Reading metadata with netCDF4\n",
    "\n",
    "**Link to documentation:** http://unidata.github.io/netcdf4-python/\n",
    "**Link to netCDF4 plot tutorial:** https://github.com/M6ASP/getting-started/blob/master/Reading%20data%20with%20netCDF4.ipynb\n",
    "\n",
    "### Environment installation\n",
    "\n",
    "`conda create -n nc4 python=3.6 jupyter nb_conda_kernels numpy scipy matplotlib netcdf4`\n",
    "\n",
    "Remember to change the kernel in the dropdown menu in Jupyter notebook to that of the newly created environment.\n",
    "\n",
    "As always, we first run `%pylab inline` to embed figures into the notebook. Additionally, we `import` the `scipy.io.netcdf4` package to let us import data from another file."
   ]
  },
  {
   "cell_type": "code",
   "execution_count": 1,
   "metadata": {},
   "outputs": [
    {
     "name": "stdout",
     "output_type": "stream",
     "text": [
      "Populating the interactive namespace from numpy and matplotlib\n"
     ]
    }
   ],
   "source": [
    "%pylab inline\n",
    "import netCDF4"
   ]
  },
  {
   "cell_type": "markdown",
   "metadata": {
    "collapsed": true
   },
   "source": [
    "## Understanding the Dataset\n",
    "We read the dataset using the `Dataset` function from netCDF4. It is interesting to note that the variables here include all of the metadata that were previously accessed through looping through each variables' `._attributes`.\n",
    "\n",
    "Information on how to do that with netcdf is here as well as descriptions of metadata is here: https://github.com/M6ASP/getting-started/blob/master/Reading%20data%20with%20scipy.io.netcdf.ipynb"
   ]
  },
  {
   "cell_type": "code",
   "execution_count": 2,
   "metadata": {},
   "outputs": [],
   "source": [
    "from netCDF4 import Dataset\n",
    "ncf = Dataset('example_data/WOA13_annual_SST_nc3_classic.nc', \"r\", format=\"NetCDF4\")"
   ]
  },
  {
   "cell_type": "markdown",
   "metadata": {},
   "source": [
    "### An Overview of the Dataset\n",
    "\n",
    "We can see that all the global metadata associated with ncf as representing the file as a netCDF4 dataset allows us to see all of this information upfront. For example, we see that the convention number is specified here- something that may be of importance to using netCDF4 in conjunction to other modules. While the majority of the information here are strings (e.g. summary, geospatial_lat_units, publisher_name, etc.), there are also quantitative measures present (e.g. geospatial_lat_min, geospatial_vertical_max, etc.) that represent that minimum and maximum values for latitutde and longitude.\n",
    "\n",
    "Especially when first examining the data, netcdf4 makes it simple for us to glean important information at a high level. "
   ]
  },
  {
   "cell_type": "code",
   "execution_count": 3,
   "metadata": {},
   "outputs": [
    {
     "data": {
      "text/plain": [
       "<class 'netCDF4._netCDF4.Dataset'>\n",
       "root group (NETCDF3_CLASSIC data model, file format NETCDF3):\n",
       "    Conventions: CF-1.6\n",
       "    title: World Ocean Atlas 2013 version 2 : sea_surface_temperature Annual 1.00 degree\n",
       "    summary: Climatological mean temperature for the global ocean from in situ profile data\n",
       "    references: Locarnini, R. A., A. V. Mishonov, J. I. Antonov, T. P. Boyer, H. E. Garcia, O. K. Baranova, M. M. Zweng, C. R. Paver, J. R. Reagan,D. R. Johnson, M. Hamilton, and D. Seidov , 2013: World Ocean Atlas 2013, Volume 1: Temperature. S. Levitus, Ed., A. Mishonov technical editor, NOAA Atlas NESDIS 73.\n",
       "    institution: National Oceanographic Data Center(NODC)\n",
       "    comment: global climatology as part of the World Ocean Atlas project\n",
       "    id: woa13_decav_t00_01.ncv2.0\n",
       "    naming_authority: gov.noaa.nodc\n",
       "    standard_name_vocabulary: NetCDF Climate and Forecast (CF) Metadata Convention Standard Name Table v29\n",
       "    sea_name: World-Wide Distribution\n",
       "    time_coverage_start: 0000-01-01\n",
       "    time_coverage_duration: P01Y\n",
       "    time_coverage_resolution: P01Y\n",
       "    geospatial_lat_min: -90.0\n",
       "    geospatial_lat_max: 90.0\n",
       "    geospatial_lon_min: -180.0\n",
       "    geospatial_lon_max: 180.0\n",
       "    geospatial_vertical_min: 0.0\n",
       "    geospatial_vertical_max: 5500.0\n",
       "    geospatial_lat_units: degrees_north\n",
       "    geospatial_lat_resolution: 1.00 degrees\n",
       "    geospatial_lon_units: degrees_east\n",
       "    geospatial_lon_resolution: 1.00 degrees\n",
       "    geospatial_vertical_units: m\n",
       "    geospatial_vertical_positive: down\n",
       "    creator_name: Ocean Climate Laboratory\n",
       "    creator_email: NODC.Services@noaa.gov\n",
       "    creator_url: http://www.nodc.noaa.gov\n",
       "    project: World Ocean Atlas\n",
       "    processing_level: processed\n",
       "    keywords: <ISO_TOPIC_Category> Oceans</ISO_TOPIC_Category>\n",
       "    keywords_vocabulary: ISO 19115\n",
       "    contributor_name: Ocean Climate Laboratory\n",
       "    contributor_role: Calculation of climatologies\n",
       "    cdm_data_type: Grid\n",
       "    publisher_name: National Oceanographic Data Center\n",
       "    publisher_url: http://www.nodc.noaa.gov/\n",
       "    publisher_email: NODC.Services@noaa.gov\n",
       "    nodc_template_version: NODC_NetCDF_Grid_Template_v1.0\n",
       "    license: These data are openly available to the public. Please acknowledge the use of these data with the text given in the acknowledgment attribute.\n",
       "    Metadata_Conventions: Unidata Dataset Discovery v1.0\n",
       "    metadata_link: http://www.nodc.noaa.gov/OC5/WOA13/pr_woa13.html\n",
       "    date_created: 2011-09-28 \n",
       "    date_modified: 2011-09-28 \n",
       "    dimensions(sizes): depth(102), lat(180), lon(360), nbounds(2)\n",
       "    variables(dimensions): float32 \u001b[4mlat\u001b[0m(lat), float32 \u001b[4mlon\u001b[0m(lon), float32 \u001b[4mtos\u001b[0m(lat,lon)\n",
       "    groups: "
      ]
     },
     "execution_count": 3,
     "metadata": {},
     "output_type": "execute_result"
    }
   ],
   "source": [
    "ncf"
   ]
  },
  {
   "cell_type": "markdown",
   "metadata": {},
   "source": [
    "### Variables\n",
    "\n",
    "The variables in the dataset are actually written in the dataset display from above. To get a more in depth view of what each of the variables in the dataset represent, we can run the cell block below to see the ordered dictionary that contains the variables.\n",
    "\n",
    "We see that there are three variables: `lat`, `lon` and `tos`, representing latitude, longitude, and sea surface temperature respectively. We see each variable's datatype as well as callable attributes that will later be used when accessing more specific information as well as plotting (https://github.com/M6ASP/getting-started/blob/master/Reading%20data%20with%20netCDF4.ipynb)."
   ]
  },
  {
   "cell_type": "code",
   "execution_count": 16,
   "metadata": {},
   "outputs": [
    {
     "data": {
      "text/plain": [
       "OrderedDict([('lat', <class 'netCDF4._netCDF4.Variable'>\n",
       "              float32 lat(lat)\n",
       "                  standard_name: latitude\n",
       "                  long_name: latitude\n",
       "                  units: degrees_north\n",
       "                  axis: Y\n",
       "                  bounds: lat_bnds\n",
       "              unlimited dimensions: \n",
       "              current shape = (180,)\n",
       "              filling off), ('lon', <class 'netCDF4._netCDF4.Variable'>\n",
       "              float32 lon(lon)\n",
       "                  standard_name: longitude\n",
       "                  long_name: longitude\n",
       "                  units: degrees_east\n",
       "                  axis: X\n",
       "                  bounds: lon_bnds\n",
       "              unlimited dimensions: \n",
       "              current shape = (360,)\n",
       "              filling off), ('tos', <class 'netCDF4._netCDF4.Variable'>\n",
       "              float32 tos(lat, lon)\n",
       "                  standard_name: sea_surface_temperature\n",
       "                  long_name: Objectively analyzed mean fields for sea_surface_temperature at standard depth levels.\n",
       "                  coordinates: time lat lon depth\n",
       "                  cell_methods: area: mean depth: mean time: mean\n",
       "                  grid_mapping: crs\n",
       "                  units: degrees_celsius\n",
       "                  _FillValue: 9.96921e+36\n",
       "              unlimited dimensions: \n",
       "              current shape = (180, 360)\n",
       "              filling off)])"
      ]
     },
     "execution_count": 16,
     "metadata": {},
     "output_type": "execute_result"
    }
   ],
   "source": [
    "ncf.variables"
   ]
  },
  {
   "cell_type": "markdown",
   "metadata": {},
   "source": [
    "We can also look at individual variables and assign variables to them to make accessing the data easier."
   ]
  },
  {
   "cell_type": "code",
   "execution_count": 8,
   "metadata": {},
   "outputs": [
    {
     "data": {
      "text/plain": [
       "<class 'netCDF4._netCDF4.Variable'>\n",
       "float32 tos(lat, lon)\n",
       "    standard_name: sea_surface_temperature\n",
       "    long_name: Objectively analyzed mean fields for sea_surface_temperature at standard depth levels.\n",
       "    coordinates: time lat lon depth\n",
       "    cell_methods: area: mean depth: mean time: mean\n",
       "    grid_mapping: crs\n",
       "    units: degrees_celsius\n",
       "    _FillValue: 9.96921e+36\n",
       "unlimited dimensions: \n",
       "current shape = (180, 360)\n",
       "filling off"
      ]
     },
     "execution_count": 8,
     "metadata": {},
     "output_type": "execute_result"
    }
   ],
   "source": [
    "tos = ncf.variables['tos']\n",
    "tos"
   ]
  },
  {
   "cell_type": "markdown",
   "metadata": {},
   "source": [
    "### Accessing variable attributes\n",
    "\n",
    "We can access the attributes from above. From the `current shape` of `tos`, we know that it is an array. To access the data in the array, we can do an empty array slice to get the array data."
   ]
  },
  {
   "cell_type": "code",
   "execution_count": 13,
   "metadata": {},
   "outputs": [
    {
     "name": "stdout",
     "output_type": "stream",
     "text": [
      "Standard name: sea_surface_temperature\n",
      "Units: degrees_celsius\n",
      "Array data: [[-- -- -- ... -- -- --]\n",
      " [-- -- -- ... -- -- --]\n",
      " [-- -- -- ... -- -- --]\n",
      " ...\n",
      " [-1.5491100549697876 -1.5532100200653076 -1.5553100109100342 ...\n",
      "  -1.5446100234985352 -1.5458099842071533 -1.546910047531128]\n",
      " [-1.5583100318908691 -1.5600099563598633 -1.561110019683838 ...\n",
      "  -1.5565099716186523 -1.5568000078201294 -1.5574100017547607]\n",
      " [-1.5742100477218628 -1.5742100477218628 -1.5742100477218628 ...\n",
      "  -1.5742100477218628 -1.5742100477218628 -1.5742100477218628]]\n"
     ]
    }
   ],
   "source": [
    "print(\"Standard name:\", tos.standard_name)\n",
    "print(\"Units:\", tos.units)\n",
    "print(\"Array data:\", tos[:])"
   ]
  },
  {
   "cell_type": "markdown",
   "metadata": {},
   "source": [
    "Additionally, if we just look at `tos[:]`, we also see that netCDF4 has already masked the `_FillValue`s for us already as it is a `masked_array`."
   ]
  },
  {
   "cell_type": "code",
   "execution_count": 14,
   "metadata": {},
   "outputs": [
    {
     "data": {
      "text/plain": [
       "masked_array(\n",
       "  data=[[--, --, --, ..., --, --, --],\n",
       "        [--, --, --, ..., --, --, --],\n",
       "        [--, --, --, ..., --, --, --],\n",
       "        ...,\n",
       "        [-1.5491100549697876, -1.5532100200653076, -1.5553100109100342,\n",
       "         ..., -1.5446100234985352, -1.5458099842071533,\n",
       "         -1.546910047531128],\n",
       "        [-1.5583100318908691, -1.5600099563598633, -1.561110019683838,\n",
       "         ..., -1.5565099716186523, -1.5568000078201294,\n",
       "         -1.5574100017547607],\n",
       "        [-1.5742100477218628, -1.5742100477218628, -1.5742100477218628,\n",
       "         ..., -1.5742100477218628, -1.5742100477218628,\n",
       "         -1.5742100477218628]],\n",
       "  mask=[[ True,  True,  True, ...,  True,  True,  True],\n",
       "        [ True,  True,  True, ...,  True,  True,  True],\n",
       "        [ True,  True,  True, ...,  True,  True,  True],\n",
       "        ...,\n",
       "        [False, False, False, ..., False, False, False],\n",
       "        [False, False, False, ..., False, False, False],\n",
       "        [False, False, False, ..., False, False, False]],\n",
       "  fill_value=9.96921e+36,\n",
       "  dtype=float32)"
      ]
     },
     "execution_count": 14,
     "metadata": {},
     "output_type": "execute_result"
    }
   ],
   "source": [
    "tos[:]"
   ]
  }
 ],
 "metadata": {
  "kernelspec": {
   "display_name": "Python [conda env:test]",
   "language": "python",
   "name": "conda-env-test-py"
  },
  "language_info": {
   "codemirror_mode": {
    "name": "ipython",
    "version": 3
   },
   "file_extension": ".py",
   "mimetype": "text/x-python",
   "name": "python",
   "nbconvert_exporter": "python",
   "pygments_lexer": "ipython3",
   "version": "3.6.4"
  }
 },
 "nbformat": 4,
 "nbformat_minor": 2
}
