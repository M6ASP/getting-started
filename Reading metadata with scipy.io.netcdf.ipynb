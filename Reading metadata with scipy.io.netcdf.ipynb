{
 "cells": [
  {
   "cell_type": "markdown",
   "metadata": {
    "nbpresent": {
     "id": "c49d21e3-8b8a-4f96-8b6e-94fe357a43ec"
    }
   },
   "source": [
    "# Reading metadata with scipy.io.netcdf"
   ]
  },
  {
   "cell_type": "markdown",
   "metadata": {
    "nbpresent": {
     "id": "e07195cb-4650-469c-8e38-1449179161b8"
    }
   },
   "source": [
    "In this section, we discuss how to read metadata with scipy.io.netcdf.\n",
    "\n",
    "Link to scipy.io.netcdf plot tutorial: https://github.com/M6ASP/getting-started/blob/master/Reading%20data%20with%20scipy.io.netcdf.ipynb\n",
    "\n",
    "As always, we first run `%pylab inline` to embed figures into the notebook. Additionally, we `import` the `scipy.io.netcdf` package to let us import data from another file."
   ]
  },
  {
   "cell_type": "code",
   "execution_count": 1,
   "metadata": {
    "nbpresent": {
     "id": "ec0a3b94-2cdb-4041-832f-a75602380e53"
    }
   },
   "outputs": [
    {
     "name": "stdout",
     "output_type": "stream",
     "text": [
      "Populating the interactive namespace from numpy and matplotlib\n"
     ]
    }
   ],
   "source": [
    "%pylab inline\n",
    "import scipy.io.netcdf"
   ]
  },
  {
   "cell_type": "markdown",
   "metadata": {
    "nbpresent": {
     "id": "afa4c153-2e40-4aa5-a491-6e90a9c588c8"
    }
   },
   "source": [
    "## Reading the File"
   ]
  },
  {
   "cell_type": "markdown",
   "metadata": {
    "nbpresent": {
     "id": "46cf920e-ebc9-47b0-81a9-1090a3697ed8"
    }
   },
   "source": [
    "We use the function `scipy.io.netcdf_file` to input data from a destined file to a variable, or handle, that will store the data."
   ]
  },
  {
   "cell_type": "code",
   "execution_count": 4,
   "metadata": {
    "nbpresent": {
     "id": "dbc6de57-721c-4456-9b1b-23e594edf4d4"
    }
   },
   "outputs": [],
   "source": [
    "ncf = scipy.io.netcdf_file('example_data/WOA13_annual_SST_nc3_classic.nc')"
   ]
  },
  {
   "cell_type": "markdown",
   "metadata": {},
   "source": [
    "Unfortunately, when we run the code block below, we only see that `ncf` is a `netcdf_file`. On the contrary, netCDF4 clearly displays the contents of the object (https://github.com/M6ASP/getting-started/blob/master/Reading%20metadata%20with%20netcdf4.ipynb)."
   ]
  },
  {
   "cell_type": "markdown",
   "metadata": {},
   "source": [
    "## Getting File Attributes"
   ]
  },
  {
   "cell_type": "code",
   "execution_count": 6,
   "metadata": {},
   "outputs": [
    {
     "data": {
      "text/plain": [
       "<scipy.io.netcdf.netcdf_file at 0x113818ad0>"
      ]
     },
     "execution_count": 6,
     "metadata": {},
     "output_type": "execute_result"
    }
   ],
   "source": [
    "ncf"
   ]
  },
  {
   "cell_type": "markdown",
   "metadata": {},
   "source": [
    "However, we can see all the information of `ncf` by calling `__dict__`. Below, we see that the information displayed below is almost identical to what we see when displaying `ncf` with netCDF4 (https://github.com/M6ASP/getting-started/blob/master/Reading%20metadata%20with%20netcdf4.ipynb)."
   ]
  },
  {
   "cell_type": "code",
   "execution_count": 9,
   "metadata": {},
   "outputs": [
    {
     "data": {
      "text/plain": [
       "{'Conventions': 'CF-1.6',\n",
       " 'Metadata_Conventions': 'Unidata Dataset Discovery v1.0',\n",
       " '_attributes': OrderedDict([('Conventions', 'CF-1.6'),\n",
       "              ('title',\n",
       "               'World Ocean Atlas 2013 version 2 : sea_surface_temperature Annual 1.00 degree'),\n",
       "              ('summary',\n",
       "               'Climatological mean temperature for the global ocean from in situ profile data'),\n",
       "              ('references',\n",
       "               'Locarnini, R. A., A. V. Mishonov, J. I. Antonov, T. P. Boyer, H. E. Garcia, O. K. Baranova, M. M. Zweng, C. R. Paver, J. R. Reagan,D. R. Johnson, M. Hamilton, and D. Seidov , 2013: World Ocean Atlas 2013, Volume 1: Temperature. S. Levitus, Ed., A. Mishonov technical editor, NOAA Atlas NESDIS 73.'),\n",
       "              ('institution', 'National Oceanographic Data Center(NODC)'),\n",
       "              ('comment',\n",
       "               'global climatology as part of the World Ocean Atlas project'),\n",
       "              ('id', 'woa13_decav_t00_01.ncv2.0'),\n",
       "              ('naming_authority', 'gov.noaa.nodc'),\n",
       "              ('standard_name_vocabulary',\n",
       "               'NetCDF Climate and Forecast (CF) Metadata Convention Standard Name Table v29'),\n",
       "              ('sea_name', 'World-Wide Distribution'),\n",
       "              ('time_coverage_start', '0000-01-01'),\n",
       "              ('time_coverage_duration', 'P01Y'),\n",
       "              ('time_coverage_resolution', 'P01Y'),\n",
       "              ('geospatial_lat_min', -90.0),\n",
       "              ('geospatial_lat_max', 90.0),\n",
       "              ('geospatial_lon_min', -180.0),\n",
       "              ('geospatial_lon_max', 180.0),\n",
       "              ('geospatial_vertical_min', 0.0),\n",
       "              ('geospatial_vertical_max', 5500.0),\n",
       "              ('geospatial_lat_units', 'degrees_north'),\n",
       "              ('geospatial_lat_resolution', '1.00 degrees'),\n",
       "              ('geospatial_lon_units', 'degrees_east'),\n",
       "              ('geospatial_lon_resolution', '1.00 degrees'),\n",
       "              ('geospatial_vertical_units', 'm'),\n",
       "              ('geospatial_vertical_positive', 'down'),\n",
       "              ('creator_name', 'Ocean Climate Laboratory'),\n",
       "              ('creator_email', 'NODC.Services@noaa.gov'),\n",
       "              ('creator_url', 'http://www.nodc.noaa.gov'),\n",
       "              ('project', 'World Ocean Atlas'),\n",
       "              ('processing_level', 'processed'),\n",
       "              ('keywords', '<ISO_TOPIC_Category> Oceans</ISO_TOPIC_Category>'),\n",
       "              ('keywords_vocabulary', 'ISO 19115'),\n",
       "              ('contributor_name', 'Ocean Climate Laboratory'),\n",
       "              ('contributor_role', 'Calculation of climatologies'),\n",
       "              ('cdm_data_type', 'Grid'),\n",
       "              ('publisher_name', 'National Oceanographic Data Center'),\n",
       "              ('publisher_url', 'http://www.nodc.noaa.gov/'),\n",
       "              ('publisher_email', 'NODC.Services@noaa.gov'),\n",
       "              ('nodc_template_version', 'NODC_NetCDF_Grid_Template_v1.0'),\n",
       "              ('license',\n",
       "               'These data are openly available to the public. Please acknowledge the use of these data with the text given in the acknowledgment attribute.'),\n",
       "              ('Metadata_Conventions', 'Unidata Dataset Discovery v1.0'),\n",
       "              ('metadata_link',\n",
       "               'http://www.nodc.noaa.gov/OC5/WOA13/pr_woa13.html'),\n",
       "              ('date_created', '2011-09-28 '),\n",
       "              ('date_modified', '2011-09-28 ')]),\n",
       " '_dims': ['depth', 'lat', 'lon', 'nbounds'],\n",
       " '_mm': <mmap.mmap at 0x11380c110>,\n",
       " '_mm_buf': array([ 67,  68,  70, ..., -55, 127, -73], dtype=int8),\n",
       " '_recs': 0,\n",
       " '_recsize': 0,\n",
       " 'cdm_data_type': 'Grid',\n",
       " 'comment': 'global climatology as part of the World Ocean Atlas project',\n",
       " 'contributor_name': 'Ocean Climate Laboratory',\n",
       " 'contributor_role': 'Calculation of climatologies',\n",
       " 'creator_email': 'NODC.Services@noaa.gov',\n",
       " 'creator_name': 'Ocean Climate Laboratory',\n",
       " 'creator_url': 'http://www.nodc.noaa.gov',\n",
       " 'date_created': '2011-09-28 ',\n",
       " 'date_modified': '2011-09-28 ',\n",
       " 'dimensions': OrderedDict([('depth', 102),\n",
       "              ('lat', 180),\n",
       "              ('lon', 360),\n",
       "              ('nbounds', 2)]),\n",
       " 'filename': 'example_data/WOA13_annual_SST_nc3_classic.nc',\n",
       " 'fp': <open file 'example_data/WOA13_annual_SST_nc3_classic.nc', mode 'rb' at 0x11378c6f0>,\n",
       " 'geospatial_lat_max': 90.0,\n",
       " 'geospatial_lat_min': -90.0,\n",
       " 'geospatial_lat_resolution': '1.00 degrees',\n",
       " 'geospatial_lat_units': 'degrees_north',\n",
       " 'geospatial_lon_max': 180.0,\n",
       " 'geospatial_lon_min': -180.0,\n",
       " 'geospatial_lon_resolution': '1.00 degrees',\n",
       " 'geospatial_lon_units': 'degrees_east',\n",
       " 'geospatial_vertical_max': 5500.0,\n",
       " 'geospatial_vertical_min': 0.0,\n",
       " 'geospatial_vertical_positive': 'down',\n",
       " 'geospatial_vertical_units': 'm',\n",
       " 'id': 'woa13_decav_t00_01.ncv2.0',\n",
       " 'institution': 'National Oceanographic Data Center(NODC)',\n",
       " 'keywords': '<ISO_TOPIC_Category> Oceans</ISO_TOPIC_Category>',\n",
       " 'keywords_vocabulary': 'ISO 19115',\n",
       " 'license': 'These data are openly available to the public. Please acknowledge the use of these data with the text given in the acknowledgment attribute.',\n",
       " 'maskandscale': False,\n",
       " 'metadata_link': 'http://www.nodc.noaa.gov/OC5/WOA13/pr_woa13.html',\n",
       " 'mode': 'r',\n",
       " 'naming_authority': 'gov.noaa.nodc',\n",
       " 'nodc_template_version': 'NODC_NetCDF_Grid_Template_v1.0',\n",
       " 'processing_level': 'processed',\n",
       " 'project': 'World Ocean Atlas',\n",
       " 'publisher_email': 'NODC.Services@noaa.gov',\n",
       " 'publisher_name': 'National Oceanographic Data Center',\n",
       " 'publisher_url': 'http://www.nodc.noaa.gov/',\n",
       " 'references': 'Locarnini, R. A., A. V. Mishonov, J. I. Antonov, T. P. Boyer, H. E. Garcia, O. K. Baranova, M. M. Zweng, C. R. Paver, J. R. Reagan,D. R. Johnson, M. Hamilton, and D. Seidov , 2013: World Ocean Atlas 2013, Volume 1: Temperature. S. Levitus, Ed., A. Mishonov technical editor, NOAA Atlas NESDIS 73.',\n",
       " 'sea_name': 'World-Wide Distribution',\n",
       " 'standard_name_vocabulary': 'NetCDF Climate and Forecast (CF) Metadata Convention Standard Name Table v29',\n",
       " 'summary': 'Climatological mean temperature for the global ocean from in situ profile data',\n",
       " 'time_coverage_duration': 'P01Y',\n",
       " 'time_coverage_resolution': 'P01Y',\n",
       " 'time_coverage_start': '0000-01-01',\n",
       " 'title': 'World Ocean Atlas 2013 version 2 : sea_surface_temperature Annual 1.00 degree',\n",
       " 'use_mmap': True,\n",
       " 'variables': OrderedDict([('lat',\n",
       "               <scipy.io.netcdf.netcdf_variable at 0x1138bdf90>),\n",
       "              ('lon', <scipy.io.netcdf.netcdf_variable at 0x113818590>),\n",
       "              ('tos', <scipy.io.netcdf.netcdf_variable at 0x1138cd050>)]),\n",
       " 'version_byte': 1}"
      ]
     },
     "execution_count": 9,
     "metadata": {},
     "output_type": "execute_result"
    }
   ],
   "source": [
    "ncf.__dict__"
   ]
  },
  {
   "cell_type": "markdown",
   "metadata": {},
   "source": [
    "For a slightly more concise view of relevant attributes, we can call `_attributes`."
   ]
  },
  {
   "cell_type": "code",
   "execution_count": 10,
   "metadata": {},
   "outputs": [
    {
     "data": {
      "text/plain": [
       "OrderedDict([('Conventions', 'CF-1.6'),\n",
       "             ('title',\n",
       "              'World Ocean Atlas 2013 version 2 : sea_surface_temperature Annual 1.00 degree'),\n",
       "             ('summary',\n",
       "              'Climatological mean temperature for the global ocean from in situ profile data'),\n",
       "             ('references',\n",
       "              'Locarnini, R. A., A. V. Mishonov, J. I. Antonov, T. P. Boyer, H. E. Garcia, O. K. Baranova, M. M. Zweng, C. R. Paver, J. R. Reagan,D. R. Johnson, M. Hamilton, and D. Seidov , 2013: World Ocean Atlas 2013, Volume 1: Temperature. S. Levitus, Ed., A. Mishonov technical editor, NOAA Atlas NESDIS 73.'),\n",
       "             ('institution', 'National Oceanographic Data Center(NODC)'),\n",
       "             ('comment',\n",
       "              'global climatology as part of the World Ocean Atlas project'),\n",
       "             ('id', 'woa13_decav_t00_01.ncv2.0'),\n",
       "             ('naming_authority', 'gov.noaa.nodc'),\n",
       "             ('standard_name_vocabulary',\n",
       "              'NetCDF Climate and Forecast (CF) Metadata Convention Standard Name Table v29'),\n",
       "             ('sea_name', 'World-Wide Distribution'),\n",
       "             ('time_coverage_start', '0000-01-01'),\n",
       "             ('time_coverage_duration', 'P01Y'),\n",
       "             ('time_coverage_resolution', 'P01Y'),\n",
       "             ('geospatial_lat_min', -90.0),\n",
       "             ('geospatial_lat_max', 90.0),\n",
       "             ('geospatial_lon_min', -180.0),\n",
       "             ('geospatial_lon_max', 180.0),\n",
       "             ('geospatial_vertical_min', 0.0),\n",
       "             ('geospatial_vertical_max', 5500.0),\n",
       "             ('geospatial_lat_units', 'degrees_north'),\n",
       "             ('geospatial_lat_resolution', '1.00 degrees'),\n",
       "             ('geospatial_lon_units', 'degrees_east'),\n",
       "             ('geospatial_lon_resolution', '1.00 degrees'),\n",
       "             ('geospatial_vertical_units', 'm'),\n",
       "             ('geospatial_vertical_positive', 'down'),\n",
       "             ('creator_name', 'Ocean Climate Laboratory'),\n",
       "             ('creator_email', 'NODC.Services@noaa.gov'),\n",
       "             ('creator_url', 'http://www.nodc.noaa.gov'),\n",
       "             ('project', 'World Ocean Atlas'),\n",
       "             ('processing_level', 'processed'),\n",
       "             ('keywords', '<ISO_TOPIC_Category> Oceans</ISO_TOPIC_Category>'),\n",
       "             ('keywords_vocabulary', 'ISO 19115'),\n",
       "             ('contributor_name', 'Ocean Climate Laboratory'),\n",
       "             ('contributor_role', 'Calculation of climatologies'),\n",
       "             ('cdm_data_type', 'Grid'),\n",
       "             ('publisher_name', 'National Oceanographic Data Center'),\n",
       "             ('publisher_url', 'http://www.nodc.noaa.gov/'),\n",
       "             ('publisher_email', 'NODC.Services@noaa.gov'),\n",
       "             ('nodc_template_version', 'NODC_NetCDF_Grid_Template_v1.0'),\n",
       "             ('license',\n",
       "              'These data are openly available to the public. Please acknowledge the use of these data with the text given in the acknowledgment attribute.'),\n",
       "             ('Metadata_Conventions', 'Unidata Dataset Discovery v1.0'),\n",
       "             ('metadata_link',\n",
       "              'http://www.nodc.noaa.gov/OC5/WOA13/pr_woa13.html'),\n",
       "             ('date_created', '2011-09-28 '),\n",
       "             ('date_modified', '2011-09-28 ')])"
      ]
     },
     "execution_count": 10,
     "metadata": {},
     "output_type": "execute_result"
    }
   ],
   "source": [
    "ncf._attributes"
   ]
  },
  {
   "cell_type": "markdown",
   "metadata": {},
   "source": [
    "## Reading Variables from File"
   ]
  },
  {
   "cell_type": "markdown",
   "metadata": {},
   "source": [
    "To see the variables, we can simply call `variables`."
   ]
  },
  {
   "cell_type": "code",
   "execution_count": 11,
   "metadata": {},
   "outputs": [
    {
     "data": {
      "text/plain": [
       "OrderedDict([('lat', <scipy.io.netcdf.netcdf_variable at 0x1138bdf90>),\n",
       "             ('lon', <scipy.io.netcdf.netcdf_variable at 0x113818590>),\n",
       "             ('tos', <scipy.io.netcdf.netcdf_variable at 0x1138cd050>)])"
      ]
     },
     "execution_count": 11,
     "metadata": {},
     "output_type": "execute_result"
    }
   ],
   "source": [
    "ncf.variables"
   ]
  },
  {
   "cell_type": "markdown",
   "metadata": {
    "nbpresent": {
     "id": "83af3908-0a69-47ba-bf0e-42cb707f1fd7"
    }
   },
   "source": [
    "To make things a bit more concise, we will create local copies of the variables."
   ]
  },
  {
   "cell_type": "code",
   "execution_count": 12,
   "metadata": {
    "nbpresent": {
     "id": "86eee88a-0cb1-4ef0-be49-bbc476194f72"
    }
   },
   "outputs": [],
   "source": [
    "lat = ncf.variables['lat']\n",
    "lon = ncf.variables['lon']\n",
    "tos = ncf.variables['tos']"
   ]
  },
  {
   "cell_type": "markdown",
   "metadata": {
    "nbpresent": {
     "id": "d4d4a710-6b60-4895-8796-7da62f55c246"
    }
   },
   "source": [
    "### Getting all attributes from each handle\n",
    "We use the built in `_attributes` method to access all the attributes of each of the variables. Below is the output of all the attributes for lat, lon, and tos.\n",
    "\n",
    "To get all object attributes displayed in full, replace `var._attributes` with `var.__dict__`"
   ]
  },
  {
   "cell_type": "code",
   "execution_count": 13,
   "metadata": {
    "nbpresent": {
     "id": "29684793-54e2-42de-af54-bcea9308a072"
    }
   },
   "outputs": [
    {
     "name": "stdout",
     "output_type": "stream",
     "text": [
      "('lat', 'dimensions =', ('lat',))\n",
      "('lat.standard_name=', 'latitude')\n",
      "('lat.long_name=', 'latitude')\n",
      "('lat.units=', 'degrees_north')\n",
      "('lat.axis=', 'Y')\n",
      "('lat.bounds=', 'lat_bnds')\n",
      "('lon', 'dimensions =', ('lon',))\n",
      "('lon.standard_name=', 'longitude')\n",
      "('lon.long_name=', 'longitude')\n",
      "('lon.units=', 'degrees_east')\n",
      "('lon.axis=', 'X')\n",
      "('lon.bounds=', 'lon_bnds')\n",
      "('tos', 'dimensions =', ('lat', 'lon'))\n",
      "('tos.standard_name=', 'sea_surface_temperature')\n",
      "('tos.long_name=', 'Objectively analyzed mean fields for sea_surface_temperature at standard depth levels.')\n",
      "('tos.coordinates=', 'time lat lon depth')\n",
      "('tos.cell_methods=', 'area: mean depth: mean time: mean')\n",
      "('tos.grid_mapping=', 'crs')\n",
      "('tos.units=', 'degrees_celsius')\n",
      "('tos._FillValue=', 9.96921e+36)\n"
     ]
    }
   ],
   "source": [
    "for var in ncf.variables:\n",
    "    print(var, 'dimensions =', ncf.variables[var].dimensions)\n",
    "    for attr in ncf.variables[var]._attributes:\n",
    "        print('%s.%s='%(var, attr), ncf.variables[var]._attributes[attr] )"
   ]
  },
  {
   "cell_type": "markdown",
   "metadata": {
    "nbpresent": {
     "id": "67c6cf3f-2dfc-4c30-ac51-27e62712e6c6"
    }
   },
   "source": [
    "## Variable Metadata\n",
    "The metadata is \"data that provides other information about other data\". In this case the metadata for each latitude, longitude, and sea surface temperature is listed under each of them below. We see that the metadata gives us specific attributes of these variables that we can then access. From the metadata, we are able to get more specific information about the variables. For example, we see that sea surface temperature has coordinates measured in time, latitude, longitude, and depth. \n",
    "\n",
    "### Latitude (lat)\n",
    "- standard_name: latitude\n",
    "- long_name: latitude\n",
    "- units: degrees_north\n",
    "- axis: Y\n",
    "- bounds: lat_bnds\n",
    "\n",
    "### Longitude (lon)\n",
    "- standard_name: longitude\n",
    "- long_name: longitude\n",
    "- units: degrees_east\n",
    "- axis: X\n",
    "- bounds: lon_bnds\n",
    "\n",
    "### Sea Surface Temperature (tos)\n",
    "- standard_name: sea_surface_temperature\n",
    "- long_name: Objectively analyzed mean fields for sea_surface_temperature at standard depth levels.\n",
    "- coordinates: time lat lon depth\n",
    "- cell_methods: \n",
    "  * area: mean depth\n",
    "  * mean time: mean\n",
    "- grid_mapping: crs\n",
    "- units: degrees_celsius\n",
    "- _fillValue: 9.96921e+36\n",
    "\n",
    "We will include some examples of accessing various variable metadata below:"
   ]
  },
  {
   "cell_type": "code",
   "execution_count": 5,
   "metadata": {
    "nbpresent": {
     "id": "9d910a26-1a16-4fba-9197-2aded1480080"
    }
   },
   "outputs": [
    {
     "name": "stdout",
     "output_type": "stream",
     "text": [
      "('Sea Surface Temperature units: ', 'degrees_celsius')\n",
      "('Sea Surface Temperature coordinates: ', 'time lat lon depth')\n",
      "('Latitude axis: ', 'Y')\n",
      "('Longitude axis: ', 'X')\n"
     ]
    }
   ],
   "source": [
    "print('Sea Surface Temperature units: ', tos.units)\n",
    "print('Sea Surface Temperature coordinates: ', tos.coordinates)\n",
    "print('Latitude axis: ', lat.axis)\n",
    "print('Longitude axis: ', lon.axis)"
   ]
  },
  {
   "cell_type": "markdown",
   "metadata": {
    "nbpresent": {
     "id": "b9eb0cf9-8c4e-4334-af6e-d8d127baa9ee"
    }
   },
   "source": [
    "We can similarly access other metadata by calling any of the other attributes listed above for the appropriate variable. For information on plotting this data, reference: https://github.com/M6ASP/getting-started/blob/master/Reading%20data%20with%20scipy.io.netcdf.ipynb"
   ]
  }
 ],
 "metadata": {
  "kernelspec": {
   "display_name": "Python [conda env:Py2]",
   "language": "python",
   "name": "conda-env-Py2-py"
  },
  "language_info": {
   "codemirror_mode": {
    "name": "ipython",
    "version": 2
   },
   "file_extension": ".py",
   "mimetype": "text/x-python",
   "name": "python",
   "nbconvert_exporter": "python",
   "pygments_lexer": "ipython2",
   "version": "2.7.14"
  }
 },
 "nbformat": 4,
 "nbformat_minor": 2
}
